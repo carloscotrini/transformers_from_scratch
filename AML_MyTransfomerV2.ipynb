{
  "nbformat": 4,
  "nbformat_minor": 0,
  "metadata": {
    "colab": {
      "provenance": [],
      "authorship_tag": "ABX9TyN+aCWfYMp8qpaq4YnwHhgP",
      "include_colab_link": true
    },
    "kernelspec": {
      "name": "python3",
      "display_name": "Python 3"
    },
    "language_info": {
      "name": "python"
    }
  },
  "cells": [
    {
      "cell_type": "markdown",
      "metadata": {
        "id": "view-in-github",
        "colab_type": "text"
      },
      "source": [
        "<a href=\"https://colab.research.google.com/github/carloscotrini/transformers_from_scratch/blob/main/AML_MyTransfomerV2.ipynb\" target=\"_parent\"><img src=\"https://colab.research.google.com/assets/colab-badge.svg\" alt=\"Open In Colab\"/></a>"
      ]
    },
    {
      "cell_type": "code",
      "execution_count": 80,
      "metadata": {
        "colab": {
          "base_uri": "https://localhost:8080/"
        },
        "id": "7GWhXikQiMT2",
        "outputId": "5e9b9e56-63f7-495f-9c77-8e0f352d35aa"
      },
      "outputs": [
        {
          "output_type": "stream",
          "name": "stdout",
          "text": [
            "one triangle\n",
            "triangle after circle\n",
            "one triangle then two triangles\n",
            "circle after circle then one triangle\n",
            "a triangle\n",
            "a circle\n",
            "circle after circle\n",
            "one circle and circle after triangle then one circle\n",
            "one circle then one triangle and one circle\n",
            "triangle after triangle and one circle then one circle\n",
            "a triangle\n",
            "triangle after circle\n",
            "circle after triangle\n",
            "circle after circle then circle after circle\n",
            "two triangles\n",
            "triangle after circle and one circle\n",
            "circle after circle and circle after circle\n",
            "a triangle then circle after circle then a circle\n",
            "a triangle and one circle then triangle after triangle\n",
            "one circle\n",
            "one circle and triangle after triangle\n",
            "one triangle\n",
            "a circle then one triangle\n",
            "triangle after circle and a triangle\n",
            "a circle\n",
            "two triangles\n",
            "triangle after triangle then one circle\n",
            "one circle then circle after triangle and one circle\n",
            "triangle after triangle and one circle\n",
            "circle after triangle\n",
            "one triangle\n",
            "circle after triangle then one triangle then a triangle\n",
            "circle after circle and a circle\n",
            "one circle and one circle\n",
            "a circle then circle after circle\n",
            "one circle\n",
            "a triangle and triangle after triangle then one triangle\n",
            "triangle after circle then one circle\n",
            "a circle\n",
            "triangle after circle then one circle and a triangle\n",
            "triangle after triangle and triangle after triangle\n",
            "a triangle\n",
            "triangle after circle\n",
            "triangle after triangle and a circle\n",
            "a circle\n",
            "two triangles\n",
            "one circle\n",
            "circle after triangle then one triangle\n",
            "one triangle\n",
            "a circle then circle after triangle and one circle\n",
            "circle after circle and a circle\n",
            "circle after circle\n",
            "circle after circle then one circle\n",
            "a circle and one triangle and a circle\n",
            "circle after triangle and one circle\n",
            "one circle and triangle after triangle\n",
            "circle after triangle then a triangle\n",
            "circle after circle\n",
            "a triangle\n",
            "triangle after triangle then one triangle then one triangle\n",
            "a triangle\n",
            "two triangles\n",
            "one circle then one circle and a triangle and one triangle\n",
            "one circle and two triangles\n",
            "one triangle and triangle after circle\n",
            "one circle then a circle and one triangle and one circle\n",
            "triangle after circle and a circle\n",
            "one circle and a triangle and one triangle\n",
            "one circle then circle after circle and one triangle\n",
            "triangle after circle and circle after triangle\n",
            "circle after triangle and one triangle and a circle\n",
            "one triangle\n",
            "one triangle and circle after circle and one circle\n",
            "one circle\n",
            "circle after triangle then one triangle\n",
            "triangle after triangle and circle after circle\n",
            "a circle then circle after triangle and a circle\n",
            "two triangles\n",
            "a triangle then one circle and one triangle\n",
            "one circle and two triangles\n",
            "circle after circle then one circle then a triangle\n",
            "a circle\n",
            "circle after circle\n",
            "triangle after triangle and one circle and one circle\n",
            "circle after triangle\n",
            "two triangles\n",
            "a circle then one triangle and one triangle and a triangle\n",
            "two triangles\n",
            "triangle after triangle then triangle after circle\n",
            "circle after circle and circle after triangle\n",
            "triangle after triangle then one circle\n",
            "triangle after triangle\n",
            "a circle\n",
            "a triangle\n",
            "two circles\n",
            "one circle then circle after triangle\n",
            "one circle and circle after triangle then a circle\n",
            "one circle then two triangles\n",
            "circle after circle then circle after triangle\n",
            "one circle\n"
          ]
        }
      ],
      "source": [
        "import random\n",
        "\n",
        "SHAPES = [\"triangle\", \"circle\"]\n",
        "PLURALS = [shape + \"s\" for shape in SHAPES]\n",
        "ARTICLES = [\"a\", \"one\"]\n",
        "TWO_ARTICLES = [\"two\"]\n",
        "CONNECTORS = [\"and\", \"then\"]\n",
        "REVERSE_CONNECTORS = [\"after\"]\n",
        "CLASS_TOKEN = \"CLS\"\n",
        "MASK_TOKEN = \"MASK\"\n",
        "SEP_TOKEN = \"SEP\"\n",
        "PAD_TOKEN = \"PAD\"\n",
        "EOS_TOKEN = \"EOS\"\n",
        "SPECIAL_TOKENS = [CLASS_TOKEN, MASK_TOKEN, SEP_TOKEN, PAD_TOKEN, EOS_TOKEN]\n",
        "VOCABULARY = SHAPES + PLURALS + ARTICLES + CONNECTORS + REVERSE_CONNECTORS + TWO_ARTICLES + SPECIAL_TOKENS\n",
        "MAX_LEN_SENTENCE = 16 # Maximum possible length of a sequence\n",
        "\n",
        "def generate_descr_from_list(r):\n",
        "  if len(r) > 4:\n",
        "    raise Exception(\"Too many items\")\n",
        "  elif len(r) == 0:\n",
        "    return \"\"\n",
        "  elif len(r) == 1:\n",
        "    article = random.choice(ARTICLES)\n",
        "    return \"{} {}\".format(article, r[0])\n",
        "  else:\n",
        "    reversed_descr = random.random() > 0.5\n",
        "    if reversed_descr:\n",
        "      descr = \"{} {} {}\".format(r[1], random.choice(REVERSE_CONNECTORS), r[0])\n",
        "      if len(r) > 2:\n",
        "        return descr + \" \" + random.choice(CONNECTORS) + \" \" + generate_descr_from_list(r[2:])\n",
        "      return descr\n",
        "    if r[0] == r[1]:\n",
        "      plural_desc = random.random() > 0.5\n",
        "      if plural_desc:\n",
        "          return \"{} {}s\".format(random.choice(TWO_ARTICLES), r[0])\n",
        "    return generate_descr_from_list([r[0]]) + \" \" + random.choice(CONNECTORS) + \" \" + generate_descr_from_list(r[1:])\n",
        "\n",
        "\n",
        "def generate_random_shapes():\n",
        "  num_shapes = random.randint(1, 4)\n",
        "  result = []\n",
        "  for _ in range(num_shapes):\n",
        "    result.append(random.choice(SHAPES))\n",
        "  return result\n",
        "\n",
        "\n",
        "for i in range(100):\n",
        "  print(generate_descr_from_list(generate_random_shapes()))\n",
        "\n"
      ]
    },
    {
      "cell_type": "code",
      "source": [
        "import numpy as np\n",
        "import matplotlib.pyplot as plt\n",
        "from PIL import Image, ImageDraw\n",
        "import random\n",
        "\n",
        "def generate_image(word_list, filename):\n",
        "    # Create a blank 32x32 image\n",
        "    image_size = 32\n",
        "    patch_size = 16\n",
        "    image = Image.new(\"1\", (image_size, image_size), 1)  # '1' for 1-bit pixels, black and white\n",
        "\n",
        "    for i, word in enumerate(word_list):\n",
        "        if word not in [\"triangle\", \"circle\"]:\n",
        "            continue\n",
        "\n",
        "        # Determine the top-left corner of the patch\n",
        "        x_offset = (i % 2) * patch_size\n",
        "        y_offset = (i // 2) * patch_size\n",
        "\n",
        "        # Draw the shape in the corresponding patch\n",
        "        draw = ImageDraw.Draw(image)\n",
        "        if word == \"triangle\":\n",
        "            points = [(random.randint(x_offset, x_offset + patch_size), random.randint(y_offset, y_offset + patch_size)) for _ in range(3)]\n",
        "            draw.polygon(points, fill=0)\n",
        "        elif word == \"circle\":\n",
        "            radius = random.randint(2, patch_size // 2)\n",
        "            center_x = random.randint(x_offset + radius, x_offset + patch_size - radius)\n",
        "            center_y = random.randint(y_offset + radius, y_offset + patch_size - radius)\n",
        "            draw.ellipse([center_x - radius, center_y - radius, center_x + radius, center_y + radius], fill=0)\n",
        "\n",
        "    # Save the image to the specified filename\n",
        "    image.save(filename)\n",
        "\n",
        "def plot_image(filename):\n",
        "    # Open the image\n",
        "    image = Image.open(filename)\n",
        "\n",
        "    # Convert the image to a NumPy array\n",
        "    image_array = np.array(image)\n",
        "\n",
        "    # Plot the image\n",
        "    plt.imshow(image_array)\n",
        "    plt.axis('off')  # Turn off axis labels\n",
        "    plt.show()\n",
        "\n",
        "# Example usage:\n",
        "generate_image([\"circle\", \"triangle\", \"circle\"], \"output_image.png\")\n"
      ],
      "metadata": {
        "id": "wTQhOfTfnv11"
      },
      "execution_count": 81,
      "outputs": []
    },
    {
      "cell_type": "code",
      "source": [
        "NUMBER_CODES = [str(i) for i in range(5)]\n",
        "SHAPE_CODES = [shape[0] for shape in SHAPES]\n",
        "CODES = NUMBER_CODES + SHAPE_CODES\n",
        "CODE_VOCABULARY = SPECIAL_TOKENS + CODES\n",
        "\n",
        "def generate_code_str(shape_list):\n",
        "  codes = []\n",
        "  i = 0\n",
        "  while i < len(shape_list):\n",
        "    j = i + 1\n",
        "    while j < len(shape_list) and shape_list[i] == shape_list[j]:\n",
        "      j += 1\n",
        "    codes.append(f\"{NUMBER_CODES[j-i]} {shape_list[i][0]}\")\n",
        "    i = j\n",
        "  return \" \".join(codes)"
      ],
      "metadata": {
        "id": "fKuFwFcvmroH"
      },
      "execution_count": 82,
      "outputs": []
    },
    {
      "cell_type": "code",
      "source": [
        "# Generate 100 random shape lists\n",
        "shape_lists = [generate_random_shapes() for _ in range(100)]\n",
        "code_lists = list(map(generate_code_str, shape_lists))\n",
        "descriptions = []\n",
        "\n",
        "# Generate descriptions and images for each shape list\n",
        "for i, shape_list in enumerate(shape_lists):\n",
        "  description = generate_descr_from_list(shape_list)\n",
        "  descriptions.append(description)\n",
        "  print(shape_list)\n",
        "  print(description)\n",
        "  print(code_lists[i])\n",
        "  generate_image(shape_list, f\"f{i}.png\")\n",
        "  plot_image(f\"f{i}.png\")\n"
      ],
      "metadata": {
        "colab": {
          "base_uri": "https://localhost:8080/",
          "height": 1000
        },
        "id": "VvfchFGDpLHC",
        "outputId": "3536d502-1897-4314-e6e1-091660d0cff7"
      },
      "execution_count": 83,
      "outputs": [
        {
          "output_type": "stream",
          "name": "stdout",
          "text": [
            "['triangle', 'triangle', 'circle', 'circle']\n",
            "one triangle then one triangle then two circles\n",
            "2 t 2 c\n"
          ]
        },
        {
          "output_type": "display_data",
          "data": {
            "text/plain": [
              "<Figure size 640x480 with 1 Axes>"
            ],
            "image/png": "[encoded data removed]"
          },
          "metadata": {}
        },
        {
          "output_type": "stream",
          "name": "stdout",
          "text": [
            "['circle', 'triangle', 'triangle']\n",
            "triangle after circle and one triangle\n",
            "1 c 2 t\n"
          ]
        },
        {
          "output_type": "display_data",
          "data": {
            "text/plain": [
              "<Figure size 640x480 with 1 Axes>"
            ],
            "image/png": "[encoded data removed]"
          },
          "metadata": {}
        },
        {
          "output_type": "stream",
          "name": "stdout",
          "text": [
            "['circle', 'circle', 'circle']\n",
            "circle after circle and a circle\n",
            "3 c\n"
          ]
        },
        {
          "output_type": "display_data",
          "data": {
            "text/plain": [
              "<Figure size 640x480 with 1 Axes>"
            ],
            "image/png": "[encoded data removed]"
          },
          "metadata": {}
        },
        {
          "output_type": "stream",
          "name": "stdout",
          "text": [
            "['triangle', 'triangle']\n",
            "two triangles\n",
            "2 t\n"
          ]
        },
        {
          "output_type": "display_data",
          "data": {
            "text/plain": [
              "<Figure size 640x480 with 1 Axes>"
            ],
            "image/png": "[encoded data removed]"
          },
          "metadata": {}
        },
        {
          "output_type": "stream",
          "name": "stdout",
          "text": [
            "['circle', 'circle']\n",
            "circle after circle\n",
            "2 c\n"
          ]
        },
        {
          "output_type": "display_data",
          "data": {
            "text/plain": [
              "<Figure size 640x480 with 1 Axes>"
            ],
            "image/png": "[encoded data removed]"
          },
          "metadata": {}
        },
        {
          "output_type": "stream",
          "name": "stdout",
          "text": [
            "['circle']\n",
            "a circle\n",
            "1 c\n"
          ]
        },
        {
          "output_type": "display_data",
          "data": {
            "text/plain": [
              "<Figure size 640x480 with 1 Axes>"
            ],
            "image/png": "[encoded data removed]"
          },
          "metadata": {}
        },
        {
          "output_type": "stream",
          "name": "stdout",
          "text": [
            "['circle', 'triangle', 'circle']\n",
            "a circle and circle after triangle\n",
            "1 c 1 t 1 c\n"
          ]
        },
        {
          "output_type": "display_data",
          "data": {
            "text/plain": [
              "<Figure size 640x480 with 1 Axes>"
            ],
            "image/png": "[encoded data removed]"
          },
          "metadata": {}
        },
        {
          "output_type": "stream",
          "name": "stdout",
          "text": [
            "['triangle', 'triangle', 'triangle', 'triangle']\n",
            "triangle after triangle and triangle after triangle\n",
            "4 t\n"
          ]
        },
        {
          "output_type": "display_data",
          "data": {
            "text/plain": [
              "<Figure size 640x480 with 1 Axes>"
            ],
            "image/png": "[encoded data removed]"
          },
          "metadata": {}
        },
        {
          "output_type": "stream",
          "name": "stdout",
          "text": [
            "['triangle', 'circle', 'triangle', 'circle']\n",
            "a triangle and one circle and circle after triangle\n",
            "1 t 1 c 1 t 1 c\n"
          ]
        },
        {
          "output_type": "display_data",
          "data": {
            "text/plain": [
              "<Figure size 640x480 with 1 Axes>"
            ],
            "image/png": "[encoded data removed]"
          },
          "metadata": {}
        },
        {
          "output_type": "stream",
          "name": "stdout",
          "text": [
            "['triangle', 'circle', 'circle']\n",
            "circle after triangle then one circle\n",
            "1 t 2 c\n"
          ]
        },
        {
          "output_type": "display_data",
          "data": {
            "text/plain": [
              "<Figure size 640x480 with 1 Axes>"
            ],
            "image/png": "[encoded data removed]"
          },
          "metadata": {}
        },
        {
          "output_type": "stream",
          "name": "stdout",
          "text": [
            "['triangle', 'circle']\n",
            "circle after triangle\n",
            "1 t 1 c\n"
          ]
        },
        {
          "output_type": "display_data",
          "data": {
            "text/plain": [
              "<Figure size 640x480 with 1 Axes>"
            ],
            "image/png": "[encoded data removed]"
          },
          "metadata": {}
        },
        {
          "output_type": "stream",
          "name": "stdout",
          "text": [
            "['triangle', 'triangle']\n",
            "one triangle and a triangle\n",
            "2 t\n"
          ]
        },
        {
          "output_type": "display_data",
          "data": {
            "text/plain": [
              "<Figure size 640x480 with 1 Axes>"
            ],
            "image/png": "[encoded data removed]"
          },
          "metadata": {}
        },
        {
          "output_type": "stream",
          "name": "stdout",
          "text": [
            "['triangle', 'circle']\n",
            "a triangle and one circle\n",
            "1 t 1 c\n"
          ]
        },
        {
          "output_type": "display_data",
          "data": {
            "text/plain": [
              "<Figure size 640x480 with 1 Axes>"
            ],
            "image/png": "[encoded data removed]"
          },
          "metadata": {}
        },
        {
          "output_type": "stream",
          "name": "stdout",
          "text": [
            "['circle']\n",
            "one circle\n",
            "1 c\n"
          ]
        },
        {
          "output_type": "display_data",
          "data": {
            "text/plain": [
              "<Figure size 640x480 with 1 Axes>"
            ],
            "image/png": "[encoded data removed]"
          },
          "metadata": {}
        },
        {
          "output_type": "stream",
          "name": "stdout",
          "text": [
            "['circle', 'triangle', 'triangle']\n",
            "triangle after circle then a triangle\n",
            "1 c 2 t\n"
          ]
        },
        {
          "output_type": "display_data",
          "data": {
            "text/plain": [
              "<Figure size 640x480 with 1 Axes>"
            ],
            "image/png": "[encoded data removed]"
          },
          "metadata": {}
        },
        {
          "output_type": "stream",
          "name": "stdout",
          "text": [
            "['circle']\n",
            "a circle\n",
            "1 c\n"
          ]
        },
        {
          "output_type": "display_data",
          "data": {
            "text/plain": [
              "<Figure size 640x480 with 1 Axes>"
            ],
            "image/png": "[encoded data removed]"
          },
          "metadata": {}
        },
        {
          "output_type": "stream",
          "name": "stdout",
          "text": [
            "['circle', 'circle', 'circle', 'triangle']\n",
            "circle after circle then triangle after circle\n",
            "3 c 1 t\n"
          ]
        },
        {
          "output_type": "display_data",
          "data": {
            "text/plain": [
              "<Figure size 640x480 with 1 Axes>"
            ],
            "image/png": "[encoded data removed]"
          },
          "metadata": {}
        },
        {
          "output_type": "stream",
          "name": "stdout",
          "text": [
            "['circle', 'triangle']\n",
            "triangle after circle\n",
            "1 c 1 t\n"
          ]
        },
        {
          "output_type": "display_data",
          "data": {
            "text/plain": [
              "<Figure size 640x480 with 1 Axes>"
            ],
            "image/png": "[encoded data removed]"
          },
          "metadata": {}
        },
        {
          "output_type": "stream",
          "name": "stdout",
          "text": [
            "['circle', 'circle', 'triangle', 'triangle']\n",
            "a circle then triangle after circle and one triangle\n",
            "2 c 2 t\n"
          ]
        },
        {
          "output_type": "display_data",
          "data": {
            "text/plain": [
              "<Figure size 640x480 with 1 Axes>"
            ],
            "image/png": "[encoded data removed]"
          },
          "metadata": {}
        },
        {
          "output_type": "stream",
          "name": "stdout",
          "text": [
            "['circle', 'triangle']\n",
            "one circle then one triangle\n",
            "1 c 1 t\n"
          ]
        },
        {
          "output_type": "display_data",
          "data": {
            "text/plain": [
              "<Figure size 640x480 with 1 Axes>"
            ],
            "image/png": "[encoded data removed]"
          },
          "metadata": {}
        },
        {
          "output_type": "stream",
          "name": "stdout",
          "text": [
            "['triangle']\n",
            "a triangle\n",
            "1 t\n"
          ]
        },
        {
          "output_type": "display_data",
          "data": {
            "text/plain": [
              "<Figure size 640x480 with 1 Axes>"
            ],
            "image/png": "[encoded data removed]"
          },
          "metadata": {}
        },
        {
          "output_type": "stream",
          "name": "stdout",
          "text": [
            "['triangle', 'triangle', 'circle']\n",
            "triangle after triangle then one circle\n",
            "2 t 1 c\n"
          ]
        },
        {
          "output_type": "display_data",
          "data": {
            "text/plain": [
              "<Figure size 640x480 with 1 Axes>"
            ],
            "image/png": "[encoded data removed]"
          },
          "metadata": {}
        },
        {
          "output_type": "stream",
          "name": "stdout",
          "text": [
            "['circle', 'circle']\n",
            "circle after circle\n",
            "2 c\n"
          ]
        },
        {
          "output_type": "display_data",
          "data": {
            "text/plain": [
              "<Figure size 640x480 with 1 Axes>"
            ],
            "image/png": "[encoded data removed]"
          },
          "metadata": {}
        },
        {
          "output_type": "stream",
          "name": "stdout",
          "text": [
            "['circle']\n",
            "one circle\n",
            "1 c\n"
          ]
        },
        {
          "output_type": "display_data",
          "data": {
            "text/plain": [
              "<Figure size 640x480 with 1 Axes>"
            ],
            "image/png": "[encoded data removed]"
          },
          "metadata": {}
        },
        {
          "output_type": "stream",
          "name": "stdout",
          "text": [
            "['circle', 'triangle']\n",
            "a circle and one triangle\n",
            "1 c 1 t\n"
          ]
        },
        {
          "output_type": "display_data",
          "data": {
            "text/plain": [
              "<Figure size 640x480 with 1 Axes>"
            ],
            "image/png": "[encoded data removed]"
          },
          "metadata": {}
        },
        {
          "output_type": "stream",
          "name": "stdout",
          "text": [
            "['triangle', 'triangle', 'triangle']\n",
            "triangle after triangle then a triangle\n",
            "3 t\n"
          ]
        },
        {
          "output_type": "display_data",
          "data": {
            "text/plain": [
              "<Figure size 640x480 with 1 Axes>"
            ],
            "image/png": "[encoded data removed]"
          },
          "metadata": {}
        },
        {
          "output_type": "stream",
          "name": "stdout",
          "text": [
            "['circle', 'triangle']\n",
            "one circle then one triangle\n",
            "1 c 1 t\n"
          ]
        },
        {
          "output_type": "display_data",
          "data": {
            "text/plain": [
              "<Figure size 640x480 with 1 Axes>"
            ],
            "image/png": "[encoded data removed]"
          },
          "metadata": {}
        },
        {
          "output_type": "stream",
          "name": "stdout",
          "text": [
            "['triangle']\n",
            "one triangle\n",
            "1 t\n"
          ]
        },
        {
          "output_type": "display_data",
          "data": {
            "text/plain": [
              "<Figure size 640x480 with 1 Axes>"
            ],
            "image/png": "[encoded data removed]"
          },
          "metadata": {}
        },
        {
          "output_type": "stream",
          "name": "stdout",
          "text": [
            "['circle']\n",
            "one circle\n",
            "1 c\n"
          ]
        },
        {
          "output_type": "display_data",
          "data": {
            "text/plain": [
              "<Figure size 640x480 with 1 Axes>"
            ],
            "image/png": "[encoded data removed]"
          },
          "metadata": {}
        },
        {
          "output_type": "stream",
          "name": "stdout",
          "text": [
            "['circle', 'triangle']\n",
            "a circle and a triangle\n",
            "1 c 1 t\n"
          ]
        },
        {
          "output_type": "display_data",
          "data": {
            "text/plain": [
              "<Figure size 640x480 with 1 Axes>"
            ],
            "image/png": "[encoded data removed]"
          },
          "metadata": {}
        },
        {
          "output_type": "stream",
          "name": "stdout",
          "text": [
            "['circle', 'circle', 'circle', 'triangle']\n",
            "one circle then one circle and triangle after circle\n",
            "3 c 1 t\n"
          ]
        },
        {
          "output_type": "display_data",
          "data": {
            "text/plain": [
              "<Figure size 640x480 with 1 Axes>"
            ],
            "image/png": "[encoded data removed]"
          },
          "metadata": {}
        },
        {
          "output_type": "stream",
          "name": "stdout",
          "text": [
            "['circle', 'circle', 'triangle', 'triangle']\n",
            "circle after circle then two triangles\n",
            "2 c 2 t\n"
          ]
        },
        {
          "output_type": "display_data",
          "data": {
            "text/plain": [
              "<Figure size 640x480 with 1 Axes>"
            ],
            "image/png": "[encoded data removed]"
          },
          "metadata": {}
        },
        {
          "output_type": "stream",
          "name": "stdout",
          "text": [
            "['circle', 'circle']\n",
            "circle after circle\n",
            "2 c\n"
          ]
        },
        {
          "output_type": "display_data",
          "data": {
            "text/plain": [
              "<Figure size 640x480 with 1 Axes>"
            ],
            "image/png": "[encoded data removed]"
          },
          "metadata": {}
        },
        {
          "output_type": "stream",
          "name": "stdout",
          "text": [
            "['circle', 'triangle', 'circle', 'triangle']\n",
            "triangle after circle then a circle then one triangle\n",
            "1 c 1 t 1 c 1 t\n"
          ]
        },
        {
          "output_type": "display_data",
          "data": {
            "text/plain": [
              "<Figure size 640x480 with 1 Axes>"
            ],
            "image/png": "[encoded data removed]"
          },
          "metadata": {}
        },
        {
          "output_type": "stream",
          "name": "stdout",
          "text": [
            "['circle', 'circle', 'circle']\n",
            "circle after circle then one circle\n",
            "3 c\n"
          ]
        },
        {
          "output_type": "display_data",
          "data": {
            "text/plain": [
              "<Figure size 640x480 with 1 Axes>"
            ],
            "image/png": "[encoded data removed]"
          },
          "metadata": {}
        },
        {
          "output_type": "stream",
          "name": "stdout",
          "text": [
            "['circle', 'triangle']\n",
            "triangle after circle\n",
            "1 c 1 t\n"
          ]
        },
        {
          "output_type": "display_data",
          "data": {
            "text/plain": [
              "<Figure size 640x480 with 1 Axes>"
            ],
            "image/png": "[encoded data removed]"
          },
          "metadata": {}
        },
        {
          "output_type": "stream",
          "name": "stdout",
          "text": [
            "['triangle', 'circle', 'triangle']\n",
            "one triangle and a circle then one triangle\n",
            "1 t 1 c 1 t\n"
          ]
        },
        {
          "output_type": "display_data",
          "data": {
            "text/plain": [
              "<Figure size 640x480 with 1 Axes>"
            ],
            "image/png": "[encoded data removed]"
          },
          "metadata": {}
        },
        {
          "output_type": "stream",
          "name": "stdout",
          "text": [
            "['circle', 'triangle', 'triangle']\n",
            "one circle and triangle after triangle\n",
            "1 c 2 t\n"
          ]
        },
        {
          "output_type": "display_data",
          "data": {
            "text/plain": [
              "<Figure size 640x480 with 1 Axes>"
            ],
            "image/png": "[encoded data removed]"
          },
          "metadata": {}
        },
        {
          "output_type": "stream",
          "name": "stdout",
          "text": [
            "['triangle']\n",
            "a triangle\n",
            "1 t\n"
          ]
        },
        {
          "output_type": "display_data",
          "data": {
            "text/plain": [
              "<Figure size 640x480 with 1 Axes>"
            ],
            "image/png": "[encoded data removed]"
          },
          "metadata": {}
        },
        {
          "output_type": "stream",
          "name": "stdout",
          "text": [
            "['circle', 'circle', 'triangle']\n",
            "two circles\n",
            "2 c 1 t\n"
          ]
        },
        {
          "output_type": "display_data",
          "data": {
            "text/plain": [
              "<Figure size 640x480 with 1 Axes>"
            ],
            "image/png": "[encoded data removed]"
          },
          "metadata": {}
        },
        {
          "output_type": "stream",
          "name": "stdout",
          "text": [
            "['circle', 'circle']\n",
            "circle after circle\n",
            "2 c\n"
          ]
        },
        {
          "output_type": "display_data",
          "data": {
            "text/plain": [
              "<Figure size 640x480 with 1 Axes>"
            ],
            "image/png": "[encoded data removed]"
          },
          "metadata": {}
        },
        {
          "output_type": "stream",
          "name": "stdout",
          "text": [
            "['triangle', 'circle']\n",
            "one triangle and one circle\n",
            "1 t 1 c\n"
          ]
        },
        {
          "output_type": "display_data",
          "data": {
            "text/plain": [
              "<Figure size 640x480 with 1 Axes>"
            ],
            "image/png": "[encoded data removed]"
          },
          "metadata": {}
        },
        {
          "output_type": "stream",
          "name": "stdout",
          "text": [
            "['circle', 'circle', 'circle', 'triangle']\n",
            "circle after circle then triangle after circle\n",
            "3 c 1 t\n"
          ]
        },
        {
          "output_type": "display_data",
          "data": {
            "text/plain": [
              "<Figure size 640x480 with 1 Axes>"
            ],
            "image/png": "[encoded data removed]"
          },
          "metadata": {}
        },
        {
          "output_type": "stream",
          "name": "stdout",
          "text": [
            "['circle']\n",
            "one circle\n",
            "1 c\n"
          ]
        },
        {
          "output_type": "display_data",
          "data": {
            "text/plain": [
              "<Figure size 640x480 with 1 Axes>"
            ],
            "image/png": "[encoded data removed]"
          },
          "metadata": {}
        },
        {
          "output_type": "stream",
          "name": "stdout",
          "text": [
            "['triangle', 'triangle', 'circle', 'triangle']\n",
            "triangle after triangle and one circle then one triangle\n",
            "2 t 1 c 1 t\n"
          ]
        },
        {
          "output_type": "display_data",
          "data": {
            "text/plain": [
              "<Figure size 640x480 with 1 Axes>"
            ],
            "image/png": "[encoded data removed]"
          },
          "metadata": {}
        },
        {
          "output_type": "stream",
          "name": "stdout",
          "text": [
            "['circle']\n",
            "one circle\n",
            "1 c\n"
          ]
        },
        {
          "output_type": "display_data",
          "data": {
            "text/plain": [
              "<Figure size 640x480 with 1 Axes>"
            ],
            "image/png": "[encoded data removed]"
          },
          "metadata": {}
        },
        {
          "output_type": "stream",
          "name": "stdout",
          "text": [
            "['circle', 'circle', 'triangle', 'triangle']\n",
            "circle after circle and triangle after triangle\n",
            "2 c 2 t\n"
          ]
        },
        {
          "output_type": "display_data",
          "data": {
            "text/plain": [
              "<Figure size 640x480 with 1 Axes>"
            ],
            "image/png": "[encoded data removed]"
          },
          "metadata": {}
        },
        {
          "output_type": "stream",
          "name": "stdout",
          "text": [
            "['triangle', 'circle', 'circle', 'circle']\n",
            "circle after triangle then circle after circle\n",
            "1 t 3 c\n"
          ]
        },
        {
          "output_type": "display_data",
          "data": {
            "text/plain": [
              "<Figure size 640x480 with 1 Axes>"
            ],
            "image/png": "[encoded data removed]"
          },
          "metadata": {}
        },
        {
          "output_type": "stream",
          "name": "stdout",
          "text": [
            "['triangle', 'circle', 'triangle']\n",
            "circle after triangle then a triangle\n",
            "1 t 1 c 1 t\n"
          ]
        },
        {
          "output_type": "display_data",
          "data": {
            "text/plain": [
              "<Figure size 640x480 with 1 Axes>"
            ],
            "image/png": "[encoded data removed]"
          },
          "metadata": {}
        },
        {
          "output_type": "stream",
          "name": "stdout",
          "text": [
            "['circle', 'circle']\n",
            "circle after circle\n",
            "2 c\n"
          ]
        },
        {
          "output_type": "display_data",
          "data": {
            "text/plain": [
              "<Figure size 640x480 with 1 Axes>"
            ],
            "image/png": "[encoded data removed]"
          },
          "metadata": {}
        },
        {
          "output_type": "stream",
          "name": "stdout",
          "text": [
            "['circle']\n",
            "a circle\n",
            "1 c\n"
          ]
        },
        {
          "output_type": "display_data",
          "data": {
            "text/plain": [
              "<Figure size 640x480 with 1 Axes>"
            ],
            "image/png": "[encoded data removed]"
          },
          "metadata": {}
        },
        {
          "output_type": "stream",
          "name": "stdout",
          "text": [
            "['circle', 'triangle', 'triangle', 'triangle']\n",
            "triangle after circle then two triangles\n",
            "1 c 3 t\n"
          ]
        },
        {
          "output_type": "display_data",
          "data": {
            "text/plain": [
              "<Figure size 640x480 with 1 Axes>"
            ],
            "image/png": "[encoded data removed]"
          },
          "metadata": {}
        },
        {
          "output_type": "stream",
          "name": "stdout",
          "text": [
            "['circle', 'circle', 'circle', 'triangle']\n",
            "a circle then circle after circle and one triangle\n",
            "3 c 1 t\n"
          ]
        },
        {
          "output_type": "display_data",
          "data": {
            "text/plain": [
              "<Figure size 640x480 with 1 Axes>"
            ],
            "image/png": "[encoded data removed]"
          },
          "metadata": {}
        },
        {
          "output_type": "stream",
          "name": "stdout",
          "text": [
            "['circle', 'triangle']\n",
            "triangle after circle\n",
            "1 c 1 t\n"
          ]
        },
        {
          "output_type": "display_data",
          "data": {
            "text/plain": [
              "<Figure size 640x480 with 1 Axes>"
            ],
            "image/png": "[encoded data removed]"
          },
          "metadata": {}
        },
        {
          "output_type": "stream",
          "name": "stdout",
          "text": [
            "['triangle']\n",
            "a triangle\n",
            "1 t\n"
          ]
        },
        {
          "output_type": "display_data",
          "data": {
            "text/plain": [
              "<Figure size 640x480 with 1 Axes>"
            ],
            "image/png": "[encoded data removed]"
          },
          "metadata": {}
        },
        {
          "output_type": "stream",
          "name": "stdout",
          "text": [
            "['circle', 'circle']\n",
            "circle after circle\n",
            "2 c\n"
          ]
        },
        {
          "output_type": "display_data",
          "data": {
            "text/plain": [
              "<Figure size 640x480 with 1 Axes>"
            ],
            "image/png": "[encoded data removed]"
          },
          "metadata": {}
        },
        {
          "output_type": "stream",
          "name": "stdout",
          "text": [
            "['triangle', 'triangle', 'circle', 'circle']\n",
            "two triangles\n",
            "2 t 2 c\n"
          ]
        },
        {
          "output_type": "display_data",
          "data": {
            "text/plain": [
              "<Figure size 640x480 with 1 Axes>"
            ],
            "image/png": "[encoded data removed]"
          },
          "metadata": {}
        },
        {
          "output_type": "stream",
          "name": "stdout",
          "text": [
            "['circle', 'circle']\n",
            "one circle and one circle\n",
            "2 c\n"
          ]
        },
        {
          "output_type": "display_data",
          "data": {
            "text/plain": [
              "<Figure size 640x480 with 1 Axes>"
            ],
            "image/png": "[encoded data removed]"
          },
          "metadata": {}
        },
        {
          "output_type": "stream",
          "name": "stdout",
          "text": [
            "['circle', 'circle', 'circle']\n",
            "a circle then a circle and one circle\n",
            "3 c\n"
          ]
        },
        {
          "output_type": "display_data",
          "data": {
            "text/plain": [
              "<Figure size 640x480 with 1 Axes>"
            ],
            "image/png": "[encoded data removed]"
          },
          "metadata": {}
        },
        {
          "output_type": "stream",
          "name": "stdout",
          "text": [
            "['circle']\n",
            "a circle\n",
            "1 c\n"
          ]
        },
        {
          "output_type": "display_data",
          "data": {
            "text/plain": [
              "<Figure size 640x480 with 1 Axes>"
            ],
            "image/png": "[encoded data removed]"
          },
          "metadata": {}
        },
        {
          "output_type": "stream",
          "name": "stdout",
          "text": [
            "['triangle', 'circle', 'circle']\n",
            "a triangle and circle after circle\n",
            "1 t 2 c\n"
          ]
        },
        {
          "output_type": "display_data",
          "data": {
            "text/plain": [
              "<Figure size 640x480 with 1 Axes>"
            ],
            "image/png": "[encoded data removed]"
          },
          "metadata": {}
        },
        {
          "output_type": "stream",
          "name": "stdout",
          "text": [
            "['circle']\n",
            "one circle\n",
            "1 c\n"
          ]
        },
        {
          "output_type": "display_data",
          "data": {
            "text/plain": [
              "<Figure size 640x480 with 1 Axes>"
            ],
            "image/png": "[encoded data removed]"
          },
          "metadata": {}
        },
        {
          "output_type": "stream",
          "name": "stdout",
          "text": [
            "['triangle', 'triangle', 'circle']\n",
            "triangle after triangle and one circle\n",
            "2 t 1 c\n"
          ]
        },
        {
          "output_type": "display_data",
          "data": {
            "text/plain": [
              "<Figure size 640x480 with 1 Axes>"
            ],
            "image/png": "[encoded data removed]"
          },
          "metadata": {}
        },
        {
          "output_type": "stream",
          "name": "stdout",
          "text": [
            "['circle', 'triangle']\n",
            "a circle and a triangle\n",
            "1 c 1 t\n"
          ]
        },
        {
          "output_type": "display_data",
          "data": {
            "text/plain": [
              "<Figure size 640x480 with 1 Axes>"
            ],
            "image/png": "[encoded data removed]"
          },
          "metadata": {}
        },
        {
          "output_type": "stream",
          "name": "stdout",
          "text": [
            "['triangle', 'triangle']\n",
            "triangle after triangle\n",
            "2 t\n"
          ]
        },
        {
          "output_type": "display_data",
          "data": {
            "text/plain": [
              "<Figure size 640x480 with 1 Axes>"
            ],
            "image/png": "[encoded data removed]"
          },
          "metadata": {}
        },
        {
          "output_type": "stream",
          "name": "stdout",
          "text": [
            "['triangle', 'circle']\n",
            "a triangle then a circle\n",
            "1 t 1 c\n"
          ]
        },
        {
          "output_type": "display_data",
          "data": {
            "text/plain": [
              "<Figure size 640x480 with 1 Axes>"
            ],
            "image/png": "[encoded data removed]"
          },
          "metadata": {}
        },
        {
          "output_type": "stream",
          "name": "stdout",
          "text": [
            "['circle', 'triangle', 'circle']\n",
            "one circle then circle after triangle\n",
            "1 c 1 t 1 c\n"
          ]
        },
        {
          "output_type": "display_data",
          "data": {
            "text/plain": [
              "<Figure size 640x480 with 1 Axes>"
            ],
            "image/png": "[encoded data removed]"
          },
          "metadata": {}
        },
        {
          "output_type": "stream",
          "name": "stdout",
          "text": [
            "['circle', 'circle']\n",
            "two circles\n",
            "2 c\n"
          ]
        },
        {
          "output_type": "display_data",
          "data": {
            "text/plain": [
              "<Figure size 640x480 with 1 Axes>"
            ],
            "image/png": "[encoded data removed]"
          },
          "metadata": {}
        },
        {
          "output_type": "stream",
          "name": "stdout",
          "text": [
            "['triangle']\n",
            "one triangle\n",
            "1 t\n"
          ]
        },
        {
          "output_type": "display_data",
          "data": {
            "text/plain": [
              "<Figure size 640x480 with 1 Axes>"
            ],
            "image/png": "[encoded data removed]"
          },
          "metadata": {}
        },
        {
          "output_type": "stream",
          "name": "stdout",
          "text": [
            "['circle', 'circle']\n",
            "one circle and one circle\n",
            "2 c\n"
          ]
        },
        {
          "output_type": "display_data",
          "data": {
            "text/plain": [
              "<Figure size 640x480 with 1 Axes>"
            ],
            "image/png": "[encoded data removed]"
          },
          "metadata": {}
        },
        {
          "output_type": "stream",
          "name": "stdout",
          "text": [
            "['circle', 'triangle', 'circle', 'circle']\n",
            "one circle and one triangle and circle after circle\n",
            "1 c 1 t 2 c\n"
          ]
        },
        {
          "output_type": "display_data",
          "data": {
            "text/plain": [
              "<Figure size 640x480 with 1 Axes>"
            ],
            "image/png": "[encoded data removed]"
          },
          "metadata": {}
        },
        {
          "output_type": "stream",
          "name": "stdout",
          "text": [
            "['circle', 'circle', 'triangle']\n",
            "circle after circle then one triangle\n",
            "2 c 1 t\n"
          ]
        },
        {
          "output_type": "display_data",
          "data": {
            "text/plain": [
              "<Figure size 640x480 with 1 Axes>"
            ],
            "image/png": "[encoded data removed]"
          },
          "metadata": {}
        },
        {
          "output_type": "stream",
          "name": "stdout",
          "text": [
            "['circle', 'circle']\n",
            "two circles\n",
            "2 c\n"
          ]
        },
        {
          "output_type": "display_data",
          "data": {
            "text/plain": [
              "<Figure size 640x480 with 1 Axes>"
            ],
            "image/png": "[encoded data removed]"
          },
          "metadata": {}
        },
        {
          "output_type": "stream",
          "name": "stdout",
          "text": [
            "['circle', 'circle']\n",
            "two circles\n",
            "2 c\n"
          ]
        },
        {
          "output_type": "display_data",
          "data": {
            "text/plain": [
              "<Figure size 640x480 with 1 Axes>"
            ],
            "image/png": "[encoded data removed]"
          },
          "metadata": {}
        },
        {
          "output_type": "stream",
          "name": "stdout",
          "text": [
            "['circle', 'circle']\n",
            "one circle and one circle\n",
            "2 c\n"
          ]
        },
        {
          "output_type": "display_data",
          "data": {
            "text/plain": [
              "<Figure size 640x480 with 1 Axes>"
            ],
            "image/png": "[encoded data removed]"
          },
          "metadata": {}
        },
        {
          "output_type": "stream",
          "name": "stdout",
          "text": [
            "['circle', 'circle', 'circle', 'triangle']\n",
            "two circles\n",
            "3 c 1 t\n"
          ]
        },
        {
          "output_type": "display_data",
          "data": {
            "text/plain": [
              "<Figure size 640x480 with 1 Axes>"
            ],
            "image/png": "[encoded data removed]"
          },
          "metadata": {}
        },
        {
          "output_type": "stream",
          "name": "stdout",
          "text": [
            "['circle', 'circle', 'triangle', 'circle']\n",
            "circle after circle and a triangle and a circle\n",
            "2 c 1 t 1 c\n"
          ]
        },
        {
          "output_type": "display_data",
          "data": {
            "text/plain": [
              "<Figure size 640x480 with 1 Axes>"
            ],
            "image/png": "[encoded data removed]"
          },
          "metadata": {}
        },
        {
          "output_type": "stream",
          "name": "stdout",
          "text": [
            "['circle']\n",
            "a circle\n",
            "1 c\n"
          ]
        },
        {
          "output_type": "display_data",
          "data": {
            "text/plain": [
              "<Figure size 640x480 with 1 Axes>"
            ],
            "image/png": "[encoded data removed]"
          },
          "metadata": {}
        },
        {
          "output_type": "stream",
          "name": "stdout",
          "text": [
            "['circle']\n",
            "a circle\n",
            "1 c\n"
          ]
        },
        {
          "output_type": "display_data",
          "data": {
            "text/plain": [
              "<Figure size 640x480 with 1 Axes>"
            ],
            "image/png": "[encoded data removed]"
          },
          "metadata": {}
        },
        {
          "output_type": "stream",
          "name": "stdout",
          "text": [
            "['circle', 'circle', 'triangle', 'triangle']\n",
            "two circles\n",
            "2 c 2 t\n"
          ]
        },
        {
          "output_type": "display_data",
          "data": {
            "text/plain": [
              "<Figure size 640x480 with 1 Axes>"
            ],
            "image/png": "[encoded data removed]"
          },
          "metadata": {}
        },
        {
          "output_type": "stream",
          "name": "stdout",
          "text": [
            "['circle', 'triangle', 'triangle']\n",
            "triangle after circle and a triangle\n",
            "1 c 2 t\n"
          ]
        },
        {
          "output_type": "display_data",
          "data": {
            "text/plain": [
              "<Figure size 640x480 with 1 Axes>"
            ],
            "image/png": "[encoded data removed]"
          },
          "metadata": {}
        },
        {
          "output_type": "stream",
          "name": "stdout",
          "text": [
            "['triangle', 'triangle']\n",
            "one triangle and a triangle\n",
            "2 t\n"
          ]
        },
        {
          "output_type": "display_data",
          "data": {
            "text/plain": [
              "<Figure size 640x480 with 1 Axes>"
            ],
            "image/png": "[encoded data removed]"
          },
          "metadata": {}
        },
        {
          "output_type": "stream",
          "name": "stdout",
          "text": [
            "['triangle', 'triangle']\n",
            "triangle after triangle\n",
            "2 t\n"
          ]
        },
        {
          "output_type": "display_data",
          "data": {
            "text/plain": [
              "<Figure size 640x480 with 1 Axes>"
            ],
            "image/png": "[encoded data removed]"
          },
          "metadata": {}
        },
        {
          "output_type": "stream",
          "name": "stdout",
          "text": [
            "['circle']\n",
            "one circle\n",
            "1 c\n"
          ]
        },
        {
          "output_type": "display_data",
          "data": {
            "text/plain": [
              "<Figure size 640x480 with 1 Axes>"
            ],
            "image/png": "[encoded data removed]"
          },
          "metadata": {}
        },
        {
          "output_type": "stream",
          "name": "stdout",
          "text": [
            "['circle', 'triangle', 'triangle']\n",
            "a circle and one triangle and a triangle\n",
            "1 c 2 t\n"
          ]
        },
        {
          "output_type": "display_data",
          "data": {
            "text/plain": [
              "<Figure size 640x480 with 1 Axes>"
            ],
            "image/png": "[encoded data removed]"
          },
          "metadata": {}
        },
        {
          "output_type": "stream",
          "name": "stdout",
          "text": [
            "['triangle']\n",
            "one triangle\n",
            "1 t\n"
          ]
        },
        {
          "output_type": "display_data",
          "data": {
            "text/plain": [
              "<Figure size 640x480 with 1 Axes>"
            ],
            "image/png": "[encoded data removed]"
          },
          "metadata": {}
        },
        {
          "output_type": "stream",
          "name": "stdout",
          "text": [
            "['circle', 'circle', 'triangle', 'circle']\n",
            "two circles\n",
            "2 c 1 t 1 c\n"
          ]
        },
        {
          "output_type": "display_data",
          "data": {
            "text/plain": [
              "<Figure size 640x480 with 1 Axes>"
            ],
            "image/png": "[encoded data removed]"
          },
          "metadata": {}
        },
        {
          "output_type": "stream",
          "name": "stdout",
          "text": [
            "['circle', 'triangle', 'triangle']\n",
            "triangle after circle and one triangle\n",
            "1 c 2 t\n"
          ]
        },
        {
          "output_type": "display_data",
          "data": {
            "text/plain": [
              "<Figure size 640x480 with 1 Axes>"
            ],
            "image/png": "[encoded data removed]"
          },
          "metadata": {}
        },
        {
          "output_type": "stream",
          "name": "stdout",
          "text": [
            "['triangle', 'triangle']\n",
            "two triangles\n",
            "2 t\n"
          ]
        },
        {
          "output_type": "display_data",
          "data": {
            "text/plain": [
              "<Figure size 640x480 with 1 Axes>"
            ],
            "image/png": "[encoded data removed]"
          },
          "metadata": {}
        },
        {
          "output_type": "stream",
          "name": "stdout",
          "text": [
            "['triangle', 'triangle', 'circle', 'circle']\n",
            "triangle after triangle and two circles\n",
            "2 t 2 c\n"
          ]
        },
        {
          "output_type": "display_data",
          "data": {
            "text/plain": [
              "<Figure size 640x480 with 1 Axes>"
            ],
            "image/png": "[encoded data removed]"
          },
          "metadata": {}
        },
        {
          "output_type": "stream",
          "name": "stdout",
          "text": [
            "['circle', 'triangle']\n",
            "triangle after circle\n",
            "1 c 1 t\n"
          ]
        },
        {
          "output_type": "display_data",
          "data": {
            "text/plain": [
              "<Figure size 640x480 with 1 Axes>"
            ],
            "image/png": "[encoded data removed]"
          },
          "metadata": {}
        },
        {
          "output_type": "stream",
          "name": "stdout",
          "text": [
            "['circle']\n",
            "one circle\n",
            "1 c\n"
          ]
        },
        {
          "output_type": "display_data",
          "data": {
            "text/plain": [
              "<Figure size 640x480 with 1 Axes>"
            ],
            "image/png": "[encoded data removed]"
          },
          "metadata": {}
        },
        {
          "output_type": "stream",
          "name": "stdout",
          "text": [
            "['circle']\n",
            "one circle\n",
            "1 c\n"
          ]
        },
        {
          "output_type": "display_data",
          "data": {
            "text/plain": [
              "<Figure size 640x480 with 1 Axes>"
            ],
            "image/png": "[encoded data removed]"
          },
          "metadata": {}
        },
        {
          "output_type": "stream",
          "name": "stdout",
          "text": [
            "['circle', 'circle', 'triangle']\n",
            "one circle and one circle and a triangle\n",
            "2 c 1 t\n"
          ]
        },
        {
          "output_type": "display_data",
          "data": {
            "text/plain": [
              "<Figure size 640x480 with 1 Axes>"
            ],
            "image/png": "[encoded data removed]"
          },
          "metadata": {}
        },
        {
          "output_type": "stream",
          "name": "stdout",
          "text": [
            "['circle', 'triangle', 'triangle', 'circle']\n",
            "triangle after circle and circle after triangle\n",
            "1 c 2 t 1 c\n"
          ]
        },
        {
          "output_type": "display_data",
          "data": {
            "text/plain": [
              "<Figure size 640x480 with 1 Axes>"
            ],
            "image/png": "[encoded data removed]"
          },
          "metadata": {}
        },
        {
          "output_type": "stream",
          "name": "stdout",
          "text": [
            "['circle', 'circle']\n",
            "circle after circle\n",
            "2 c\n"
          ]
        },
        {
          "output_type": "display_data",
          "data": {
            "text/plain": [
              "<Figure size 640x480 with 1 Axes>"
            ],
            "image/png": "[encoded data removed]"
          },
          "metadata": {}
        },
        {
          "output_type": "stream",
          "name": "stdout",
          "text": [
            "['triangle', 'circle']\n",
            "circle after triangle\n",
            "1 t 1 c\n"
          ]
        },
        {
          "output_type": "display_data",
          "data": {
            "text/plain": [
              "<Figure size 640x480 with 1 Axes>"
            ],
            "image/png": "[encoded data removed]"
          },
          "metadata": {}
        },
        {
          "output_type": "stream",
          "name": "stdout",
          "text": [
            "['triangle', 'triangle', 'circle']\n",
            "triangle after triangle and one circle\n",
            "2 t 1 c\n"
          ]
        },
        {
          "output_type": "display_data",
          "data": {
            "text/plain": [
              "<Figure size 640x480 with 1 Axes>"
            ],
            "image/png": "[encoded data removed]"
          },
          "metadata": {}
        },
        {
          "output_type": "stream",
          "name": "stdout",
          "text": [
            "['circle', 'triangle', 'circle', 'triangle']\n",
            "one circle then circle after triangle and one triangle\n",
            "1 c 1 t 1 c 1 t\n"
          ]
        },
        {
          "output_type": "display_data",
          "data": {
            "text/plain": [
              "<Figure size 640x480 with 1 Axes>"
            ],
            "image/png": "[encoded data removed]"
          },
          "metadata": {}
        },
        {
          "output_type": "stream",
          "name": "stdout",
          "text": [
            "['triangle', 'circle']\n",
            "one triangle and one circle\n",
            "1 t 1 c\n"
          ]
        },
        {
          "output_type": "display_data",
          "data": {
            "text/plain": [
              "<Figure size 640x480 with 1 Axes>"
            ],
            "image/png": "[encoded data removed]"
          },
          "metadata": {}
        }
      ]
    },
    {
      "cell_type": "code",
      "source": [
        "from torch.utils.data import Dataset\n",
        "\n",
        "\n",
        "# Step 1: Prepare the Dataset\n",
        "class CountingFiguresDataset(Dataset):\n",
        "    def __init__(self, texts, labels, tokenizer, max_length):\n",
        "        self.texts = texts\n",
        "        self.labels = labels\n",
        "        self.tokenizer = tokenizer\n",
        "        self.max_length = max_length\n",
        "\n",
        "    def __len__(self):\n",
        "        return len(self.texts)\n",
        "\n",
        "    def __getitem__(self, idx):\n",
        "        text = self.texts[idx]\n",
        "        label = self.labels[idx]\n",
        "        encoding = self.tokenizer.encode_plus(\n",
        "            text,\n",
        "            add_special_tokens=True,\n",
        "            max_length=self.max_length,\n",
        "            return_token_type_ids=False,\n",
        "            padding='max_length',\n",
        "            return_attention_mask=True,\n",
        "            return_tensors='pt',\n",
        "        )\n",
        "        return {\n",
        "            'input_ids': encoding['input_ids'].flatten(),\n",
        "            'attention_mask': encoding['attention_mask'].flatten(),\n",
        "            'labels': torch.tensor(label, dtype=torch.long)\n",
        "        }"
      ],
      "metadata": {
        "id": "TRF1Xd44rZsx"
      },
      "execution_count": 84,
      "outputs": []
    },
    {
      "cell_type": "code",
      "source": [
        "!pip install einops"
      ],
      "metadata": {
        "colab": {
          "base_uri": "https://localhost:8080/"
        },
        "id": "88p-uxGSSEbs",
        "outputId": "f7a87eab-e4a8-4ea2-965b-9e866697723b"
      },
      "execution_count": 85,
      "outputs": [
        {
          "output_type": "stream",
          "name": "stdout",
          "text": [
            "Requirement already satisfied: einops in /usr/local/lib/python3.10/dist-packages (0.8.0)\n"
          ]
        }
      ]
    },
    {
      "cell_type": "code",
      "source": [
        "import torch\n",
        "import torch.nn as nn\n",
        "from torch.utils.data import Dataset, DataLoader\n",
        "import torch.optim as optim\n",
        "import math\n",
        "import torch.nn.functional as F\n",
        "from einops import rearrange\n",
        "from collections import OrderedDict\n",
        "from easydict import EasyDict as edict\n",
        "\n",
        "class MyTokenizer:\n",
        "    def __init__(self, vocabulary):\n",
        "        self.vocabulary = vocabulary\n",
        "\n",
        "    def encode(self, text, add_special_tokens=True, max_length=MAX_LEN_SENTENCE, return_token_type_ids=False, padding='max_length', return_attention_mask=True, return_tensors='pt'):\n",
        "        tokens = text.split()\n",
        "        tokens.append(EOS_TOKEN)\n",
        "        input_ids = [self.vocabulary.index(token) for token in tokens]\n",
        "        attention_mask = [1] * len(input_ids)\n",
        "        if add_special_tokens:\n",
        "            input_ids = [self.vocabulary.index(CLASS_TOKEN)] + input_ids\n",
        "            attention_mask += [1]\n",
        "\n",
        "        sen_len = len(input_ids)\n",
        "        if len(input_ids) > max_length:\n",
        "            input_ids = input_ids[:max_length]\n",
        "            attention_mask = attention_mask[:max_length]\n",
        "        else:\n",
        "            pad_length = max_length - len(input_ids)\n",
        "            if pad_length >= 0:\n",
        "                input_ids += [self.vocabulary.index(PAD_TOKEN)] * pad_length\n",
        "                attention_mask += [0] * pad_length\n",
        "        return sen_len, input_ids, attention_mask\n",
        "\n",
        "    def encode_plus(self, text, add_special_tokens=True, max_length=MAX_LEN_SENTENCE, return_token_type_ids=False, padding='max_length', return_attention_mask=True, return_tensors='pt'):\n",
        "        _, input_ids, attention_mask = self._encode(text, add_special_tokens, max_length, return_token_type_ids, padding, return_attention_mask, return_tensors)\n",
        "        if return_attention_mask:\n",
        "          print(input_ids)\n",
        "          return {\n",
        "              'input_ids': torch.tensor(input_ids),\n",
        "              'attention_mask': torch.tensor(attention_mask)\n",
        "          }\n",
        "        else:\n",
        "          return {\n",
        "              'input_ids': torch.tensor(input_ids)\n",
        "          }\n"
      ],
      "metadata": {
        "id": "S1ey-4OGDwWF"
      },
      "execution_count": 108,
      "outputs": []
    },
    {
      "cell_type": "code",
      "source": [
        "class MyAttention(nn.Module):\n",
        "    def __init__(self, input_dim, hidden_key_dim, hidden_val_dim, enc_emb_dim=None, num_heads=1):\n",
        "        \"\"\"\n",
        "          Implements an attention mechanism\n",
        "\n",
        "          Args:\n",
        "          input_dim: Dimensionality of input embedding.\n",
        "          hidden_key_dim: Dimensionality of key and query vectors.\n",
        "          hidden_val_dim: Dimensionality of value vectors.\n",
        "          enc_emb_dim: Dimensionality of encoder embeddings. If None, self-attention is used.\n",
        "          mask: Whether to apply masking. If True, the attention scores for masked positions are set to -inf.\n",
        "          num_heads: Number of attention heads.\n",
        "        \"\"\"\n",
        "        super(MyAttention, self).__init__()\n",
        "        self.input_dim = input_dim\n",
        "        self.hidden_key_dim = hidden_key_dim\n",
        "        self.hidden_val_dim = hidden_val_dim\n",
        "        self.enc_emb_dim = enc_emb_dim\n",
        "        self.num_heads = num_heads\n",
        "\n",
        "        self.to_q = nn.Linear(self.input_dim, self.hidden_key_dim * self.num_heads, bias=False)\n",
        "\n",
        "        for i in range(self.num_heads):\n",
        "          if enc_emb_dim is None:\n",
        "              self.to_k = nn.Linear(self.input_dim, self.hidden_key_dim * self.num_heads, bias=False)\n",
        "              self.to_v = nn.Linear(self.input_dim, self.hidden_val_dim * self.num_heads, bias=False)\n",
        "          else:\n",
        "              self.to_k = nn.Linear(self.enc_emb_dim, self.hidden_key_dim * self.num_heads, bias=False)\n",
        "              self.to_v = nn.Linear(self.enc_emb_dim, self.hidden_val_dim * self.num_heads, bias=False)\n",
        "\n",
        "        self.to_out = nn.Linear(self.hidden_val_dim * self.num_heads, self.input_dim)\n",
        "\n",
        "    def forward(self, embeddings, encoder_embeddings=None, attention_mask=None):\n",
        "\n",
        "        if encoder_embeddings is None:\n",
        "            Q = self.to_q(embeddings)\n",
        "            K = self.to_k(embeddings)\n",
        "            V = self.to_v(embeddings)\n",
        "        else:\n",
        "            Q = self.to_q(embeddings)\n",
        "            K = self.to_k(encoder_embeddings)\n",
        "            V = self.to_v(encoder_embeddings)\n",
        "\n",
        "        Q = rearrange(Q, 'B T (H D) -> B H T D', H=self.num_heads, D=self.hidden_key_dim)\n",
        "        K = rearrange(K, 'B T (H D) -> B H T D', H=self.num_heads, D=self.hidden_key_dim)\n",
        "        V = rearrange(V, 'B T (H D) -> B H T D', H=self.num_heads, D=self.hidden_val_dim)\n",
        "\n",
        "        scores = torch.einsum(\"BHTD,BHSD->BHTS\", Q, K)\n",
        "\n",
        "        if attention_mask is not None:\n",
        "            # Originally, attention_mask has shape (batch_size, sequence_len)\n",
        "            # To ensure propagation to the scores matrix, which has shape (batch_size, num_heads, sequence_len, sequence_len),\n",
        "            # We need to make attention_mask's shape (batch_size, 1, 1, sequence_len)\n",
        "            # We do this with the unsqueeze method, which adds a new dimension.\n",
        "            attention_mask = attention_mask.unsqueeze(1).unsqueeze(1)\n",
        "            scores = scores.masked_fill(attention_mask == 0, float('-inf'))\n",
        "\n",
        "        attnmats = F.softmax(scores / math.sqrt(self.hidden_key_dim), dim=-1)\n",
        "\n",
        "        ctx_vecs = torch.einsum(\"BHTS,BHSD->BHTD\", attnmats, V)\n",
        "        ctx_vecs = rearrange(ctx_vecs, 'B H T D -> B T (H D)', H=self.num_heads, D=self.hidden_val_dim)\n",
        "        return self.to_out(ctx_vecs)"
      ],
      "metadata": {
        "id": "aFYriqViEvVt"
      },
      "execution_count": 87,
      "outputs": []
    },
    {
      "cell_type": "code",
      "source": [
        "class MyPositionalEncoding(nn.Module):\n",
        "    def __init__(self, d_model, max_len=MAX_LEN_SENTENCE):\n",
        "        super(MyPositionalEncoding, self).__init__()\n",
        "\n",
        "        # Create a matrix of shape (max_len, d_model) with all zeros\n",
        "        pe = torch.zeros(max_len, d_model)\n",
        "\n",
        "        # Create a column vector of shape (max_len, 1) with values [0, 1, ..., max_len-1]\n",
        "        position = torch.arange(0, max_len, dtype=torch.float).unsqueeze(1)\n",
        "\n",
        "        # Create a row vector of shape (1, d_model // 2) with values [0, 1, ..., d_model//2-1]\n",
        "        div_term = torch.exp(torch.arange(0, d_model, 2).float() * (-math.log(10000.0) / d_model))\n",
        "\n",
        "        # Apply sine to even indices and cosine to odd indices\n",
        "        pe[:, 0::2] = torch.sin(position * div_term)\n",
        "        pe[:, 1::2] = torch.cos(position * div_term)\n",
        "\n",
        "        # Add a batch dimension (1, max_len, d_model) and register as buffer\n",
        "        pe = pe.unsqueeze(0)\n",
        "        self.register_buffer('pe', pe)\n",
        "\n",
        "    def forward(self, x):\n",
        "        # Add positional encoding to the input tensor (B, T, D)\n",
        "        x = x + self.pe[:, :x.size(1), :]\n",
        "        return x"
      ],
      "metadata": {
        "id": "HJBjsyuMMeLO"
      },
      "execution_count": 88,
      "outputs": []
    },
    {
      "cell_type": "code",
      "source": [
        "class MyTransformerEncoderLayer(nn.Module):\n",
        "    def __init__(self, input_dim, hidden_key_dim, hidden_val_dim, output_dim, num_heads=1):\n",
        "        super(MyTransformerEncoderLayer, self).__init__()\n",
        "        self.input_dim = input_dim\n",
        "        self.hidden_key_dim = hidden_key_dim\n",
        "        self.hidden_val_dim = hidden_val_dim\n",
        "        self.output_dim = output_dim\n",
        "        self.num_heads = num_heads\n",
        "\n",
        "        self.attention = MyAttention(self.input_dim, self.hidden_key_dim, self.hidden_val_dim, enc_emb_dim=None, num_heads=self.num_heads)\n",
        "        self.norm1 = nn.LayerNorm(self.input_dim)\n",
        "        self.feed_forward = nn.Sequential(\n",
        "            nn.Linear(self.input_dim, self.output_dim),\n",
        "            nn.ReLU()\n",
        "        )\n",
        "        self.norm2 = nn.LayerNorm(self.output_dim)\n",
        "\n",
        "    def forward(self, x, attention_mask=None):\n",
        "        x = self.norm1(self.attention(x, attention_mask=attention_mask) + x)\n",
        "        x = self.norm2(self.feed_forward(x) + x)\n",
        "        return x"
      ],
      "metadata": {
        "id": "jt6_PYhSNLBh"
      },
      "execution_count": 89,
      "outputs": []
    },
    {
      "cell_type": "code",
      "source": [
        "class MyTransformerEncoder(nn.Module):\n",
        "    def __init__(self, num_tokens, input_dim, hidden_key_dim, hidden_val_dim, output_dim, max_length, num_layers=1, num_heads=1):\n",
        "        super(MyTransformerEncoder, self).__init__()\n",
        "        self.num_tokens = num_tokens\n",
        "        self.input_dim = input_dim\n",
        "        self.hidden_key_dim = hidden_key_dim\n",
        "        self.hidden_val_dim = hidden_val_dim\n",
        "        self.output_dim = output_dim\n",
        "        self.max_length = max_length\n",
        "        self.num_heads = num_heads\n",
        "\n",
        "        self.embedding = nn.Embedding(num_tokens, self.input_dim)\n",
        "        self.positional_encoding = MyPositionalEncoding(self.input_dim, max_length)\n",
        "        self.layers = nn.ModuleList([MyTransformerEncoderLayer(self.input_dim, self.hidden_key_dim, self.hidden_val_dim, self.input_dim, num_heads) for _ in range(num_layers)])\n",
        "        self.linear = nn.Linear(self.input_dim, self.output_dim)\n",
        "        self.norm = nn.LayerNorm(self.output_dim)\n",
        "\n",
        "    def forward(self, x, attention_mask=None):\n",
        "        x = self.embedding(x)\n",
        "        x = self.positional_encoding(x)\n",
        "        for layer in self.layers:\n",
        "            x = layer(x, attention_mask=attention_mask)\n",
        "        x = self.linear(x)\n",
        "        x = self.norm(x)\n",
        "        return x"
      ],
      "metadata": {
        "id": "N90NAhGjMgZu"
      },
      "execution_count": 90,
      "outputs": []
    },
    {
      "cell_type": "code",
      "source": [
        "class MyTransformerClassifier(nn.Module):\n",
        "    def __init__(self, transf_enc, num_classes):\n",
        "        super(MyTransformerClassifier, self).__init__()\n",
        "        self.num_classes = num_classes\n",
        "        self.transf_enc = transf_enc\n",
        "\n",
        "        self.linear = nn.Linear(self.transf_enc.output_dim, self.num_classes)\n",
        "\n",
        "    def forward(self, input_ids, labels=None, attention_mask=None):\n",
        "        x = self.transf_enc(input_ids, attention_mask)[:, 0, :] # Just the embedding of the first token, which is the CLS token.\n",
        "        logits = self.linear(x)\n",
        "\n",
        "        loss = None\n",
        "        if labels is not None:\n",
        "            criterion = nn.CrossEntropyLoss()\n",
        "            loss = criterion(logits, labels)\n",
        "        return (loss, logits) if loss is not None else logits"
      ],
      "metadata": {
        "id": "thRPUXH4PtXH"
      },
      "execution_count": 91,
      "outputs": []
    },
    {
      "cell_type": "code",
      "source": [
        "import torch\n",
        "from transformers import Trainer, TrainingArguments\n",
        "import pandas as pd\n",
        "\n",
        "# Step 2: Tokenizer\n",
        "# tokenizer = BertTokenizer.from_pretrained('bert-base-uncased')\n",
        "tokenizer = MyTokenizer(VOCABULARY)\n",
        "tokenizer.encode_plus(\n",
        "            \"one circle after one circle and two triangles\",\n",
        "            add_special_tokens=True,\n",
        "            max_length=MAX_LEN_SENTENCE,\n",
        "            return_token_type_ids=False,\n",
        "            padding='max_length',\n",
        "            return_attention_mask=True,\n",
        "            return_tensors='pt',\n",
        "        )"
      ],
      "metadata": {
        "colab": {
          "base_uri": "https://localhost:8080/"
        },
        "id": "QUw3D9j26rgn",
        "outputId": "3d1b123e-2a12-4e3c-e656-093797fa6a7a"
      },
      "execution_count": 103,
      "outputs": [
        {
          "output_type": "stream",
          "name": "stdout",
          "text": [
            "[10, 5, 1, 8, 5, 1, 6, 9, 2, 14, 13, 13, 13, 13, 13, 13]\n"
          ]
        },
        {
          "output_type": "execute_result",
          "data": {
            "text/plain": [
              "{'input_ids': tensor([10,  5,  1,  8,  5,  1,  6,  9,  2, 14, 13, 13, 13, 13, 13, 13]),\n",
              " 'attention_mask': tensor([1, 1, 1, 1, 1, 1, 1, 1, 1, 1, 0, 0, 0, 0, 0, 0])}"
            ]
          },
          "metadata": {},
          "execution_count": 103
        }
      ]
    },
    {
      "cell_type": "code",
      "source": [
        "# Create Dataset\n",
        "lengths = list(map(len, shape_lists))\n",
        "dataset = CountingFiguresDataset(descriptions, lengths, tokenizer, max_length=MAX_LEN_SENTENCE)"
      ],
      "metadata": {
        "id": "kgwzsdVxJIdL"
      },
      "execution_count": null,
      "outputs": []
    },
    {
      "cell_type": "code",
      "source": [
        "num_tokens = len(VOCABULARY)\n",
        "input_dim = 16\n",
        "hidden_key_dim = 8\n",
        "hidden_val_dim = 8\n",
        "num_heads = 2\n",
        "output_dim = 16\n",
        "num_layers = 3\n",
        "num_labels = 5\n",
        "\n",
        "# Step 3: Model\n",
        "# model = BertForSequenceClassification.from_pretrained('bert-base-uncased', num_labels=10)\n",
        "transf_enc = MyTransformerEncoder(num_tokens, input_dim=input_dim, hidden_key_dim=hidden_key_dim, hidden_val_dim=hidden_val_dim, output_dim=output_dim, max_length=MAX_LEN_SENTENCE, num_layers=num_layers, num_heads=num_heads)\n",
        "model = MyTransformerClassifier(transf_enc, num_labels)\n",
        "# model = DummyClassifier(num_labels)\n",
        "\n",
        "# Step 4: Training\n",
        "training_args = TrainingArguments(\n",
        "    output_dir='./results',\n",
        "    num_train_epochs=200,\n",
        "    per_device_train_batch_size=2,\n",
        "    per_device_eval_batch_size=2,\n",
        "    warmup_steps=10,\n",
        "    weight_decay=0.001,\n",
        "    logging_dir='./logs',\n",
        "    logging_steps=10,\n",
        "    eval_strategy=\"epoch\"\n",
        ")\n",
        "\n",
        "# Split dataset into train and eval\n",
        "train_size = int(0.8 * len(dataset))\n",
        "eval_size = len(dataset) - train_size\n",
        "train_dataset, eval_dataset = torch.utils.data.random_split(dataset, [train_size, eval_size])\n",
        "\n",
        "# Custom Trainer\n",
        "trainer = Trainer(\n",
        "    model=model,\n",
        "    args=training_args,\n",
        "    train_dataset=train_dataset,\n",
        "    eval_dataset=eval_dataset\n",
        ")\n",
        "\n",
        "trainer.train()\n",
        "\n"
      ],
      "metadata": {
        "colab": {
          "base_uri": "https://localhost:8080/",
          "height": 1000
        },
        "id": "DQbq5O20F1Nx",
        "outputId": "267d74d8-637b-49f9-ed4b-8c3d39288e9f"
      },
      "execution_count": 59,
      "outputs": [
        {
          "output_type": "display_data",
          "data": {
            "text/plain": [
              "<IPython.core.display.HTML object>"
            ],
            "text/html": [
              "\n",
              "    <div>\n",
              "      \n",
              "      <progress value='8000' max='8000' style='width:300px; height:20px; vertical-align: middle;'></progress>\n",
              "      [8000/8000 02:22, Epoch 200/200]\n",
              "    </div>\n",
              "    <table border=\"1\" class=\"dataframe\">\n",
              "  <thead>\n",
              " <tr style=\"text-align: left;\">\n",
              "      <th>Epoch</th>\n",
              "      <th>Training Loss</th>\n",
              "      <th>Validation Loss</th>\n",
              "    </tr>\n",
              "  </thead>\n",
              "  <tbody>\n",
              "    <tr>\n",
              "      <td>1</td>\n",
              "      <td>1.892300</td>\n",
              "      <td>2.155937</td>\n",
              "    </tr>\n",
              "    <tr>\n",
              "      <td>2</td>\n",
              "      <td>2.055100</td>\n",
              "      <td>2.047306</td>\n",
              "    </tr>\n",
              "    <tr>\n",
              "      <td>3</td>\n",
              "      <td>1.786800</td>\n",
              "      <td>1.947682</td>\n",
              "    </tr>\n",
              "    <tr>\n",
              "      <td>4</td>\n",
              "      <td>1.713300</td>\n",
              "      <td>1.866164</td>\n",
              "    </tr>\n",
              "    <tr>\n",
              "      <td>5</td>\n",
              "      <td>1.835100</td>\n",
              "      <td>1.794432</td>\n",
              "    </tr>\n",
              "    <tr>\n",
              "      <td>6</td>\n",
              "      <td>1.625800</td>\n",
              "      <td>1.735744</td>\n",
              "    </tr>\n",
              "    <tr>\n",
              "      <td>7</td>\n",
              "      <td>1.662200</td>\n",
              "      <td>1.680176</td>\n",
              "    </tr>\n",
              "    <tr>\n",
              "      <td>8</td>\n",
              "      <td>1.637300</td>\n",
              "      <td>1.635378</td>\n",
              "    </tr>\n",
              "    <tr>\n",
              "      <td>9</td>\n",
              "      <td>1.538400</td>\n",
              "      <td>1.588873</td>\n",
              "    </tr>\n",
              "    <tr>\n",
              "      <td>10</td>\n",
              "      <td>1.500700</td>\n",
              "      <td>1.557115</td>\n",
              "    </tr>\n",
              "    <tr>\n",
              "      <td>11</td>\n",
              "      <td>1.423700</td>\n",
              "      <td>1.522297</td>\n",
              "    </tr>\n",
              "    <tr>\n",
              "      <td>12</td>\n",
              "      <td>1.444400</td>\n",
              "      <td>1.495017</td>\n",
              "    </tr>\n",
              "    <tr>\n",
              "      <td>13</td>\n",
              "      <td>1.419100</td>\n",
              "      <td>1.471699</td>\n",
              "    </tr>\n",
              "    <tr>\n",
              "      <td>14</td>\n",
              "      <td>1.443900</td>\n",
              "      <td>1.444603</td>\n",
              "    </tr>\n",
              "    <tr>\n",
              "      <td>15</td>\n",
              "      <td>1.424900</td>\n",
              "      <td>1.428109</td>\n",
              "    </tr>\n",
              "    <tr>\n",
              "      <td>16</td>\n",
              "      <td>1.418300</td>\n",
              "      <td>1.408560</td>\n",
              "    </tr>\n",
              "    <tr>\n",
              "      <td>17</td>\n",
              "      <td>1.418900</td>\n",
              "      <td>1.389923</td>\n",
              "    </tr>\n",
              "    <tr>\n",
              "      <td>18</td>\n",
              "      <td>1.361500</td>\n",
              "      <td>1.381388</td>\n",
              "    </tr>\n",
              "    <tr>\n",
              "      <td>19</td>\n",
              "      <td>1.348800</td>\n",
              "      <td>1.370349</td>\n",
              "    </tr>\n",
              "    <tr>\n",
              "      <td>20</td>\n",
              "      <td>1.459300</td>\n",
              "      <td>1.359034</td>\n",
              "    </tr>\n",
              "    <tr>\n",
              "      <td>21</td>\n",
              "      <td>1.375100</td>\n",
              "      <td>1.349008</td>\n",
              "    </tr>\n",
              "    <tr>\n",
              "      <td>22</td>\n",
              "      <td>1.332700</td>\n",
              "      <td>1.337245</td>\n",
              "    </tr>\n",
              "    <tr>\n",
              "      <td>23</td>\n",
              "      <td>1.368200</td>\n",
              "      <td>1.325548</td>\n",
              "    </tr>\n",
              "    <tr>\n",
              "      <td>24</td>\n",
              "      <td>1.328700</td>\n",
              "      <td>1.315414</td>\n",
              "    </tr>\n",
              "    <tr>\n",
              "      <td>25</td>\n",
              "      <td>1.368700</td>\n",
              "      <td>1.304776</td>\n",
              "    </tr>\n",
              "    <tr>\n",
              "      <td>26</td>\n",
              "      <td>1.312100</td>\n",
              "      <td>1.292521</td>\n",
              "    </tr>\n",
              "    <tr>\n",
              "      <td>27</td>\n",
              "      <td>1.366200</td>\n",
              "      <td>1.277368</td>\n",
              "    </tr>\n",
              "    <tr>\n",
              "      <td>28</td>\n",
              "      <td>1.296200</td>\n",
              "      <td>1.262235</td>\n",
              "    </tr>\n",
              "    <tr>\n",
              "      <td>29</td>\n",
              "      <td>1.287200</td>\n",
              "      <td>1.248956</td>\n",
              "    </tr>\n",
              "    <tr>\n",
              "      <td>30</td>\n",
              "      <td>1.277700</td>\n",
              "      <td>1.242139</td>\n",
              "    </tr>\n",
              "    <tr>\n",
              "      <td>31</td>\n",
              "      <td>1.220700</td>\n",
              "      <td>1.225387</td>\n",
              "    </tr>\n",
              "    <tr>\n",
              "      <td>32</td>\n",
              "      <td>1.207500</td>\n",
              "      <td>1.213845</td>\n",
              "    </tr>\n",
              "    <tr>\n",
              "      <td>33</td>\n",
              "      <td>1.220100</td>\n",
              "      <td>1.192327</td>\n",
              "    </tr>\n",
              "    <tr>\n",
              "      <td>34</td>\n",
              "      <td>1.217800</td>\n",
              "      <td>1.171098</td>\n",
              "    </tr>\n",
              "    <tr>\n",
              "      <td>35</td>\n",
              "      <td>1.148300</td>\n",
              "      <td>1.154646</td>\n",
              "    </tr>\n",
              "    <tr>\n",
              "      <td>36</td>\n",
              "      <td>1.092200</td>\n",
              "      <td>1.130421</td>\n",
              "    </tr>\n",
              "    <tr>\n",
              "      <td>37</td>\n",
              "      <td>1.103200</td>\n",
              "      <td>1.113832</td>\n",
              "    </tr>\n",
              "    <tr>\n",
              "      <td>38</td>\n",
              "      <td>1.118400</td>\n",
              "      <td>1.095907</td>\n",
              "    </tr>\n",
              "    <tr>\n",
              "      <td>39</td>\n",
              "      <td>1.118400</td>\n",
              "      <td>1.071633</td>\n",
              "    </tr>\n",
              "    <tr>\n",
              "      <td>40</td>\n",
              "      <td>1.064200</td>\n",
              "      <td>1.053426</td>\n",
              "    </tr>\n",
              "    <tr>\n",
              "      <td>41</td>\n",
              "      <td>1.038100</td>\n",
              "      <td>1.042464</td>\n",
              "    </tr>\n",
              "    <tr>\n",
              "      <td>42</td>\n",
              "      <td>1.008300</td>\n",
              "      <td>1.034230</td>\n",
              "    </tr>\n",
              "    <tr>\n",
              "      <td>43</td>\n",
              "      <td>0.954700</td>\n",
              "      <td>1.019380</td>\n",
              "    </tr>\n",
              "    <tr>\n",
              "      <td>44</td>\n",
              "      <td>0.922700</td>\n",
              "      <td>1.005770</td>\n",
              "    </tr>\n",
              "    <tr>\n",
              "      <td>45</td>\n",
              "      <td>0.971900</td>\n",
              "      <td>0.985174</td>\n",
              "    </tr>\n",
              "    <tr>\n",
              "      <td>46</td>\n",
              "      <td>0.885900</td>\n",
              "      <td>0.977762</td>\n",
              "    </tr>\n",
              "    <tr>\n",
              "      <td>47</td>\n",
              "      <td>0.838200</td>\n",
              "      <td>0.960263</td>\n",
              "    </tr>\n",
              "    <tr>\n",
              "      <td>48</td>\n",
              "      <td>0.844700</td>\n",
              "      <td>0.949745</td>\n",
              "    </tr>\n",
              "    <tr>\n",
              "      <td>49</td>\n",
              "      <td>0.831800</td>\n",
              "      <td>0.941998</td>\n",
              "    </tr>\n",
              "    <tr>\n",
              "      <td>50</td>\n",
              "      <td>0.870200</td>\n",
              "      <td>0.924718</td>\n",
              "    </tr>\n",
              "    <tr>\n",
              "      <td>51</td>\n",
              "      <td>0.858700</td>\n",
              "      <td>0.916842</td>\n",
              "    </tr>\n",
              "    <tr>\n",
              "      <td>52</td>\n",
              "      <td>0.860800</td>\n",
              "      <td>0.906675</td>\n",
              "    </tr>\n",
              "    <tr>\n",
              "      <td>53</td>\n",
              "      <td>0.894300</td>\n",
              "      <td>0.898272</td>\n",
              "    </tr>\n",
              "    <tr>\n",
              "      <td>54</td>\n",
              "      <td>0.796300</td>\n",
              "      <td>0.883705</td>\n",
              "    </tr>\n",
              "    <tr>\n",
              "      <td>55</td>\n",
              "      <td>0.770400</td>\n",
              "      <td>0.881937</td>\n",
              "    </tr>\n",
              "    <tr>\n",
              "      <td>56</td>\n",
              "      <td>0.723700</td>\n",
              "      <td>0.875512</td>\n",
              "    </tr>\n",
              "    <tr>\n",
              "      <td>57</td>\n",
              "      <td>0.825900</td>\n",
              "      <td>0.869521</td>\n",
              "    </tr>\n",
              "    <tr>\n",
              "      <td>58</td>\n",
              "      <td>0.834200</td>\n",
              "      <td>0.863235</td>\n",
              "    </tr>\n",
              "    <tr>\n",
              "      <td>59</td>\n",
              "      <td>0.797600</td>\n",
              "      <td>0.852211</td>\n",
              "    </tr>\n",
              "    <tr>\n",
              "      <td>60</td>\n",
              "      <td>0.831600</td>\n",
              "      <td>0.837480</td>\n",
              "    </tr>\n",
              "    <tr>\n",
              "      <td>61</td>\n",
              "      <td>0.854300</td>\n",
              "      <td>0.825988</td>\n",
              "    </tr>\n",
              "    <tr>\n",
              "      <td>62</td>\n",
              "      <td>0.702700</td>\n",
              "      <td>0.826455</td>\n",
              "    </tr>\n",
              "    <tr>\n",
              "      <td>63</td>\n",
              "      <td>0.873100</td>\n",
              "      <td>0.813288</td>\n",
              "    </tr>\n",
              "    <tr>\n",
              "      <td>64</td>\n",
              "      <td>0.845600</td>\n",
              "      <td>0.814297</td>\n",
              "    </tr>\n",
              "    <tr>\n",
              "      <td>65</td>\n",
              "      <td>0.739800</td>\n",
              "      <td>0.803717</td>\n",
              "    </tr>\n",
              "    <tr>\n",
              "      <td>66</td>\n",
              "      <td>0.770100</td>\n",
              "      <td>0.800299</td>\n",
              "    </tr>\n",
              "    <tr>\n",
              "      <td>67</td>\n",
              "      <td>0.775500</td>\n",
              "      <td>0.789643</td>\n",
              "    </tr>\n",
              "    <tr>\n",
              "      <td>68</td>\n",
              "      <td>0.797500</td>\n",
              "      <td>0.787739</td>\n",
              "    </tr>\n",
              "    <tr>\n",
              "      <td>69</td>\n",
              "      <td>0.729200</td>\n",
              "      <td>0.788199</td>\n",
              "    </tr>\n",
              "    <tr>\n",
              "      <td>70</td>\n",
              "      <td>0.581200</td>\n",
              "      <td>0.780792</td>\n",
              "    </tr>\n",
              "    <tr>\n",
              "      <td>71</td>\n",
              "      <td>0.834300</td>\n",
              "      <td>0.769741</td>\n",
              "    </tr>\n",
              "    <tr>\n",
              "      <td>72</td>\n",
              "      <td>0.745400</td>\n",
              "      <td>0.767149</td>\n",
              "    </tr>\n",
              "    <tr>\n",
              "      <td>73</td>\n",
              "      <td>0.832800</td>\n",
              "      <td>0.765675</td>\n",
              "    </tr>\n",
              "    <tr>\n",
              "      <td>74</td>\n",
              "      <td>0.609900</td>\n",
              "      <td>0.758243</td>\n",
              "    </tr>\n",
              "    <tr>\n",
              "      <td>75</td>\n",
              "      <td>0.752000</td>\n",
              "      <td>0.752023</td>\n",
              "    </tr>\n",
              "    <tr>\n",
              "      <td>76</td>\n",
              "      <td>0.585200</td>\n",
              "      <td>0.743221</td>\n",
              "    </tr>\n",
              "    <tr>\n",
              "      <td>77</td>\n",
              "      <td>0.674500</td>\n",
              "      <td>0.740944</td>\n",
              "    </tr>\n",
              "    <tr>\n",
              "      <td>78</td>\n",
              "      <td>0.609300</td>\n",
              "      <td>0.733992</td>\n",
              "    </tr>\n",
              "    <tr>\n",
              "      <td>79</td>\n",
              "      <td>0.542700</td>\n",
              "      <td>0.726791</td>\n",
              "    </tr>\n",
              "    <tr>\n",
              "      <td>80</td>\n",
              "      <td>0.614100</td>\n",
              "      <td>0.722654</td>\n",
              "    </tr>\n",
              "    <tr>\n",
              "      <td>81</td>\n",
              "      <td>0.576800</td>\n",
              "      <td>0.721194</td>\n",
              "    </tr>\n",
              "    <tr>\n",
              "      <td>82</td>\n",
              "      <td>0.810200</td>\n",
              "      <td>0.715269</td>\n",
              "    </tr>\n",
              "    <tr>\n",
              "      <td>83</td>\n",
              "      <td>0.538500</td>\n",
              "      <td>0.713250</td>\n",
              "    </tr>\n",
              "    <tr>\n",
              "      <td>84</td>\n",
              "      <td>0.528300</td>\n",
              "      <td>0.711546</td>\n",
              "    </tr>\n",
              "    <tr>\n",
              "      <td>85</td>\n",
              "      <td>0.603000</td>\n",
              "      <td>0.707554</td>\n",
              "    </tr>\n",
              "    <tr>\n",
              "      <td>86</td>\n",
              "      <td>0.601900</td>\n",
              "      <td>0.700324</td>\n",
              "    </tr>\n",
              "    <tr>\n",
              "      <td>87</td>\n",
              "      <td>0.628000</td>\n",
              "      <td>0.696556</td>\n",
              "    </tr>\n",
              "    <tr>\n",
              "      <td>88</td>\n",
              "      <td>0.641500</td>\n",
              "      <td>0.694358</td>\n",
              "    </tr>\n",
              "    <tr>\n",
              "      <td>89</td>\n",
              "      <td>0.617200</td>\n",
              "      <td>0.696718</td>\n",
              "    </tr>\n",
              "    <tr>\n",
              "      <td>90</td>\n",
              "      <td>0.406900</td>\n",
              "      <td>0.698747</td>\n",
              "    </tr>\n",
              "    <tr>\n",
              "      <td>91</td>\n",
              "      <td>0.623300</td>\n",
              "      <td>0.691633</td>\n",
              "    </tr>\n",
              "    <tr>\n",
              "      <td>92</td>\n",
              "      <td>0.743100</td>\n",
              "      <td>0.687581</td>\n",
              "    </tr>\n",
              "    <tr>\n",
              "      <td>93</td>\n",
              "      <td>0.716200</td>\n",
              "      <td>0.683513</td>\n",
              "    </tr>\n",
              "    <tr>\n",
              "      <td>94</td>\n",
              "      <td>0.574200</td>\n",
              "      <td>0.683439</td>\n",
              "    </tr>\n",
              "    <tr>\n",
              "      <td>95</td>\n",
              "      <td>0.519000</td>\n",
              "      <td>0.684334</td>\n",
              "    </tr>\n",
              "    <tr>\n",
              "      <td>96</td>\n",
              "      <td>0.599700</td>\n",
              "      <td>0.683636</td>\n",
              "    </tr>\n",
              "    <tr>\n",
              "      <td>97</td>\n",
              "      <td>0.516700</td>\n",
              "      <td>0.681116</td>\n",
              "    </tr>\n",
              "    <tr>\n",
              "      <td>98</td>\n",
              "      <td>0.639900</td>\n",
              "      <td>0.679638</td>\n",
              "    </tr>\n",
              "    <tr>\n",
              "      <td>99</td>\n",
              "      <td>0.541600</td>\n",
              "      <td>0.677414</td>\n",
              "    </tr>\n",
              "    <tr>\n",
              "      <td>100</td>\n",
              "      <td>0.467300</td>\n",
              "      <td>0.670897</td>\n",
              "    </tr>\n",
              "    <tr>\n",
              "      <td>101</td>\n",
              "      <td>0.637900</td>\n",
              "      <td>0.666083</td>\n",
              "    </tr>\n",
              "    <tr>\n",
              "      <td>102</td>\n",
              "      <td>0.553200</td>\n",
              "      <td>0.666215</td>\n",
              "    </tr>\n",
              "    <tr>\n",
              "      <td>103</td>\n",
              "      <td>0.887200</td>\n",
              "      <td>0.662671</td>\n",
              "    </tr>\n",
              "    <tr>\n",
              "      <td>104</td>\n",
              "      <td>0.621600</td>\n",
              "      <td>0.660317</td>\n",
              "    </tr>\n",
              "    <tr>\n",
              "      <td>105</td>\n",
              "      <td>0.686000</td>\n",
              "      <td>0.658429</td>\n",
              "    </tr>\n",
              "    <tr>\n",
              "      <td>106</td>\n",
              "      <td>0.650300</td>\n",
              "      <td>0.663264</td>\n",
              "    </tr>\n",
              "    <tr>\n",
              "      <td>107</td>\n",
              "      <td>0.575800</td>\n",
              "      <td>0.656387</td>\n",
              "    </tr>\n",
              "    <tr>\n",
              "      <td>108</td>\n",
              "      <td>0.540800</td>\n",
              "      <td>0.654803</td>\n",
              "    </tr>\n",
              "    <tr>\n",
              "      <td>109</td>\n",
              "      <td>0.532600</td>\n",
              "      <td>0.651615</td>\n",
              "    </tr>\n",
              "    <tr>\n",
              "      <td>110</td>\n",
              "      <td>0.452600</td>\n",
              "      <td>0.650909</td>\n",
              "    </tr>\n",
              "    <tr>\n",
              "      <td>111</td>\n",
              "      <td>0.531700</td>\n",
              "      <td>0.648090</td>\n",
              "    </tr>\n",
              "    <tr>\n",
              "      <td>112</td>\n",
              "      <td>0.512400</td>\n",
              "      <td>0.649731</td>\n",
              "    </tr>\n",
              "    <tr>\n",
              "      <td>113</td>\n",
              "      <td>0.520100</td>\n",
              "      <td>0.649109</td>\n",
              "    </tr>\n",
              "    <tr>\n",
              "      <td>114</td>\n",
              "      <td>0.795700</td>\n",
              "      <td>0.647106</td>\n",
              "    </tr>\n",
              "    <tr>\n",
              "      <td>115</td>\n",
              "      <td>0.429900</td>\n",
              "      <td>0.648003</td>\n",
              "    </tr>\n",
              "    <tr>\n",
              "      <td>116</td>\n",
              "      <td>0.535800</td>\n",
              "      <td>0.644655</td>\n",
              "    </tr>\n",
              "    <tr>\n",
              "      <td>117</td>\n",
              "      <td>0.468000</td>\n",
              "      <td>0.644062</td>\n",
              "    </tr>\n",
              "    <tr>\n",
              "      <td>118</td>\n",
              "      <td>0.582000</td>\n",
              "      <td>0.644128</td>\n",
              "    </tr>\n",
              "    <tr>\n",
              "      <td>119</td>\n",
              "      <td>0.636900</td>\n",
              "      <td>0.642709</td>\n",
              "    </tr>\n",
              "    <tr>\n",
              "      <td>120</td>\n",
              "      <td>0.432300</td>\n",
              "      <td>0.638728</td>\n",
              "    </tr>\n",
              "    <tr>\n",
              "      <td>121</td>\n",
              "      <td>0.659300</td>\n",
              "      <td>0.638344</td>\n",
              "    </tr>\n",
              "    <tr>\n",
              "      <td>122</td>\n",
              "      <td>0.643600</td>\n",
              "      <td>0.640887</td>\n",
              "    </tr>\n",
              "    <tr>\n",
              "      <td>123</td>\n",
              "      <td>0.463100</td>\n",
              "      <td>0.637588</td>\n",
              "    </tr>\n",
              "    <tr>\n",
              "      <td>124</td>\n",
              "      <td>0.512100</td>\n",
              "      <td>0.633296</td>\n",
              "    </tr>\n",
              "    <tr>\n",
              "      <td>125</td>\n",
              "      <td>0.337100</td>\n",
              "      <td>0.632550</td>\n",
              "    </tr>\n",
              "    <tr>\n",
              "      <td>126</td>\n",
              "      <td>0.613100</td>\n",
              "      <td>0.634358</td>\n",
              "    </tr>\n",
              "    <tr>\n",
              "      <td>127</td>\n",
              "      <td>0.618300</td>\n",
              "      <td>0.632716</td>\n",
              "    </tr>\n",
              "    <tr>\n",
              "      <td>128</td>\n",
              "      <td>0.493800</td>\n",
              "      <td>0.631292</td>\n",
              "    </tr>\n",
              "    <tr>\n",
              "      <td>129</td>\n",
              "      <td>0.465400</td>\n",
              "      <td>0.629225</td>\n",
              "    </tr>\n",
              "    <tr>\n",
              "      <td>130</td>\n",
              "      <td>0.522300</td>\n",
              "      <td>0.628865</td>\n",
              "    </tr>\n",
              "    <tr>\n",
              "      <td>131</td>\n",
              "      <td>0.506700</td>\n",
              "      <td>0.632064</td>\n",
              "    </tr>\n",
              "    <tr>\n",
              "      <td>132</td>\n",
              "      <td>0.495500</td>\n",
              "      <td>0.629443</td>\n",
              "    </tr>\n",
              "    <tr>\n",
              "      <td>133</td>\n",
              "      <td>0.522300</td>\n",
              "      <td>0.629288</td>\n",
              "    </tr>\n",
              "    <tr>\n",
              "      <td>134</td>\n",
              "      <td>0.704700</td>\n",
              "      <td>0.626828</td>\n",
              "    </tr>\n",
              "    <tr>\n",
              "      <td>135</td>\n",
              "      <td>0.536500</td>\n",
              "      <td>0.623233</td>\n",
              "    </tr>\n",
              "    <tr>\n",
              "      <td>136</td>\n",
              "      <td>0.589900</td>\n",
              "      <td>0.623438</td>\n",
              "    </tr>\n",
              "    <tr>\n",
              "      <td>137</td>\n",
              "      <td>0.582400</td>\n",
              "      <td>0.623491</td>\n",
              "    </tr>\n",
              "    <tr>\n",
              "      <td>138</td>\n",
              "      <td>0.438700</td>\n",
              "      <td>0.623415</td>\n",
              "    </tr>\n",
              "    <tr>\n",
              "      <td>139</td>\n",
              "      <td>0.545600</td>\n",
              "      <td>0.621207</td>\n",
              "    </tr>\n",
              "    <tr>\n",
              "      <td>140</td>\n",
              "      <td>0.500800</td>\n",
              "      <td>0.621256</td>\n",
              "    </tr>\n",
              "    <tr>\n",
              "      <td>141</td>\n",
              "      <td>0.428000</td>\n",
              "      <td>0.623209</td>\n",
              "    </tr>\n",
              "    <tr>\n",
              "      <td>142</td>\n",
              "      <td>0.536100</td>\n",
              "      <td>0.621191</td>\n",
              "    </tr>\n",
              "    <tr>\n",
              "      <td>143</td>\n",
              "      <td>0.578100</td>\n",
              "      <td>0.621903</td>\n",
              "    </tr>\n",
              "    <tr>\n",
              "      <td>144</td>\n",
              "      <td>0.482000</td>\n",
              "      <td>0.620861</td>\n",
              "    </tr>\n",
              "    <tr>\n",
              "      <td>145</td>\n",
              "      <td>0.573700</td>\n",
              "      <td>0.619526</td>\n",
              "    </tr>\n",
              "    <tr>\n",
              "      <td>146</td>\n",
              "      <td>0.388200</td>\n",
              "      <td>0.619777</td>\n",
              "    </tr>\n",
              "    <tr>\n",
              "      <td>147</td>\n",
              "      <td>0.643000</td>\n",
              "      <td>0.617719</td>\n",
              "    </tr>\n",
              "    <tr>\n",
              "      <td>148</td>\n",
              "      <td>0.368000</td>\n",
              "      <td>0.618162</td>\n",
              "    </tr>\n",
              "    <tr>\n",
              "      <td>149</td>\n",
              "      <td>0.300400</td>\n",
              "      <td>0.616861</td>\n",
              "    </tr>\n",
              "    <tr>\n",
              "      <td>150</td>\n",
              "      <td>0.546600</td>\n",
              "      <td>0.614722</td>\n",
              "    </tr>\n",
              "    <tr>\n",
              "      <td>151</td>\n",
              "      <td>0.300100</td>\n",
              "      <td>0.618066</td>\n",
              "    </tr>\n",
              "    <tr>\n",
              "      <td>152</td>\n",
              "      <td>0.462200</td>\n",
              "      <td>0.615097</td>\n",
              "    </tr>\n",
              "    <tr>\n",
              "      <td>153</td>\n",
              "      <td>0.449900</td>\n",
              "      <td>0.617884</td>\n",
              "    </tr>\n",
              "    <tr>\n",
              "      <td>154</td>\n",
              "      <td>0.445600</td>\n",
              "      <td>0.615383</td>\n",
              "    </tr>\n",
              "    <tr>\n",
              "      <td>155</td>\n",
              "      <td>0.444100</td>\n",
              "      <td>0.612685</td>\n",
              "    </tr>\n",
              "    <tr>\n",
              "      <td>156</td>\n",
              "      <td>0.420500</td>\n",
              "      <td>0.612969</td>\n",
              "    </tr>\n",
              "    <tr>\n",
              "      <td>157</td>\n",
              "      <td>0.501900</td>\n",
              "      <td>0.612458</td>\n",
              "    </tr>\n",
              "    <tr>\n",
              "      <td>158</td>\n",
              "      <td>0.359700</td>\n",
              "      <td>0.611057</td>\n",
              "    </tr>\n",
              "    <tr>\n",
              "      <td>159</td>\n",
              "      <td>0.483100</td>\n",
              "      <td>0.610854</td>\n",
              "    </tr>\n",
              "    <tr>\n",
              "      <td>160</td>\n",
              "      <td>0.557000</td>\n",
              "      <td>0.610908</td>\n",
              "    </tr>\n",
              "    <tr>\n",
              "      <td>161</td>\n",
              "      <td>0.436100</td>\n",
              "      <td>0.611257</td>\n",
              "    </tr>\n",
              "    <tr>\n",
              "      <td>162</td>\n",
              "      <td>0.455500</td>\n",
              "      <td>0.610833</td>\n",
              "    </tr>\n",
              "    <tr>\n",
              "      <td>163</td>\n",
              "      <td>0.624300</td>\n",
              "      <td>0.608298</td>\n",
              "    </tr>\n",
              "    <tr>\n",
              "      <td>164</td>\n",
              "      <td>0.599000</td>\n",
              "      <td>0.608671</td>\n",
              "    </tr>\n",
              "    <tr>\n",
              "      <td>165</td>\n",
              "      <td>0.532400</td>\n",
              "      <td>0.608838</td>\n",
              "    </tr>\n",
              "    <tr>\n",
              "      <td>166</td>\n",
              "      <td>0.431000</td>\n",
              "      <td>0.609146</td>\n",
              "    </tr>\n",
              "    <tr>\n",
              "      <td>167</td>\n",
              "      <td>0.420500</td>\n",
              "      <td>0.608913</td>\n",
              "    </tr>\n",
              "    <tr>\n",
              "      <td>168</td>\n",
              "      <td>0.462800</td>\n",
              "      <td>0.609125</td>\n",
              "    </tr>\n",
              "    <tr>\n",
              "      <td>169</td>\n",
              "      <td>0.549700</td>\n",
              "      <td>0.606980</td>\n",
              "    </tr>\n",
              "    <tr>\n",
              "      <td>170</td>\n",
              "      <td>0.645900</td>\n",
              "      <td>0.608021</td>\n",
              "    </tr>\n",
              "    <tr>\n",
              "      <td>171</td>\n",
              "      <td>0.410200</td>\n",
              "      <td>0.609239</td>\n",
              "    </tr>\n",
              "    <tr>\n",
              "      <td>172</td>\n",
              "      <td>0.340400</td>\n",
              "      <td>0.607118</td>\n",
              "    </tr>\n",
              "    <tr>\n",
              "      <td>173</td>\n",
              "      <td>0.434800</td>\n",
              "      <td>0.607556</td>\n",
              "    </tr>\n",
              "    <tr>\n",
              "      <td>174</td>\n",
              "      <td>0.407200</td>\n",
              "      <td>0.605919</td>\n",
              "    </tr>\n",
              "    <tr>\n",
              "      <td>175</td>\n",
              "      <td>0.458500</td>\n",
              "      <td>0.606399</td>\n",
              "    </tr>\n",
              "    <tr>\n",
              "      <td>176</td>\n",
              "      <td>0.530600</td>\n",
              "      <td>0.606927</td>\n",
              "    </tr>\n",
              "    <tr>\n",
              "      <td>177</td>\n",
              "      <td>0.458400</td>\n",
              "      <td>0.605518</td>\n",
              "    </tr>\n",
              "    <tr>\n",
              "      <td>178</td>\n",
              "      <td>0.491500</td>\n",
              "      <td>0.604347</td>\n",
              "    </tr>\n",
              "    <tr>\n",
              "      <td>179</td>\n",
              "      <td>0.276300</td>\n",
              "      <td>0.604194</td>\n",
              "    </tr>\n",
              "    <tr>\n",
              "      <td>180</td>\n",
              "      <td>0.358900</td>\n",
              "      <td>0.603643</td>\n",
              "    </tr>\n",
              "    <tr>\n",
              "      <td>181</td>\n",
              "      <td>0.461300</td>\n",
              "      <td>0.603687</td>\n",
              "    </tr>\n",
              "    <tr>\n",
              "      <td>182</td>\n",
              "      <td>0.353700</td>\n",
              "      <td>0.603495</td>\n",
              "    </tr>\n",
              "    <tr>\n",
              "      <td>183</td>\n",
              "      <td>0.285200</td>\n",
              "      <td>0.602908</td>\n",
              "    </tr>\n",
              "    <tr>\n",
              "      <td>184</td>\n",
              "      <td>0.476800</td>\n",
              "      <td>0.602536</td>\n",
              "    </tr>\n",
              "    <tr>\n",
              "      <td>185</td>\n",
              "      <td>0.297100</td>\n",
              "      <td>0.603248</td>\n",
              "    </tr>\n",
              "    <tr>\n",
              "      <td>186</td>\n",
              "      <td>0.606300</td>\n",
              "      <td>0.602919</td>\n",
              "    </tr>\n",
              "    <tr>\n",
              "      <td>187</td>\n",
              "      <td>0.367200</td>\n",
              "      <td>0.603224</td>\n",
              "    </tr>\n",
              "    <tr>\n",
              "      <td>188</td>\n",
              "      <td>0.416900</td>\n",
              "      <td>0.603546</td>\n",
              "    </tr>\n",
              "    <tr>\n",
              "      <td>189</td>\n",
              "      <td>0.446400</td>\n",
              "      <td>0.603534</td>\n",
              "    </tr>\n",
              "    <tr>\n",
              "      <td>190</td>\n",
              "      <td>0.426600</td>\n",
              "      <td>0.603645</td>\n",
              "    </tr>\n",
              "    <tr>\n",
              "      <td>191</td>\n",
              "      <td>0.495100</td>\n",
              "      <td>0.603553</td>\n",
              "    </tr>\n",
              "    <tr>\n",
              "      <td>192</td>\n",
              "      <td>0.272200</td>\n",
              "      <td>0.603825</td>\n",
              "    </tr>\n",
              "    <tr>\n",
              "      <td>193</td>\n",
              "      <td>0.361200</td>\n",
              "      <td>0.603315</td>\n",
              "    </tr>\n",
              "    <tr>\n",
              "      <td>194</td>\n",
              "      <td>0.395700</td>\n",
              "      <td>0.603414</td>\n",
              "    </tr>\n",
              "    <tr>\n",
              "      <td>195</td>\n",
              "      <td>0.383700</td>\n",
              "      <td>0.603579</td>\n",
              "    </tr>\n",
              "    <tr>\n",
              "      <td>196</td>\n",
              "      <td>0.351200</td>\n",
              "      <td>0.603550</td>\n",
              "    </tr>\n",
              "    <tr>\n",
              "      <td>197</td>\n",
              "      <td>0.430000</td>\n",
              "      <td>0.603393</td>\n",
              "    </tr>\n",
              "    <tr>\n",
              "      <td>198</td>\n",
              "      <td>0.355800</td>\n",
              "      <td>0.603566</td>\n",
              "    </tr>\n",
              "    <tr>\n",
              "      <td>199</td>\n",
              "      <td>0.482000</td>\n",
              "      <td>0.603559</td>\n",
              "    </tr>\n",
              "    <tr>\n",
              "      <td>200</td>\n",
              "      <td>0.405500</td>\n",
              "      <td>0.603568</td>\n",
              "    </tr>\n",
              "  </tbody>\n",
              "</table><p>"
            ]
          },
          "metadata": {}
        },
        {
          "output_type": "execute_result",
          "data": {
            "text/plain": [
              "TrainOutput(global_step=8000, training_loss=0.7483160644471646, metrics={'train_runtime': 142.6107, 'train_samples_per_second': 112.194, 'train_steps_per_second': 56.097, 'total_flos': 0.0, 'train_loss': 0.7483160644471646, 'epoch': 200.0})"
            ]
          },
          "metadata": {},
          "execution_count": 59
        }
      ]
    },
    {
      "cell_type": "code",
      "source": [
        "from torch.utils.data import DataLoader\n",
        "\n",
        "# Step 5: Evaluation\n",
        "def evaluate_model(texts, labels):\n",
        "    eval_dataset = CountingFiguresDataset(texts, labels, tokenizer, max_length=MAX_LEN_SENTENCE)\n",
        "    eval_loader = DataLoader(eval_dataset, batch_size=2)\n",
        "    total_correct = 0\n",
        "    total_samples = len(labels)\n",
        "    model.eval()\n",
        "    with torch.no_grad():\n",
        "        for batch in eval_loader:\n",
        "            input_ids = batch['input_ids']\n",
        "            attention_mask = batch['attention_mask']\n",
        "            labels = batch['labels']\n",
        "            outputs = model(input_ids=input_ids, attention_mask=attention_mask)\n",
        "            _, preds = torch.max(outputs, dim=-1)\n",
        "            total_correct += (preds == labels).sum().item()\n",
        "\n",
        "    accuracy = total_correct / total_samples\n",
        "    print(f'Accuracy: {accuracy * 100:.2f}%')\n",
        "\n",
        "\n",
        "# Generate descriptions and images for each shape list\n",
        "\n",
        "test_shape_lists = [generate_random_shapes() for _ in range(100)]\n",
        "\n",
        "eval_descriptions = []\n",
        "eval_lengths = []\n",
        "for i, shape_list in enumerate(test_shape_lists):\n",
        "  eval_descriptions.append(generate_descr_from_list(shape_list))\n",
        "  eval_lengths.append(len(shape_list))\n",
        "\n",
        "evaluate_model(eval_descriptions, eval_lengths)"
      ],
      "metadata": {
        "colab": {
          "base_uri": "https://localhost:8080/"
        },
        "id": "q4j1RRLb7hzX",
        "outputId": "d9963300-e0b8-42ab-811a-674c74fffbed"
      },
      "execution_count": 60,
      "outputs": [
        {
          "output_type": "stream",
          "name": "stdout",
          "text": [
            "Accuracy: 69.00%\n"
          ]
        }
      ]
    },
    {
      "cell_type": "code",
      "source": [
        "class MyTransformerDecoderLayer(nn.Module):\n",
        "    def __init__(self, input_dim, hidden_key_dim, hidden_val_dim, output_dim, enc_emb_dim, num_heads):\n",
        "        super(MyTransformerEncoderLayer, self).__init__()\n",
        "        self.input_dim = input_dim\n",
        "        self.hidden_key_dim = hidden_key_dim\n",
        "        self.hidden_val_dim = hidden_val_dim\n",
        "        self.output_dim = output_dim\n",
        "        self.enc_emb_dim = enc_emb_dim\n",
        "        self.num_heads = num_heads\n",
        "\n",
        "        self.masked_att = MyAttention(self.input_dim, self.hidden_key_dim, self.hidden_val_dim, enc_emb_dim=None, mask=True, num_heads=self.num_heads)\n",
        "        self.norm1 = nn.LayerNorm(self.input_dim)\n",
        "        self.cross_att = MyAttention(self.input_dim, self.hidden_key_dim, self.hidden_val_dim, enc_emb_dim=self.enc_emb_dim, mask=False, num_heads=self.num_heads)\n",
        "        self.norm2 = nn.LayerNorm(self.input_dim)\n",
        "        self.self_att = MyAttention(self.input_dim, self.hidden_key_dim, self.hidden_val_dim, enc_emb_dim=None, mask=False, num_heads=self.num_heads)\n",
        "        self.norm3 = nn.LayerNorm(self.input_dim)\n",
        "        self.feed_forward = nn.Sequential(\n",
        "            nn.Linear(self.hidden_dim, self.output_dim),\n",
        "            nn.ReLU()\n",
        "        )\n",
        "\n",
        "    def forward(self, x, enc_emb, attention_mask):\n",
        "        x = self.norm1(x + self.masked_att(x, attention_mask))\n",
        "        x = self.norm2(x + self.cross_att(x, encoder_embeddings=enc_emb, attention_mask=attention_mask))\n",
        "        x = self.norm3(x + self.self_att(x))\n",
        "        x = self.feed_forward(x)\n",
        "        return x"
      ],
      "metadata": {
        "id": "jeRheKQGyfmO"
      },
      "execution_count": 93,
      "outputs": []
    },
    {
      "cell_type": "code",
      "source": [
        "class MyTransformerDecoder(nn.Module):\n",
        "    def __init__(self, num_tokens, input_dim, hidden_key_dim, hidden_val_dim, output_dim, enc_emb_dim, max_length, num_layers, num_heads):\n",
        "        super(MyTransformerEncoder, self).__init__()\n",
        "        self.num_tokens = num_tokens\n",
        "        self.input_dim = input_dim\n",
        "        self.hidden_key_dim = hidden_key_dim\n",
        "        self.hidden_val_dim = hidden_val_dim\n",
        "        self.output_dim = output_dim\n",
        "        self.enc_emb_dim = enc_emb_dim\n",
        "        self.max_length = max_length\n",
        "        self.num_heads = num_heads\n",
        "\n",
        "        self.embedding = nn.Embedding(num_tokens, self.input_dim)\n",
        "        self.positional_encoding = MyPositionalEncoding(self.input_dim, max_length)\n",
        "        self.layers = nn.ModuleList([MyTransformerDecoderLayer(input_dim=self.input_dim,\n",
        "                                                               hidden_dim=self.hidden_dim,\n",
        "                                                               enc_emb_dim=self.enc_emb_dim,\n",
        "                                                               num_heads=num_heads) for _ in range(num_layers)])\n",
        "        self.linear = nn.Linear(self.input_dim, self.output_dim)\n",
        "        self.norm = nn.LayerNorm(self.output_dim)\n",
        "\n",
        "    def forward(self, x, enc_emb, attention_mask):\n",
        "        x = self.embedding(x)\n",
        "        x = self.positional_encoding(x)\n",
        "        for layer in self.layers:\n",
        "            x = layer(x, enc_emb, attention_mask=attention_mask)\n",
        "        x = self.linear(x)\n",
        "        x = self.norm(x)\n",
        "        return x"
      ],
      "metadata": {
        "id": "ztvWkEGivzxx"
      },
      "execution_count": 94,
      "outputs": []
    },
    {
      "cell_type": "code",
      "source": [
        "class MyTransformerTranslator(nn.Module):\n",
        "    def __init__(self, transf_enc, transf_dec, num_tokens_target_vocab):\n",
        "        super(MyTransformerTranslator, self).__init__()\n",
        "        self.transf_enc = transf_enc\n",
        "        self.transf_dec = transf_dec\n",
        "        self.linear = nn.Linear(self.transf_dec.output_dim, num_tokens_target_vocab)\n",
        "\n",
        "    def forward(self, source_embeddings, target_embeddings, attention_mask):\n",
        "        source_embeddings = self.transf_enc(source_embeddings)\n",
        "        decoded_embeddings = self.transf_dec(target_embeddings, source_embeddings, attention_mask)\n",
        "        return self.linear(decoded_embeddings)"
      ],
      "metadata": {
        "id": "LLudUsAtwhAs"
      },
      "execution_count": 95,
      "outputs": []
    },
    {
      "cell_type": "code",
      "source": [
        "\n",
        "class MyRandomMaskTokenizer(MyTokenizer):\n",
        "  def __init__(self, vocabulary):\n",
        "    super().__init__(vocabulary)\n",
        "\n",
        "  def encode_plus(self, text, add_special_tokens=True, max_length=MAX_LEN_SENTENCE, return_token_type_ids=False, padding='max_length', return_attention_mask=True, return_tensors='pt'):\n",
        "    sen_len, input_ids, attention_mask = super().encode(text, add_special_tokens, max_length, return_token_type_ids, padding, return_attention_mask, return_tensors)\n",
        "    if return_attention_mask:\n",
        "      new_len = random.randint(1, sen_len)\n",
        "      new_attention_mask = torch.cat((torch.ones(new_len), torch.zeros(sen_len - new_len)))\n",
        "      return {\n",
        "              'input_ids': torch.tensor(input_ids),\n",
        "              'attention_mask': torch.tensor(attention_mask)\n",
        "      }\n",
        "    else:\n",
        "      return {\n",
        "              'input_ids': torch.tensor(input_ids)\n",
        "      }\n",
        "\n",
        "tokenizer = MyRandomMaskTokenizer(CODE_VOCABULARY)\n",
        "tk = tokenizer.encode_plus(\n",
        "            \"c 2 t 1\",\n",
        "            add_special_tokens=True,\n",
        "            max_length=MAX_LEN_SENTENCE,\n",
        "            return_token_type_ids=False,\n",
        "            padding='max_length',\n",
        "            return_attention_mask=True,\n",
        "            return_tensors='pt',\n",
        "        )\n",
        "\n"
      ],
      "metadata": {
        "colab": {
          "base_uri": "https://localhost:8080/"
        },
        "id": "IvU4FiMZzYUU",
        "outputId": "9a0637c5-00c1-4a14-f257-2b9c781e47d4"
      },
      "execution_count": 114,
      "outputs": [
        {
          "output_type": "stream",
          "name": "stdout",
          "text": [
            "6\n",
            "['CLS', 'c', '2', 't', '1', 'EOS', 'PAD', 'PAD', 'PAD', 'PAD', 'PAD', 'PAD', 'PAD', 'PAD', 'PAD', 'PAD']\n",
            "{'input_ids': tensor([ 0, 11,  7, 10,  6,  4,  3,  3,  3,  3,  3,  3,  3,  3,  3,  3]), 'attention_mask': tensor([1, 1, 1, 1, 1, 1, 0, 0, 0, 0, 0, 0, 0, 0, 0, 0])}\n"
          ]
        }
      ]
    },
    {
      "cell_type": "code",
      "source": [
        "class TranslationDataset(Dataset):\n",
        "    def __init__(self, texts, labels, tokenizer, max_length):\n",
        "        self.texts = texts\n",
        "        self.labels = labels\n",
        "        self.tokenizer = tokenizer\n",
        "        self.max_length = max_length\n",
        "\n",
        "    def __len__(self):\n",
        "        return len(self.texts)\n",
        "\n",
        "    def __getitem__(self, idx):\n",
        "        text = self.texts[idx]\n",
        "        label = self.labels[idx]\n",
        "        encoding = self.tokenizer.encode_plus(\n",
        "            text,\n",
        "            add_special_tokens=True,\n",
        "            max_length=self.max_length,\n",
        "            return_token_type_ids=False,\n",
        "            padding='max_length',\n",
        "            return_attention_mask=True,\n",
        "            return_tensors='pt',\n",
        "        )\n",
        "        return {\n",
        "            'input_ids': encoding['input_ids'].flatten(),\n",
        "            'attention_mask': encoding['attention_mask'].flatten(),\n",
        "            'labels': torch.tensor(label, dtype=torch.long)\n",
        "        }"
      ],
      "metadata": {
        "id": "zgAr-duaEWP1"
      },
      "execution_count": 113,
      "outputs": []
    }
  ]
}