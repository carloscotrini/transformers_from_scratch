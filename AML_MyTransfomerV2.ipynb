{
  "nbformat": 4,
  "nbformat_minor": 0,
  "metadata": {
    "colab": {
      "provenance": [],
      "authorship_tag": "ABX9TyM5jicCXpqn2Qk1CAe8oICp",
      "include_colab_link": true
    },
    "kernelspec": {
      "name": "python3",
      "display_name": "Python 3"
    },
    "language_info": {
      "name": "python"
    }
  },
  "cells": [
    {
      "cell_type": "markdown",
      "metadata": {
        "id": "view-in-github",
        "colab_type": "text"
      },
      "source": [
        "<a href=\"https://colab.research.google.com/github/carloscotrini/transformers_from_scratch/blob/main/AML_MyTransfomerV2.ipynb\" target=\"_parent\"><img src=\"https://colab.research.google.com/assets/colab-badge.svg\" alt=\"Open In Colab\"/></a>"
      ]
    },
    {
      "cell_type": "code",
      "execution_count": 1,
      "metadata": {
        "colab": {
          "base_uri": "https://localhost:8080/"
        },
        "id": "7GWhXikQiMT2",
        "outputId": "6a0c3299-77b8-4c08-df96-d5b9dfe81ec2"
      },
      "outputs": [
        {
          "output_type": "stream",
          "name": "stdout",
          "text": [
            "a triangle and two circles\n",
            "circle after triangle and one triangle\n",
            "a circle then one triangle and circle after circle\n",
            "one triangle\n",
            "circle after triangle then one triangle\n",
            "a circle and two triangles\n",
            "triangle after circle and one circle and a triangle\n",
            "triangle after circle\n",
            "triangle after circle\n",
            "circle after triangle then one triangle\n",
            "a triangle\n",
            "triangle after circle\n",
            "circle after circle then one triangle\n",
            "circle after circle then triangle after triangle\n",
            "one triangle and circle after triangle then one circle\n",
            "one triangle and one triangle\n",
            "a circle\n",
            "circle after circle\n",
            "triangle after triangle and one circle\n",
            "triangle after triangle and triangle after triangle\n",
            "triangle after circle then circle after circle\n",
            "triangle after triangle then one circle then one circle\n",
            "one circle\n",
            "triangle after triangle\n",
            "one circle then triangle after triangle then a triangle\n",
            "triangle after circle and one circle\n",
            "a triangle\n",
            "a circle\n",
            "a circle\n",
            "one triangle then triangle after circle\n",
            "triangle after triangle\n",
            "one circle\n",
            "circle after circle\n",
            "a circle then one circle then a triangle\n",
            "one circle\n",
            "one circle then a triangle\n",
            "a circle\n",
            "a triangle then two circles\n",
            "a circle then two triangles\n",
            "a circle then one triangle and a circle\n",
            "triangle after triangle then a triangle\n",
            "one circle\n",
            "circle after circle and one circle\n",
            "a triangle\n",
            "triangle after triangle and one circle\n",
            "one triangle and a triangle then triangle after triangle\n",
            "a circle\n",
            "triangle after triangle\n",
            "triangle after triangle then one circle\n",
            "one triangle and one circle\n",
            "one triangle and circle after circle\n",
            "a circle and one triangle then triangle after circle\n",
            "triangle after circle then a circle\n",
            "triangle after triangle and a circle\n",
            "triangle after circle and a circle and a triangle\n",
            "circle after triangle and triangle after circle\n",
            "one circle\n",
            "triangle after triangle and a circle\n",
            "triangle after circle\n",
            "triangle after circle and one circle\n",
            "a triangle then one triangle\n",
            "one circle\n",
            "a circle\n",
            "triangle after triangle\n",
            "circle after triangle\n",
            "circle after circle then circle after circle\n",
            "one circle\n",
            "a circle\n",
            "one triangle and a circle\n",
            "one triangle\n",
            "one triangle then two circles\n",
            "two triangles\n",
            "a triangle\n",
            "one triangle\n",
            "a circle and a triangle\n",
            "two triangles\n",
            "a triangle\n",
            "triangle after triangle\n",
            "one triangle\n",
            "one triangle then a triangle and triangle after triangle\n",
            "one triangle\n",
            "one circle and two triangles\n",
            "circle after triangle\n",
            "two circles\n",
            "circle after circle and a triangle and a circle\n",
            "a circle\n",
            "a triangle then one triangle and a circle then one triangle\n",
            "triangle after triangle and a triangle\n",
            "circle after triangle\n",
            "circle after triangle and a circle\n",
            "two circles\n",
            "a triangle\n",
            "two circles\n",
            "circle after circle and a triangle then one circle\n",
            "two triangles\n",
            "one triangle and a circle then one triangle\n",
            "circle after circle and circle after circle\n",
            "a triangle\n",
            "triangle after triangle and a triangle then one circle\n",
            "circle after triangle then one triangle and a circle\n"
          ]
        }
      ],
      "source": [
        "import random\n",
        "\n",
        "SHAPES = [\"triangle\", \"circle\"]\n",
        "PLURALS = [shape + \"s\" for shape in SHAPES]\n",
        "ARTICLES = [\"a\", \"one\"]\n",
        "TWO_ARTICLES = [\"two\"]\n",
        "CONNECTORS = [\"and\", \"then\"]\n",
        "REVERSE_CONNECTORS = [\"after\"]\n",
        "CLASS_TOKEN = \"CLS\"\n",
        "MASK_TOKEN = \"MASK\"\n",
        "SEP_TOKEN = \"SEP\"\n",
        "PAD_TOKEN = \"PAD\"\n",
        "SPECIAL_TOKENS = [CLASS_TOKEN, MASK_TOKEN, SEP_TOKEN, PAD_TOKEN]\n",
        "VOCABULARY = SHAPES + PLURALS + ARTICLES + CONNECTORS + REVERSE_CONNECTORS + TWO_ARTICLES + SPECIAL_TOKENS\n",
        "MAX_LEN_SENTENCE = 16 # Maximum possible length of a sequence\n",
        "\n",
        "def generate_descr_from_list(r):\n",
        "  if len(r) > 4:\n",
        "    raise Exception(\"Too many items\")\n",
        "  elif len(r) == 0:\n",
        "    return \"\"\n",
        "  elif len(r) == 1:\n",
        "    article = random.choice(ARTICLES)\n",
        "    return \"{} {}\".format(article, r[0])\n",
        "  else:\n",
        "    reversed_descr = random.random() > 0.5\n",
        "    if reversed_descr:\n",
        "      descr = \"{} {} {}\".format(r[1], random.choice(REVERSE_CONNECTORS), r[0])\n",
        "      if len(r) > 2:\n",
        "        return descr + \" \" + random.choice(CONNECTORS) + \" \" + generate_descr_from_list(r[2:])\n",
        "      return descr\n",
        "    if r[0] == r[1]:\n",
        "      plural_desc = random.random() > 0.5\n",
        "      if plural_desc:\n",
        "          return \"{} {}s\".format(random.choice(TWO_ARTICLES), r[0])\n",
        "    return generate_descr_from_list([r[0]]) + \" \" + random.choice(CONNECTORS) + \" \" + generate_descr_from_list(r[1:])\n",
        "\n",
        "\n",
        "def generate_random_shapes():\n",
        "  num_shapes = random.randint(1, 4)\n",
        "  result = []\n",
        "  for _ in range(num_shapes):\n",
        "    result.append(random.choice(SHAPES))\n",
        "  return result\n",
        "\n",
        "\n",
        "for i in range(100):\n",
        "  print(generate_descr_from_list(generate_random_shapes()))\n",
        "\n"
      ]
    },
    {
      "cell_type": "code",
      "source": [
        "import numpy as np\n",
        "import matplotlib.pyplot as plt\n",
        "from PIL import Image, ImageDraw\n",
        "import random\n",
        "\n",
        "def generate_image(word_list, filename):\n",
        "    # Create a blank 32x32 image\n",
        "    image_size = 32\n",
        "    patch_size = 16\n",
        "    image = Image.new(\"1\", (image_size, image_size), 1)  # '1' for 1-bit pixels, black and white\n",
        "\n",
        "    for i, word in enumerate(word_list):\n",
        "        if word not in [\"triangle\", \"circle\"]:\n",
        "            continue\n",
        "\n",
        "        # Determine the top-left corner of the patch\n",
        "        x_offset = (i % 2) * patch_size\n",
        "        y_offset = (i // 2) * patch_size\n",
        "\n",
        "        # Draw the shape in the corresponding patch\n",
        "        draw = ImageDraw.Draw(image)\n",
        "        if word == \"triangle\":\n",
        "            points = [(random.randint(x_offset, x_offset + patch_size), random.randint(y_offset, y_offset + patch_size)) for _ in range(3)]\n",
        "            draw.polygon(points, fill=0)\n",
        "        elif word == \"circle\":\n",
        "            radius = random.randint(2, patch_size // 2)\n",
        "            center_x = random.randint(x_offset + radius, x_offset + patch_size - radius)\n",
        "            center_y = random.randint(y_offset + radius, y_offset + patch_size - radius)\n",
        "            draw.ellipse([center_x - radius, center_y - radius, center_x + radius, center_y + radius], fill=0)\n",
        "\n",
        "    # Save the image to the specified filename\n",
        "    image.save(filename)\n",
        "\n",
        "def plot_image(filename):\n",
        "    # Open the image\n",
        "    image = Image.open(filename)\n",
        "\n",
        "    # Convert the image to a NumPy array\n",
        "    image_array = np.array(image)\n",
        "\n",
        "    # Plot the image\n",
        "    plt.imshow(image_array)\n",
        "    plt.axis('off')  # Turn off axis labels\n",
        "    plt.show()\n",
        "\n",
        "# Example usage:\n",
        "generate_image([\"circle\", \"triangle\", \"circle\"], \"output_image.png\")\n"
      ],
      "metadata": {
        "id": "wTQhOfTfnv11"
      },
      "execution_count": 2,
      "outputs": []
    },
    {
      "cell_type": "code",
      "source": [
        "NUMBER_CODES = [str(i) for i in range(5)]\n",
        "SHAPE_CODES = [shape[0] for shape in SHAPES]\n",
        "CODES = NUMBER_CODES + SHAPE_CODES\n",
        "CODE_VOCABULARY = SPECIAL_TOKENS + CODES\n",
        "\n",
        "def generate_code_str(shape_list):\n",
        "  codes = []\n",
        "  i = 0\n",
        "  while i < len(shape_list):\n",
        "    j = i + 1\n",
        "    while j < len(shape_list) and shape_list[i] == shape_list[j]:\n",
        "      j += 1\n",
        "    codes.append(f\"{NUMBER_CODES[j-i]} {shape_list[i][0]}\")\n",
        "    i = j\n",
        "  return \" \".join(codes)"
      ],
      "metadata": {
        "id": "fKuFwFcvmroH"
      },
      "execution_count": 3,
      "outputs": []
    },
    {
      "cell_type": "code",
      "source": [
        "# Generate 100 random shape lists\n",
        "shape_lists = [generate_random_shapes() for _ in range(100)]\n",
        "code_lists = list(map(generate_code_str, shape_lists))\n",
        "descriptions = []\n",
        "\n",
        "# Generate descriptions and images for each shape list\n",
        "for i, shape_list in enumerate(shape_lists):\n",
        "  description = generate_descr_from_list(shape_list)\n",
        "  descriptions.append(description)\n",
        "  print(shape_list)\n",
        "  print(description)\n",
        "  print(code_lists[i])\n",
        "  generate_image(shape_list, f\"f{i}.png\")\n",
        "  plot_image(f\"f{i}.png\")\n"
      ],
      "metadata": {
        "colab": {
          "base_uri": "https://localhost:8080/",
          "height": 1000
        },
        "id": "VvfchFGDpLHC",
        "outputId": "990fc290-6088-426d-a9c0-0b5a1c2d3af9"
      },
      "execution_count": 18,
      "outputs": [
        {
          "output_type": "stream",
          "name": "stdout",
          "text": [
            "['circle']\n",
            "a circle\n",
            "1 c\n"
          ]
        },
        {
          "output_type": "display_data",
          "data": {
            "text/plain": [
              "<Figure size 640x480 with 1 Axes>"
            ],
            "image/png": "[encoded data removed]"
          },
          "metadata": {}
        },
        {
          "output_type": "stream",
          "name": "stdout",
          "text": [
            "['circle', 'triangle']\n",
            "a circle and a triangle\n",
            "1 c 1 t\n"
          ]
        },
        {
          "output_type": "display_data",
          "data": {
            "text/plain": [
              "<Figure size 640x480 with 1 Axes>"
            ],
            "image/png": "[encoded data removed]"
          },
          "metadata": {}
        },
        {
          "output_type": "stream",
          "name": "stdout",
          "text": [
            "['circle']\n",
            "a circle\n",
            "1 c\n"
          ]
        },
        {
          "output_type": "display_data",
          "data": {
            "text/plain": [
              "<Figure size 640x480 with 1 Axes>"
            ],
            "image/png": "[encoded data removed]"
          },
          "metadata": {}
        },
        {
          "output_type": "stream",
          "name": "stdout",
          "text": [
            "['triangle']\n",
            "one triangle\n",
            "1 t\n"
          ]
        },
        {
          "output_type": "display_data",
          "data": {
            "text/plain": [
              "<Figure size 640x480 with 1 Axes>"
            ],
            "image/png": "[encoded data removed]"
          },
          "metadata": {}
        },
        {
          "output_type": "stream",
          "name": "stdout",
          "text": [
            "['circle']\n",
            "one circle\n",
            "1 c\n"
          ]
        },
        {
          "output_type": "display_data",
          "data": {
            "text/plain": [
              "<Figure size 640x480 with 1 Axes>"
            ],
            "image/png": "[encoded data removed]"
          },
          "metadata": {}
        },
        {
          "output_type": "stream",
          "name": "stdout",
          "text": [
            "['circle', 'triangle', 'circle']\n",
            "one circle and circle after triangle\n",
            "1 c 1 t 1 c\n"
          ]
        },
        {
          "output_type": "display_data",
          "data": {
            "text/plain": [
              "<Figure size 640x480 with 1 Axes>"
            ],
            "image/png": "[encoded data removed]"
          },
          "metadata": {}
        },
        {
          "output_type": "stream",
          "name": "stdout",
          "text": [
            "['triangle', 'triangle', 'triangle']\n",
            "two triangles\n",
            "3 t\n"
          ]
        },
        {
          "output_type": "display_data",
          "data": {
            "text/plain": [
              "<Figure size 640x480 with 1 Axes>"
            ],
            "image/png": "[encoded data removed]"
          },
          "metadata": {}
        },
        {
          "output_type": "stream",
          "name": "stdout",
          "text": [
            "['circle', 'circle']\n",
            "a circle and a circle\n",
            "2 c\n"
          ]
        },
        {
          "output_type": "display_data",
          "data": {
            "text/plain": [
              "<Figure size 640x480 with 1 Axes>"
            ],
            "image/png": "[encoded data removed]"
          },
          "metadata": {}
        },
        {
          "output_type": "stream",
          "name": "stdout",
          "text": [
            "['triangle']\n",
            "one triangle\n",
            "1 t\n"
          ]
        },
        {
          "output_type": "display_data",
          "data": {
            "text/plain": [
              "<Figure size 640x480 with 1 Axes>"
            ],
            "image/png": "[encoded data removed]"
          },
          "metadata": {}
        },
        {
          "output_type": "stream",
          "name": "stdout",
          "text": [
            "['circle', 'circle', 'triangle']\n",
            "circle after circle then one triangle\n",
            "2 c 1 t\n"
          ]
        },
        {
          "output_type": "display_data",
          "data": {
            "text/plain": [
              "<Figure size 640x480 with 1 Axes>"
            ],
            "image/png": "[encoded data removed]"
          },
          "metadata": {}
        },
        {
          "output_type": "stream",
          "name": "stdout",
          "text": [
            "['triangle']\n",
            "one triangle\n",
            "1 t\n"
          ]
        },
        {
          "output_type": "display_data",
          "data": {
            "text/plain": [
              "<Figure size 640x480 with 1 Axes>"
            ],
            "image/png": "[encoded data removed]"
          },
          "metadata": {}
        },
        {
          "output_type": "stream",
          "name": "stdout",
          "text": [
            "['circle', 'triangle']\n",
            "a circle and one triangle\n",
            "1 c 1 t\n"
          ]
        },
        {
          "output_type": "display_data",
          "data": {
            "text/plain": [
              "<Figure size 640x480 with 1 Axes>"
            ],
            "image/png": "[encoded data removed]"
          },
          "metadata": {}
        },
        {
          "output_type": "stream",
          "name": "stdout",
          "text": [
            "['triangle', 'triangle']\n",
            "a triangle and a triangle\n",
            "2 t\n"
          ]
        },
        {
          "output_type": "display_data",
          "data": {
            "text/plain": [
              "<Figure size 640x480 with 1 Axes>"
            ],
            "image/png": "[encoded data removed]"
          },
          "metadata": {}
        },
        {
          "output_type": "stream",
          "name": "stdout",
          "text": [
            "['circle', 'circle', 'circle', 'circle']\n",
            "a circle then circle after circle then one circle\n",
            "4 c\n"
          ]
        },
        {
          "output_type": "display_data",
          "data": {
            "text/plain": [
              "<Figure size 640x480 with 1 Axes>"
            ],
            "image/png": "[encoded data removed]"
          },
          "metadata": {}
        },
        {
          "output_type": "stream",
          "name": "stdout",
          "text": [
            "['triangle', 'circle', 'triangle']\n",
            "circle after triangle and a triangle\n",
            "1 t 1 c 1 t\n"
          ]
        },
        {
          "output_type": "display_data",
          "data": {
            "text/plain": [
              "<Figure size 640x480 with 1 Axes>"
            ],
            "image/png": "[encoded data removed]"
          },
          "metadata": {}
        },
        {
          "output_type": "stream",
          "name": "stdout",
          "text": [
            "['triangle', 'triangle']\n",
            "triangle after triangle\n",
            "2 t\n"
          ]
        },
        {
          "output_type": "display_data",
          "data": {
            "text/plain": [
              "<Figure size 640x480 with 1 Axes>"
            ],
            "image/png": "[encoded data removed]"
          },
          "metadata": {}
        },
        {
          "output_type": "stream",
          "name": "stdout",
          "text": [
            "['triangle', 'triangle']\n",
            "two triangles\n",
            "2 t\n"
          ]
        },
        {
          "output_type": "display_data",
          "data": {
            "text/plain": [
              "<Figure size 640x480 with 1 Axes>"
            ],
            "image/png": "[encoded data removed]"
          },
          "metadata": {}
        },
        {
          "output_type": "stream",
          "name": "stdout",
          "text": [
            "['circle', 'circle', 'circle']\n",
            "one circle then two circles\n",
            "3 c\n"
          ]
        },
        {
          "output_type": "display_data",
          "data": {
            "text/plain": [
              "<Figure size 640x480 with 1 Axes>"
            ],
            "image/png": "[encoded data removed]"
          },
          "metadata": {}
        },
        {
          "output_type": "stream",
          "name": "stdout",
          "text": [
            "['triangle', 'circle', 'circle']\n",
            "circle after triangle and one circle\n",
            "1 t 2 c\n"
          ]
        },
        {
          "output_type": "display_data",
          "data": {
            "text/plain": [
              "<Figure size 640x480 with 1 Axes>"
            ],
            "image/png": "[encoded data removed]"
          },
          "metadata": {}
        },
        {
          "output_type": "stream",
          "name": "stdout",
          "text": [
            "['circle', 'triangle', 'triangle']\n",
            "a circle and two triangles\n",
            "1 c 2 t\n"
          ]
        },
        {
          "output_type": "display_data",
          "data": {
            "text/plain": [
              "<Figure size 640x480 with 1 Axes>"
            ],
            "image/png": "[encoded data removed]"
          },
          "metadata": {}
        },
        {
          "output_type": "stream",
          "name": "stdout",
          "text": [
            "['triangle', 'circle', 'circle']\n",
            "a triangle and circle after circle\n",
            "1 t 2 c\n"
          ]
        },
        {
          "output_type": "display_data",
          "data": {
            "text/plain": [
              "<Figure size 640x480 with 1 Axes>"
            ],
            "image/png": "[encoded data removed]"
          },
          "metadata": {}
        },
        {
          "output_type": "stream",
          "name": "stdout",
          "text": [
            "['triangle', 'triangle', 'triangle', 'circle']\n",
            "a triangle and one triangle then a triangle and one circle\n",
            "3 t 1 c\n"
          ]
        },
        {
          "output_type": "display_data",
          "data": {
            "text/plain": [
              "<Figure size 640x480 with 1 Axes>"
            ],
            "image/png": "[encoded data removed]"
          },
          "metadata": {}
        },
        {
          "output_type": "stream",
          "name": "stdout",
          "text": [
            "['triangle']\n",
            "one triangle\n",
            "1 t\n"
          ]
        },
        {
          "output_type": "display_data",
          "data": {
            "text/plain": [
              "<Figure size 640x480 with 1 Axes>"
            ],
            "image/png": "[encoded data removed]"
          },
          "metadata": {}
        },
        {
          "output_type": "stream",
          "name": "stdout",
          "text": [
            "['circle', 'triangle']\n",
            "triangle after circle\n",
            "1 c 1 t\n"
          ]
        },
        {
          "output_type": "display_data",
          "data": {
            "text/plain": [
              "<Figure size 640x480 with 1 Axes>"
            ],
            "image/png": "[encoded data removed]"
          },
          "metadata": {}
        },
        {
          "output_type": "stream",
          "name": "stdout",
          "text": [
            "['circle']\n",
            "a circle\n",
            "1 c\n"
          ]
        },
        {
          "output_type": "display_data",
          "data": {
            "text/plain": [
              "<Figure size 640x480 with 1 Axes>"
            ],
            "image/png": "[encoded data removed]"
          },
          "metadata": {}
        },
        {
          "output_type": "stream",
          "name": "stdout",
          "text": [
            "['triangle', 'circle', 'triangle']\n",
            "circle after triangle then a triangle\n",
            "1 t 1 c 1 t\n"
          ]
        },
        {
          "output_type": "display_data",
          "data": {
            "text/plain": [
              "<Figure size 640x480 with 1 Axes>"
            ],
            "image/png": "[encoded data removed]"
          },
          "metadata": {}
        },
        {
          "output_type": "stream",
          "name": "stdout",
          "text": [
            "['circle', 'circle', 'triangle', 'triangle']\n",
            "one circle then a circle then triangle after triangle\n",
            "2 c 2 t\n"
          ]
        },
        {
          "output_type": "display_data",
          "data": {
            "text/plain": [
              "<Figure size 640x480 with 1 Axes>"
            ],
            "image/png": "[encoded data removed]"
          },
          "metadata": {}
        },
        {
          "output_type": "stream",
          "name": "stdout",
          "text": [
            "['triangle']\n",
            "one triangle\n",
            "1 t\n"
          ]
        },
        {
          "output_type": "display_data",
          "data": {
            "text/plain": [
              "<Figure size 640x480 with 1 Axes>"
            ],
            "image/png": "[encoded data removed]"
          },
          "metadata": {}
        },
        {
          "output_type": "stream",
          "name": "stdout",
          "text": [
            "['triangle', 'triangle', 'circle']\n",
            "two triangles\n",
            "2 t 1 c\n"
          ]
        },
        {
          "output_type": "display_data",
          "data": {
            "text/plain": [
              "<Figure size 640x480 with 1 Axes>"
            ],
            "image/png": "[encoded data removed]"
          },
          "metadata": {}
        },
        {
          "output_type": "stream",
          "name": "stdout",
          "text": [
            "['triangle']\n",
            "a triangle\n",
            "1 t\n"
          ]
        },
        {
          "output_type": "display_data",
          "data": {
            "text/plain": [
              "<Figure size 640x480 with 1 Axes>"
            ],
            "image/png": "[encoded data removed]"
          },
          "metadata": {}
        },
        {
          "output_type": "stream",
          "name": "stdout",
          "text": [
            "['circle', 'circle', 'circle', 'triangle']\n",
            "a circle and two circles\n",
            "3 c 1 t\n"
          ]
        },
        {
          "output_type": "display_data",
          "data": {
            "text/plain": [
              "<Figure size 640x480 with 1 Axes>"
            ],
            "image/png": "[encoded data removed]"
          },
          "metadata": {}
        },
        {
          "output_type": "stream",
          "name": "stdout",
          "text": [
            "['circle', 'triangle']\n",
            "one circle then a triangle\n",
            "1 c 1 t\n"
          ]
        },
        {
          "output_type": "display_data",
          "data": {
            "text/plain": [
              "<Figure size 640x480 with 1 Axes>"
            ],
            "image/png": "[encoded data removed]"
          },
          "metadata": {}
        },
        {
          "output_type": "stream",
          "name": "stdout",
          "text": [
            "['circle']\n",
            "a circle\n",
            "1 c\n"
          ]
        },
        {
          "output_type": "display_data",
          "data": {
            "text/plain": [
              "<Figure size 640x480 with 1 Axes>"
            ],
            "image/png": "[encoded data removed]"
          },
          "metadata": {}
        },
        {
          "output_type": "stream",
          "name": "stdout",
          "text": [
            "['circle', 'triangle', 'circle']\n",
            "triangle after circle then one circle\n",
            "1 c 1 t 1 c\n"
          ]
        },
        {
          "output_type": "display_data",
          "data": {
            "text/plain": [
              "<Figure size 640x480 with 1 Axes>"
            ],
            "image/png": "[encoded data removed]"
          },
          "metadata": {}
        },
        {
          "output_type": "stream",
          "name": "stdout",
          "text": [
            "['triangle']\n",
            "one triangle\n",
            "1 t\n"
          ]
        },
        {
          "output_type": "display_data",
          "data": {
            "text/plain": [
              "<Figure size 640x480 with 1 Axes>"
            ],
            "image/png": "[encoded data removed]"
          },
          "metadata": {}
        },
        {
          "output_type": "stream",
          "name": "stdout",
          "text": [
            "['triangle']\n",
            "one triangle\n",
            "1 t\n"
          ]
        },
        {
          "output_type": "display_data",
          "data": {
            "text/plain": [
              "<Figure size 640x480 with 1 Axes>"
            ],
            "image/png": "[encoded data removed]"
          },
          "metadata": {}
        },
        {
          "output_type": "stream",
          "name": "stdout",
          "text": [
            "['triangle']\n",
            "one triangle\n",
            "1 t\n"
          ]
        },
        {
          "output_type": "display_data",
          "data": {
            "text/plain": [
              "<Figure size 640x480 with 1 Axes>"
            ],
            "image/png": "[encoded data removed]"
          },
          "metadata": {}
        },
        {
          "output_type": "stream",
          "name": "stdout",
          "text": [
            "['triangle']\n",
            "a triangle\n",
            "1 t\n"
          ]
        },
        {
          "output_type": "display_data",
          "data": {
            "text/plain": [
              "<Figure size 640x480 with 1 Axes>"
            ],
            "image/png": "[encoded data removed]"
          },
          "metadata": {}
        },
        {
          "output_type": "stream",
          "name": "stdout",
          "text": [
            "['circle']\n",
            "a circle\n",
            "1 c\n"
          ]
        },
        {
          "output_type": "display_data",
          "data": {
            "text/plain": [
              "<Figure size 640x480 with 1 Axes>"
            ],
            "image/png": "[encoded data removed]"
          },
          "metadata": {}
        },
        {
          "output_type": "stream",
          "name": "stdout",
          "text": [
            "['triangle', 'triangle', 'triangle']\n",
            "triangle after triangle and one triangle\n",
            "3 t\n"
          ]
        },
        {
          "output_type": "display_data",
          "data": {
            "text/plain": [
              "<Figure size 640x480 with 1 Axes>"
            ],
            "image/png": "[encoded data removed]"
          },
          "metadata": {}
        },
        {
          "output_type": "stream",
          "name": "stdout",
          "text": [
            "['circle', 'circle']\n",
            "circle after circle\n",
            "2 c\n"
          ]
        },
        {
          "output_type": "display_data",
          "data": {
            "text/plain": [
              "<Figure size 640x480 with 1 Axes>"
            ],
            "image/png": "[encoded data removed]"
          },
          "metadata": {}
        },
        {
          "output_type": "stream",
          "name": "stdout",
          "text": [
            "['triangle', 'circle', 'triangle', 'triangle']\n",
            "circle after triangle then triangle after triangle\n",
            "1 t 1 c 2 t\n"
          ]
        },
        {
          "output_type": "display_data",
          "data": {
            "text/plain": [
              "<Figure size 640x480 with 1 Axes>"
            ],
            "image/png": "[encoded data removed]"
          },
          "metadata": {}
        },
        {
          "output_type": "stream",
          "name": "stdout",
          "text": [
            "['circle']\n",
            "a circle\n",
            "1 c\n"
          ]
        },
        {
          "output_type": "display_data",
          "data": {
            "text/plain": [
              "<Figure size 640x480 with 1 Axes>"
            ],
            "image/png": "[encoded data removed]"
          },
          "metadata": {}
        },
        {
          "output_type": "stream",
          "name": "stdout",
          "text": [
            "['triangle', 'triangle', 'circle', 'triangle']\n",
            "triangle after triangle and triangle after circle\n",
            "2 t 1 c 1 t\n"
          ]
        },
        {
          "output_type": "display_data",
          "data": {
            "text/plain": [
              "<Figure size 640x480 with 1 Axes>"
            ],
            "image/png": "[encoded data removed]"
          },
          "metadata": {}
        },
        {
          "output_type": "stream",
          "name": "stdout",
          "text": [
            "['triangle']\n",
            "a triangle\n",
            "1 t\n"
          ]
        },
        {
          "output_type": "display_data",
          "data": {
            "text/plain": [
              "<Figure size 640x480 with 1 Axes>"
            ],
            "image/png": "[encoded data removed]"
          },
          "metadata": {}
        },
        {
          "output_type": "stream",
          "name": "stdout",
          "text": [
            "['triangle']\n",
            "a triangle\n",
            "1 t\n"
          ]
        },
        {
          "output_type": "display_data",
          "data": {
            "text/plain": [
              "<Figure size 640x480 with 1 Axes>"
            ],
            "image/png": "[encoded data removed]"
          },
          "metadata": {}
        },
        {
          "output_type": "stream",
          "name": "stdout",
          "text": [
            "['triangle', 'circle', 'triangle']\n",
            "a triangle and one circle and one triangle\n",
            "1 t 1 c 1 t\n"
          ]
        },
        {
          "output_type": "display_data",
          "data": {
            "text/plain": [
              "<Figure size 640x480 with 1 Axes>"
            ],
            "image/png": "[encoded data removed]"
          },
          "metadata": {}
        },
        {
          "output_type": "stream",
          "name": "stdout",
          "text": [
            "['circle', 'triangle']\n",
            "triangle after circle\n",
            "1 c 1 t\n"
          ]
        },
        {
          "output_type": "display_data",
          "data": {
            "text/plain": [
              "<Figure size 640x480 with 1 Axes>"
            ],
            "image/png": "[encoded data removed]"
          },
          "metadata": {}
        },
        {
          "output_type": "stream",
          "name": "stdout",
          "text": [
            "['triangle', 'circle', 'circle', 'circle']\n",
            "a triangle and circle after circle and a circle\n",
            "1 t 3 c\n"
          ]
        },
        {
          "output_type": "display_data",
          "data": {
            "text/plain": [
              "<Figure size 640x480 with 1 Axes>"
            ],
            "image/png": "[encoded data removed]"
          },
          "metadata": {}
        },
        {
          "output_type": "stream",
          "name": "stdout",
          "text": [
            "['triangle', 'circle', 'circle']\n",
            "circle after triangle then one circle\n",
            "1 t 2 c\n"
          ]
        },
        {
          "output_type": "display_data",
          "data": {
            "text/plain": [
              "<Figure size 640x480 with 1 Axes>"
            ],
            "image/png": "[encoded data removed]"
          },
          "metadata": {}
        },
        {
          "output_type": "stream",
          "name": "stdout",
          "text": [
            "['triangle', 'triangle']\n",
            "one triangle then a triangle\n",
            "2 t\n"
          ]
        },
        {
          "output_type": "display_data",
          "data": {
            "text/plain": [
              "<Figure size 640x480 with 1 Axes>"
            ],
            "image/png": "[encoded data removed]"
          },
          "metadata": {}
        },
        {
          "output_type": "stream",
          "name": "stdout",
          "text": [
            "['triangle']\n",
            "a triangle\n",
            "1 t\n"
          ]
        },
        {
          "output_type": "display_data",
          "data": {
            "text/plain": [
              "<Figure size 640x480 with 1 Axes>"
            ],
            "image/png": "[encoded data removed]"
          },
          "metadata": {}
        },
        {
          "output_type": "stream",
          "name": "stdout",
          "text": [
            "['triangle', 'circle', 'circle', 'circle']\n",
            "a triangle and two circles\n",
            "1 t 3 c\n"
          ]
        },
        {
          "output_type": "display_data",
          "data": {
            "text/plain": [
              "<Figure size 640x480 with 1 Axes>"
            ],
            "image/png": "[encoded data removed]"
          },
          "metadata": {}
        },
        {
          "output_type": "stream",
          "name": "stdout",
          "text": [
            "['circle', 'circle', 'triangle']\n",
            "circle after circle and one triangle\n",
            "2 c 1 t\n"
          ]
        },
        {
          "output_type": "display_data",
          "data": {
            "text/plain": [
              "<Figure size 640x480 with 1 Axes>"
            ],
            "image/png": "[encoded data removed]"
          },
          "metadata": {}
        },
        {
          "output_type": "stream",
          "name": "stdout",
          "text": [
            "['circle', 'triangle']\n",
            "triangle after circle\n",
            "1 c 1 t\n"
          ]
        },
        {
          "output_type": "display_data",
          "data": {
            "text/plain": [
              "<Figure size 640x480 with 1 Axes>"
            ],
            "image/png": "[encoded data removed]"
          },
          "metadata": {}
        },
        {
          "output_type": "stream",
          "name": "stdout",
          "text": [
            "['circle']\n",
            "a circle\n",
            "1 c\n"
          ]
        },
        {
          "output_type": "display_data",
          "data": {
            "text/plain": [
              "<Figure size 640x480 with 1 Axes>"
            ],
            "image/png": "[encoded data removed]"
          },
          "metadata": {}
        },
        {
          "output_type": "stream",
          "name": "stdout",
          "text": [
            "['circle', 'triangle', 'triangle', 'triangle']\n",
            "triangle after circle then one triangle and one triangle\n",
            "1 c 3 t\n"
          ]
        },
        {
          "output_type": "display_data",
          "data": {
            "text/plain": [
              "<Figure size 640x480 with 1 Axes>"
            ],
            "image/png": "[encoded data removed]"
          },
          "metadata": {}
        },
        {
          "output_type": "stream",
          "name": "stdout",
          "text": [
            "['circle', 'circle']\n",
            "circle after circle\n",
            "2 c\n"
          ]
        },
        {
          "output_type": "display_data",
          "data": {
            "text/plain": [
              "<Figure size 640x480 with 1 Axes>"
            ],
            "image/png": "[encoded data removed]"
          },
          "metadata": {}
        },
        {
          "output_type": "stream",
          "name": "stdout",
          "text": [
            "['circle', 'circle', 'triangle', 'triangle']\n",
            "a circle and triangle after circle and a triangle\n",
            "2 c 2 t\n"
          ]
        },
        {
          "output_type": "display_data",
          "data": {
            "text/plain": [
              "<Figure size 640x480 with 1 Axes>"
            ],
            "image/png": "[encoded data removed]"
          },
          "metadata": {}
        },
        {
          "output_type": "stream",
          "name": "stdout",
          "text": [
            "['triangle']\n",
            "one triangle\n",
            "1 t\n"
          ]
        },
        {
          "output_type": "display_data",
          "data": {
            "text/plain": [
              "<Figure size 640x480 with 1 Axes>"
            ],
            "image/png": "[encoded data removed]"
          },
          "metadata": {}
        },
        {
          "output_type": "stream",
          "name": "stdout",
          "text": [
            "['circle']\n",
            "one circle\n",
            "1 c\n"
          ]
        },
        {
          "output_type": "display_data",
          "data": {
            "text/plain": [
              "<Figure size 640x480 with 1 Axes>"
            ],
            "image/png": "[encoded data removed]"
          },
          "metadata": {}
        },
        {
          "output_type": "stream",
          "name": "stdout",
          "text": [
            "['circle', 'triangle', 'triangle', 'circle']\n",
            "triangle after circle then circle after triangle\n",
            "1 c 2 t 1 c\n"
          ]
        },
        {
          "output_type": "display_data",
          "data": {
            "text/plain": [
              "<Figure size 640x480 with 1 Axes>"
            ],
            "image/png": "[encoded data removed]"
          },
          "metadata": {}
        },
        {
          "output_type": "stream",
          "name": "stdout",
          "text": [
            "['circle', 'triangle', 'circle', 'triangle']\n",
            "triangle after circle and a circle then one triangle\n",
            "1 c 1 t 1 c 1 t\n"
          ]
        },
        {
          "output_type": "display_data",
          "data": {
            "text/plain": [
              "<Figure size 640x480 with 1 Axes>"
            ],
            "image/png": "[encoded data removed]"
          },
          "metadata": {}
        },
        {
          "output_type": "stream",
          "name": "stdout",
          "text": [
            "['circle']\n",
            "one circle\n",
            "1 c\n"
          ]
        },
        {
          "output_type": "display_data",
          "data": {
            "text/plain": [
              "<Figure size 640x480 with 1 Axes>"
            ],
            "image/png": "[encoded data removed]"
          },
          "metadata": {}
        },
        {
          "output_type": "stream",
          "name": "stdout",
          "text": [
            "['circle']\n",
            "a circle\n",
            "1 c\n"
          ]
        },
        {
          "output_type": "display_data",
          "data": {
            "text/plain": [
              "<Figure size 640x480 with 1 Axes>"
            ],
            "image/png": "[encoded data removed]"
          },
          "metadata": {}
        },
        {
          "output_type": "stream",
          "name": "stdout",
          "text": [
            "['circle', 'circle']\n",
            "circle after circle\n",
            "2 c\n"
          ]
        },
        {
          "output_type": "display_data",
          "data": {
            "text/plain": [
              "<Figure size 640x480 with 1 Axes>"
            ],
            "image/png": "[encoded data removed]"
          },
          "metadata": {}
        },
        {
          "output_type": "stream",
          "name": "stdout",
          "text": [
            "['circle', 'triangle']\n",
            "a circle and one triangle\n",
            "1 c 1 t\n"
          ]
        },
        {
          "output_type": "display_data",
          "data": {
            "text/plain": [
              "<Figure size 640x480 with 1 Axes>"
            ],
            "image/png": "[encoded data removed]"
          },
          "metadata": {}
        },
        {
          "output_type": "stream",
          "name": "stdout",
          "text": [
            "['circle', 'triangle', 'circle', 'triangle']\n",
            "triangle after circle and one circle then one triangle\n",
            "1 c 1 t 1 c 1 t\n"
          ]
        },
        {
          "output_type": "display_data",
          "data": {
            "text/plain": [
              "<Figure size 640x480 with 1 Axes>"
            ],
            "image/png": "[encoded data removed]"
          },
          "metadata": {}
        },
        {
          "output_type": "stream",
          "name": "stdout",
          "text": [
            "['circle', 'triangle', 'triangle']\n",
            "one circle and triangle after triangle\n",
            "1 c 2 t\n"
          ]
        },
        {
          "output_type": "display_data",
          "data": {
            "text/plain": [
              "<Figure size 640x480 with 1 Axes>"
            ],
            "image/png": "[encoded data removed]"
          },
          "metadata": {}
        },
        {
          "output_type": "stream",
          "name": "stdout",
          "text": [
            "['triangle', 'circle', 'circle']\n",
            "a triangle and one circle then a circle\n",
            "1 t 2 c\n"
          ]
        },
        {
          "output_type": "display_data",
          "data": {
            "text/plain": [
              "<Figure size 640x480 with 1 Axes>"
            ],
            "image/png": "[encoded data removed]"
          },
          "metadata": {}
        },
        {
          "output_type": "stream",
          "name": "stdout",
          "text": [
            "['triangle', 'triangle', 'circle']\n",
            "triangle after triangle then one circle\n",
            "2 t 1 c\n"
          ]
        },
        {
          "output_type": "display_data",
          "data": {
            "text/plain": [
              "<Figure size 640x480 with 1 Axes>"
            ],
            "image/png": "[encoded data removed]"
          },
          "metadata": {}
        },
        {
          "output_type": "stream",
          "name": "stdout",
          "text": [
            "['circle', 'circle']\n",
            "circle after circle\n",
            "2 c\n"
          ]
        },
        {
          "output_type": "display_data",
          "data": {
            "text/plain": [
              "<Figure size 640x480 with 1 Axes>"
            ],
            "image/png": "[encoded data removed]"
          },
          "metadata": {}
        },
        {
          "output_type": "stream",
          "name": "stdout",
          "text": [
            "['triangle', 'circle', 'circle']\n",
            "one triangle then one circle then one circle\n",
            "1 t 2 c\n"
          ]
        },
        {
          "output_type": "display_data",
          "data": {
            "text/plain": [
              "<Figure size 640x480 with 1 Axes>"
            ],
            "image/png": "[encoded data removed]"
          },
          "metadata": {}
        },
        {
          "output_type": "stream",
          "name": "stdout",
          "text": [
            "['triangle', 'triangle', 'triangle']\n",
            "triangle after triangle and a triangle\n",
            "3 t\n"
          ]
        },
        {
          "output_type": "display_data",
          "data": {
            "text/plain": [
              "<Figure size 640x480 with 1 Axes>"
            ],
            "image/png": "[encoded data removed]"
          },
          "metadata": {}
        },
        {
          "output_type": "stream",
          "name": "stdout",
          "text": [
            "['circle']\n",
            "a circle\n",
            "1 c\n"
          ]
        },
        {
          "output_type": "display_data",
          "data": {
            "text/plain": [
              "<Figure size 640x480 with 1 Axes>"
            ],
            "image/png": "[encoded data removed]"
          },
          "metadata": {}
        },
        {
          "output_type": "stream",
          "name": "stdout",
          "text": [
            "['circle', 'triangle', 'circle']\n",
            "one circle and a triangle and one circle\n",
            "1 c 1 t 1 c\n"
          ]
        },
        {
          "output_type": "display_data",
          "data": {
            "text/plain": [
              "<Figure size 640x480 with 1 Axes>"
            ],
            "image/png": "[encoded data removed]"
          },
          "metadata": {}
        },
        {
          "output_type": "stream",
          "name": "stdout",
          "text": [
            "['triangle', 'circle']\n",
            "circle after triangle\n",
            "1 t 1 c\n"
          ]
        },
        {
          "output_type": "display_data",
          "data": {
            "text/plain": [
              "<Figure size 640x480 with 1 Axes>"
            ],
            "image/png": "[encoded data removed]"
          },
          "metadata": {}
        },
        {
          "output_type": "stream",
          "name": "stdout",
          "text": [
            "['circle']\n",
            "one circle\n",
            "1 c\n"
          ]
        },
        {
          "output_type": "display_data",
          "data": {
            "text/plain": [
              "<Figure size 640x480 with 1 Axes>"
            ],
            "image/png": "[encoded data removed]"
          },
          "metadata": {}
        },
        {
          "output_type": "stream",
          "name": "stdout",
          "text": [
            "['triangle', 'triangle']\n",
            "triangle after triangle\n",
            "2 t\n"
          ]
        },
        {
          "output_type": "display_data",
          "data": {
            "text/plain": [
              "<Figure size 640x480 with 1 Axes>"
            ],
            "image/png": "[encoded data removed]"
          },
          "metadata": {}
        },
        {
          "output_type": "stream",
          "name": "stdout",
          "text": [
            "['circle', 'triangle', 'triangle']\n",
            "one circle and two triangles\n",
            "1 c 2 t\n"
          ]
        },
        {
          "output_type": "display_data",
          "data": {
            "text/plain": [
              "<Figure size 640x480 with 1 Axes>"
            ],
            "image/png": "[encoded data removed]"
          },
          "metadata": {}
        },
        {
          "output_type": "stream",
          "name": "stdout",
          "text": [
            "['triangle', 'triangle', 'circle']\n",
            "two triangles\n",
            "2 t 1 c\n"
          ]
        },
        {
          "output_type": "display_data",
          "data": {
            "text/plain": [
              "<Figure size 640x480 with 1 Axes>"
            ],
            "image/png": "[encoded data removed]"
          },
          "metadata": {}
        },
        {
          "output_type": "stream",
          "name": "stdout",
          "text": [
            "['triangle', 'circle', 'triangle', 'circle']\n",
            "a triangle and one circle then one triangle and one circle\n",
            "1 t 1 c 1 t 1 c\n"
          ]
        },
        {
          "output_type": "display_data",
          "data": {
            "text/plain": [
              "<Figure size 640x480 with 1 Axes>"
            ],
            "image/png": "[encoded data removed]"
          },
          "metadata": {}
        },
        {
          "output_type": "stream",
          "name": "stdout",
          "text": [
            "['triangle']\n",
            "a triangle\n",
            "1 t\n"
          ]
        },
        {
          "output_type": "display_data",
          "data": {
            "text/plain": [
              "<Figure size 640x480 with 1 Axes>"
            ],
            "image/png": "[encoded data removed]"
          },
          "metadata": {}
        },
        {
          "output_type": "stream",
          "name": "stdout",
          "text": [
            "['triangle']\n",
            "one triangle\n",
            "1 t\n"
          ]
        },
        {
          "output_type": "display_data",
          "data": {
            "text/plain": [
              "<Figure size 640x480 with 1 Axes>"
            ],
            "image/png": "[encoded data removed]"
          },
          "metadata": {}
        },
        {
          "output_type": "stream",
          "name": "stdout",
          "text": [
            "['triangle']\n",
            "one triangle\n",
            "1 t\n"
          ]
        },
        {
          "output_type": "display_data",
          "data": {
            "text/plain": [
              "<Figure size 640x480 with 1 Axes>"
            ],
            "image/png": "[encoded data removed]"
          },
          "metadata": {}
        },
        {
          "output_type": "stream",
          "name": "stdout",
          "text": [
            "['triangle', 'circle', 'triangle', 'circle']\n",
            "one triangle and a circle then circle after triangle\n",
            "1 t 1 c 1 t 1 c\n"
          ]
        },
        {
          "output_type": "display_data",
          "data": {
            "text/plain": [
              "<Figure size 640x480 with 1 Axes>"
            ],
            "image/png": "[encoded data removed]"
          },
          "metadata": {}
        },
        {
          "output_type": "stream",
          "name": "stdout",
          "text": [
            "['triangle', 'triangle', 'triangle']\n",
            "two triangles\n",
            "3 t\n"
          ]
        },
        {
          "output_type": "display_data",
          "data": {
            "text/plain": [
              "<Figure size 640x480 with 1 Axes>"
            ],
            "image/png": "[encoded data removed]"
          },
          "metadata": {}
        },
        {
          "output_type": "stream",
          "name": "stdout",
          "text": [
            "['triangle', 'circle']\n",
            "circle after triangle\n",
            "1 t 1 c\n"
          ]
        },
        {
          "output_type": "display_data",
          "data": {
            "text/plain": [
              "<Figure size 640x480 with 1 Axes>"
            ],
            "image/png": "[encoded data removed]"
          },
          "metadata": {}
        },
        {
          "output_type": "stream",
          "name": "stdout",
          "text": [
            "['circle', 'circle']\n",
            "circle after circle\n",
            "2 c\n"
          ]
        },
        {
          "output_type": "display_data",
          "data": {
            "text/plain": [
              "<Figure size 640x480 with 1 Axes>"
            ],
            "image/png": "[encoded data removed]"
          },
          "metadata": {}
        },
        {
          "output_type": "stream",
          "name": "stdout",
          "text": [
            "['triangle', 'triangle', 'triangle']\n",
            "triangle after triangle then one triangle\n",
            "3 t\n"
          ]
        },
        {
          "output_type": "display_data",
          "data": {
            "text/plain": [
              "<Figure size 640x480 with 1 Axes>"
            ],
            "image/png": "[encoded data removed]"
          },
          "metadata": {}
        },
        {
          "output_type": "stream",
          "name": "stdout",
          "text": [
            "['circle', 'triangle', 'circle']\n",
            "a circle then a triangle then a circle\n",
            "1 c 1 t 1 c\n"
          ]
        },
        {
          "output_type": "display_data",
          "data": {
            "text/plain": [
              "<Figure size 640x480 with 1 Axes>"
            ],
            "image/png": "[encoded data removed]"
          },
          "metadata": {}
        },
        {
          "output_type": "stream",
          "name": "stdout",
          "text": [
            "['circle', 'circle', 'triangle']\n",
            "circle after circle and one triangle\n",
            "2 c 1 t\n"
          ]
        },
        {
          "output_type": "display_data",
          "data": {
            "text/plain": [
              "<Figure size 640x480 with 1 Axes>"
            ],
            "image/png": "[encoded data removed]"
          },
          "metadata": {}
        },
        {
          "output_type": "stream",
          "name": "stdout",
          "text": [
            "['circle', 'triangle']\n",
            "triangle after circle\n",
            "1 c 1 t\n"
          ]
        },
        {
          "output_type": "display_data",
          "data": {
            "text/plain": [
              "<Figure size 640x480 with 1 Axes>"
            ],
            "image/png": "[encoded data removed]"
          },
          "metadata": {}
        },
        {
          "output_type": "stream",
          "name": "stdout",
          "text": [
            "['circle', 'circle']\n",
            "circle after circle\n",
            "2 c\n"
          ]
        },
        {
          "output_type": "display_data",
          "data": {
            "text/plain": [
              "<Figure size 640x480 with 1 Axes>"
            ],
            "image/png": "[encoded data removed]"
          },
          "metadata": {}
        },
        {
          "output_type": "stream",
          "name": "stdout",
          "text": [
            "['triangle', 'circle', 'circle']\n",
            "circle after triangle then one circle\n",
            "1 t 2 c\n"
          ]
        },
        {
          "output_type": "display_data",
          "data": {
            "text/plain": [
              "<Figure size 640x480 with 1 Axes>"
            ],
            "image/png": "[encoded data removed]"
          },
          "metadata": {}
        },
        {
          "output_type": "stream",
          "name": "stdout",
          "text": [
            "['triangle', 'triangle', 'circle']\n",
            "one triangle then one triangle then a circle\n",
            "2 t 1 c\n"
          ]
        },
        {
          "output_type": "display_data",
          "data": {
            "text/plain": [
              "<Figure size 640x480 with 1 Axes>"
            ],
            "image/png": "[encoded data removed]"
          },
          "metadata": {}
        },
        {
          "output_type": "stream",
          "name": "stdout",
          "text": [
            "['triangle', 'circle', 'circle', 'triangle']\n",
            "one triangle then circle after circle then a triangle\n",
            "1 t 2 c 1 t\n"
          ]
        },
        {
          "output_type": "display_data",
          "data": {
            "text/plain": [
              "<Figure size 640x480 with 1 Axes>"
            ],
            "image/png": "[encoded data removed]"
          },
          "metadata": {}
        },
        {
          "output_type": "stream",
          "name": "stdout",
          "text": [
            "['triangle', 'circle', 'triangle']\n",
            "circle after triangle and one triangle\n",
            "1 t 1 c 1 t\n"
          ]
        },
        {
          "output_type": "display_data",
          "data": {
            "text/plain": [
              "<Figure size 640x480 with 1 Axes>"
            ],
            "image/png": "[encoded data removed]"
          },
          "metadata": {}
        },
        {
          "output_type": "stream",
          "name": "stdout",
          "text": [
            "['circle', 'triangle', 'triangle']\n",
            "triangle after circle then a triangle\n",
            "1 c 2 t\n"
          ]
        },
        {
          "output_type": "display_data",
          "data": {
            "text/plain": [
              "<Figure size 640x480 with 1 Axes>"
            ],
            "image/png": "[encoded data removed]"
          },
          "metadata": {}
        },
        {
          "output_type": "stream",
          "name": "stdout",
          "text": [
            "['triangle', 'triangle', 'circle', 'triangle']\n",
            "triangle after triangle then triangle after circle\n",
            "2 t 1 c 1 t\n"
          ]
        },
        {
          "output_type": "display_data",
          "data": {
            "text/plain": [
              "<Figure size 640x480 with 1 Axes>"
            ],
            "image/png": "[encoded data removed]"
          },
          "metadata": {}
        }
      ]
    },
    {
      "cell_type": "code",
      "source": [
        "from torch.utils.data import Dataset\n",
        "\n",
        "\n",
        "# Step 1: Prepare the Dataset\n",
        "class CountingFiguresDataset(Dataset):\n",
        "    def __init__(self, texts, labels, tokenizer, max_length):\n",
        "        self.texts = texts\n",
        "        self.labels = labels\n",
        "        self.tokenizer = tokenizer\n",
        "        self.max_length = max_length\n",
        "\n",
        "    def __len__(self):\n",
        "        return len(self.texts)\n",
        "\n",
        "    def __getitem__(self, idx):\n",
        "        text = self.texts[idx]\n",
        "        label = self.labels[idx]\n",
        "        encoding = self.tokenizer.encode_plus(\n",
        "            text,\n",
        "            add_special_tokens=True,\n",
        "            max_length=self.max_length,\n",
        "            return_token_type_ids=False,\n",
        "            padding='max_length',\n",
        "            return_attention_mask=True,\n",
        "            return_tensors='pt',\n",
        "        )\n",
        "        return {\n",
        "            'input_ids': encoding['input_ids'].flatten(),\n",
        "            'attention_mask': encoding['attention_mask'].flatten(),\n",
        "            'labels': torch.tensor(label, dtype=torch.long)\n",
        "        }"
      ],
      "metadata": {
        "id": "TRF1Xd44rZsx"
      },
      "execution_count": 5,
      "outputs": []
    },
    {
      "cell_type": "code",
      "source": [
        "!pip install einops"
      ],
      "metadata": {
        "colab": {
          "base_uri": "https://localhost:8080/"
        },
        "id": "88p-uxGSSEbs",
        "outputId": "a0ade7b7-7cb8-4e93-dfc2-e93791f53898"
      },
      "execution_count": 6,
      "outputs": [
        {
          "output_type": "stream",
          "name": "stdout",
          "text": [
            "Collecting einops\n",
            "  Downloading einops-0.8.0-py3-none-any.whl.metadata (12 kB)\n",
            "Downloading einops-0.8.0-py3-none-any.whl (43 kB)\n",
            "\u001b[?25l   \u001b[90m━━━━━━━━━━━━━━━━━━━━━━━━━━━━━━━━━━━━━━━━\u001b[0m \u001b[32m0.0/43.2 kB\u001b[0m \u001b[31m?\u001b[0m eta \u001b[36m-:--:--\u001b[0m\r\u001b[2K   \u001b[90m━━━━━━━━━━━━━━━━━━━━━━━━━━━━━━━━━━━━━━━━\u001b[0m \u001b[32m43.2/43.2 kB\u001b[0m \u001b[31m2.8 MB/s\u001b[0m eta \u001b[36m0:00:00\u001b[0m\n",
            "\u001b[?25hInstalling collected packages: einops\n",
            "Successfully installed einops-0.8.0\n"
          ]
        }
      ]
    },
    {
      "cell_type": "code",
      "source": [
        "import torch\n",
        "import torch.nn as nn\n",
        "from torch.utils.data import Dataset, DataLoader\n",
        "import torch.optim as optim\n",
        "import math\n",
        "import torch.nn.functional as F\n",
        "from einops import rearrange\n",
        "from collections import OrderedDict\n",
        "from easydict import EasyDict as edict\n",
        "\n",
        "class MyTokenizer:\n",
        "    def __init__(self, vocabulary):\n",
        "        self.vocabulary = vocabulary\n",
        "\n",
        "    def encode_plus(self, text, add_special_tokens=True, max_length=MAX_LEN_SENTENCE, return_token_type_ids=False, padding='max_length', return_attention_mask=True, return_tensors='pt'):\n",
        "        tokens = text.split()\n",
        "        input_ids = [self.vocabulary.index(token) for token in tokens]\n",
        "        attention_mask = [1] * len(input_ids)\n",
        "        if add_special_tokens:\n",
        "            input_ids = [self.vocabulary.index(CLASS_TOKEN)] + input_ids\n",
        "            attention_mask += [1]\n",
        "        if len(input_ids) > max_length:\n",
        "            input_ids = input_ids[:max_length]\n",
        "            attention_mask = attention_mask[:max_length]\n",
        "        else:\n",
        "            pad_length = max_length - len(input_ids)\n",
        "            if pad_length >= 0:\n",
        "                input_ids += [self.vocabulary.index(PAD_TOKEN)] * pad_length\n",
        "                attention_mask += [0] * pad_length\n",
        "        if return_attention_mask:\n",
        "          return {\n",
        "              'input_ids': torch.tensor(input_ids),\n",
        "              'attention_mask': torch.tensor(attention_mask)\n",
        "          }\n",
        "        else:\n",
        "          return {\n",
        "              'input_ids': torch.tensor(input_ids)\n",
        "          }\n"
      ],
      "metadata": {
        "id": "S1ey-4OGDwWF"
      },
      "execution_count": 7,
      "outputs": []
    },
    {
      "cell_type": "code",
      "source": [
        "class MyAttention(nn.Module):\n",
        "    def __init__(self, input_dim, hidden_key_dim, hidden_val_dim, enc_emb_dim=None, mask=False, num_heads=1):\n",
        "        \"\"\"\n",
        "          Implements an attention mechanism\n",
        "\n",
        "          Args:\n",
        "          input_dim: Dimensionality of input embedding.\n",
        "          hidden_key_dim: Dimensionality of key and query vectors.\n",
        "          hidden_val_dim: Dimensionality of value vectors.\n",
        "          enc_emb_dim: Dimensionality of encoder embeddings. If None, self-attention is used.\n",
        "          mask: Whether to apply masking. If True, the attention scores for masked positions are set to -inf.\n",
        "          num_heads: Number of attention heads.\n",
        "        \"\"\"\n",
        "        super(MyAttention, self).__init__()\n",
        "        self.input_dim = input_dim\n",
        "        self.hidden_key_dim = hidden_key_dim\n",
        "        self.hidden_val_dim = hidden_val_dim\n",
        "        self.enc_emb_dim = enc_emb_dim\n",
        "        self.num_heads = num_heads\n",
        "        self.mask = mask\n",
        "\n",
        "        if mask and enc_emb_dim is not None:\n",
        "            raise ValueError(\"mask cannot be True if enc_emb_dim is provided\")\n",
        "\n",
        "        self.to_q = nn.Linear(self.input_dim, self.hidden_key_dim * self.num_heads, bias=False)\n",
        "\n",
        "        for i in range(self.num_heads):\n",
        "          if enc_emb_dim is None:\n",
        "              self.to_k = nn.Linear(self.input_dim, self.hidden_key_dim * self.num_heads, bias=False)\n",
        "              self.to_v = nn.Linear(self.input_dim, self.hidden_val_dim * self.num_heads, bias=False)\n",
        "          else:\n",
        "              self.to_k = nn.Linear(self.enc_emb_dim, self.hidden_key_dim * self.num_heads, bias=False)\n",
        "              self.to_v = nn.Linear(self.enc_emb_dim, self.hidden_val_dim * self.num_heads, bias=False)\n",
        "\n",
        "        self.to_out = nn.Linear(self.hidden_val_dim * self.num_heads, self.input_dim)\n",
        "\n",
        "    def forward(self, embeddings, encoder_embeddings=None):\n",
        "\n",
        "        if encoder_embeddings is None:\n",
        "            Q = self.to_q(embeddings)\n",
        "            K = self.to_k(embeddings)\n",
        "            V = self.to_v(embeddings)\n",
        "        else:\n",
        "            Q = self.to_q(embeddings)\n",
        "            K = self.to_k(encoder_embeddings)\n",
        "            V = self.to_v(encoder_embeddings)\n",
        "\n",
        "        Q = rearrange(Q, 'B T (H D) -> B H T D', H=self.num_heads, D=self.hidden_key_dim)\n",
        "        K = rearrange(K, 'B T (H D) -> B H T D', H=self.num_heads, D=self.hidden_key_dim)\n",
        "        V = rearrange(V, 'B T (H D) -> B H T D', H=self.num_heads, D=self.hidden_val_dim)\n",
        "\n",
        "        scores = torch.einsum(\"BHTD,BHSD->BHTS\", Q, K)\n",
        "\n",
        "        if self.mask:\n",
        "            mask_scores = torch.triu(torch.ones(scores.shape, dtype=torch.bool), diagonal=1).to(scores.device)\n",
        "            print(mask_scores)\n",
        "            scores = scores.masked_fill(mask_scores, float('-inf'))\n",
        "\n",
        "        attnmats = F.softmax(scores / math.sqrt(self.hidden_key_dim), dim=-1)\n",
        "\n",
        "        ctx_vecs = torch.einsum(\"BHTS,BHSD->BHTD\", attnmats, V)\n",
        "        ctx_vecs = rearrange(ctx_vecs, 'B H T D -> B T (H D)', H=self.num_heads, D=self.hidden_val_dim)\n",
        "        return self.to_out(ctx_vecs)"
      ],
      "metadata": {
        "id": "aFYriqViEvVt"
      },
      "execution_count": 26,
      "outputs": []
    },
    {
      "cell_type": "code",
      "source": [
        "class MyPositionalEncoding(nn.Module):\n",
        "    def __init__(self, d_model, max_len=MAX_LEN_SENTENCE):\n",
        "        super(MyPositionalEncoding, self).__init__()\n",
        "\n",
        "        # Create a matrix of shape (max_len, d_model) with all zeros\n",
        "        pe = torch.zeros(max_len, d_model)\n",
        "\n",
        "        # Create a column vector of shape (max_len, 1) with values [0, 1, ..., max_len-1]\n",
        "        position = torch.arange(0, max_len, dtype=torch.float).unsqueeze(1)\n",
        "\n",
        "        # Create a row vector of shape (1, d_model // 2) with values [0, 1, ..., d_model//2-1]\n",
        "        div_term = torch.exp(torch.arange(0, d_model, 2).float() * (-math.log(10000.0) / d_model))\n",
        "\n",
        "        # Apply sine to even indices and cosine to odd indices\n",
        "        pe[:, 0::2] = torch.sin(position * div_term)\n",
        "        pe[:, 1::2] = torch.cos(position * div_term)\n",
        "\n",
        "        # Add a batch dimension (1, max_len, d_model) and register as buffer\n",
        "        pe = pe.unsqueeze(0)\n",
        "        self.register_buffer('pe', pe)\n",
        "\n",
        "    def forward(self, x):\n",
        "        # Add positional encoding to the input tensor (B, T, D)\n",
        "        x = x + self.pe[:, :x.size(1), :]\n",
        "        return x"
      ],
      "metadata": {
        "id": "HJBjsyuMMeLO"
      },
      "execution_count": 12,
      "outputs": []
    },
    {
      "cell_type": "code",
      "source": [
        "class MyTransformerEncoderLayer(nn.Module):\n",
        "    def __init__(self, input_dim, hidden_key_dim, hidden_val_dim, output_dim, num_heads=1):\n",
        "        super(MyTransformerEncoderLayer, self).__init__()\n",
        "        self.input_dim = input_dim\n",
        "        self.hidden_key_dim = hidden_key_dim\n",
        "        self.hidden_val_dim = hidden_val_dim\n",
        "        self.output_dim = output_dim\n",
        "        self.num_heads = num_heads\n",
        "\n",
        "        self.attention = MyAttention(self.input_dim, self.hidden_key_dim, self.hidden_val_dim, enc_emb_dim=None, mask=False, num_heads=self.num_heads)\n",
        "        self.norm1 = nn.LayerNorm(self.input_dim)\n",
        "        self.feed_forward = nn.Sequential(\n",
        "            nn.Linear(self.input_dim, self.output_dim),\n",
        "            nn.ReLU()\n",
        "        )\n",
        "        self.norm2 = nn.LayerNorm(self.output_dim)\n",
        "\n",
        "    def forward(self, x):\n",
        "        x = self.norm1(self.attention(x) + x)\n",
        "        x = self.norm2(self.feed_forward(x) + x)\n",
        "        return x"
      ],
      "metadata": {
        "id": "jt6_PYhSNLBh"
      },
      "execution_count": 13,
      "outputs": []
    },
    {
      "cell_type": "code",
      "source": [
        "class MyTransformerEncoder(nn.Module):\n",
        "    def __init__(self, num_tokens, input_dim, hidden_key_dim, hidden_val_dim, output_dim, max_length, num_layers=1, num_heads=1):\n",
        "        super(MyTransformerEncoder, self).__init__()\n",
        "        self.num_tokens = num_tokens\n",
        "        self.input_dim = input_dim\n",
        "        self.hidden_key_dim = hidden_key_dim\n",
        "        self.hidden_val_dim = hidden_val_dim\n",
        "        self.output_dim = output_dim\n",
        "        self.max_length = max_length\n",
        "        self.num_heads = num_heads\n",
        "\n",
        "        self.embedding = nn.Embedding(num_tokens, self.input_dim)\n",
        "        self.positional_encoding = MyPositionalEncoding(self.input_dim, max_length)\n",
        "        self.layers = nn.ModuleList([MyTransformerEncoderLayer(self.input_dim, self.hidden_key_dim, self.hidden_val_dim, self.input_dim, num_heads) for _ in range(num_layers)])\n",
        "        self.linear = nn.Linear(self.input_dim, self.output_dim)\n",
        "        self.norm = nn.LayerNorm(self.output_dim)\n",
        "\n",
        "    def forward(self, x):\n",
        "        x = self.embedding(x)\n",
        "        x = self.positional_encoding(x)\n",
        "        for layer in self.layers:\n",
        "            x = layer(x)\n",
        "        x = self.linear(x)\n",
        "        x = self.norm(x)\n",
        "        return x"
      ],
      "metadata": {
        "id": "N90NAhGjMgZu"
      },
      "execution_count": 14,
      "outputs": []
    },
    {
      "cell_type": "code",
      "source": [
        "class MyTransformerClassifier(nn.Module):\n",
        "    def __init__(self, transf_enc, num_classes):\n",
        "        super(MyTransformerClassifier, self).__init__()\n",
        "        self.num_classes = num_classes\n",
        "        self.transf_enc = transf_enc\n",
        "\n",
        "        self.linear = nn.Linear(self.transf_enc.output_dim, self.num_classes)\n",
        "\n",
        "    def forward(self, input_ids, labels=None, attention_mask=None):\n",
        "        x = self.transf_enc(input_ids)[:, 0, :] # Just the embedding of the first token, which is the CLS token.\n",
        "        logits = self.linear(x)\n",
        "\n",
        "        loss = None\n",
        "        if labels is not None:\n",
        "            criterion = nn.CrossEntropyLoss()\n",
        "            loss = criterion(logits, labels)\n",
        "        return (loss, logits) if loss is not None else logits"
      ],
      "metadata": {
        "id": "thRPUXH4PtXH"
      },
      "execution_count": 15,
      "outputs": []
    },
    {
      "cell_type": "code",
      "source": [
        "import torch\n",
        "from transformers import Trainer, TrainingArguments\n",
        "import pandas as pd\n",
        "\n",
        "# Step 2: Tokenizer\n",
        "# tokenizer = BertTokenizer.from_pretrained('bert-base-uncased')\n",
        "tokenizer = MyTokenizer(VOCABULARY)\n",
        "tokenizer.encode_plus(\n",
        "            \"one circle after one circle and two triangles\",\n",
        "            add_special_tokens=True,\n",
        "            max_length=MAX_LEN_SENTENCE,\n",
        "            return_token_type_ids=False,\n",
        "            padding='max_length',\n",
        "            return_attention_mask=True,\n",
        "            return_tensors='pt',\n",
        "        )"
      ],
      "metadata": {
        "colab": {
          "base_uri": "https://localhost:8080/"
        },
        "id": "QUw3D9j26rgn",
        "outputId": "bb6bc97d-68f6-44a2-9249-0833872be95a"
      },
      "execution_count": 16,
      "outputs": [
        {
          "output_type": "execute_result",
          "data": {
            "text/plain": [
              "{'input_ids': tensor([10,  5,  1,  8,  5,  1,  6,  9,  2, 13, 13, 13, 13, 13, 13, 13]),\n",
              " 'attention_mask': tensor([1, 1, 1, 1, 1, 1, 1, 1, 1, 0, 0, 0, 0, 0, 0, 0])}"
            ]
          },
          "metadata": {},
          "execution_count": 16
        }
      ]
    },
    {
      "cell_type": "code",
      "source": [
        "# Create Dataset\n",
        "lengths = list(map(len, shape_lists))\n",
        "dataset = CountingFiguresDataset(descriptions, lengths, tokenizer, max_length=MAX_LEN_SENTENCE)"
      ],
      "metadata": {
        "id": "kgwzsdVxJIdL"
      },
      "execution_count": 28,
      "outputs": []
    },
    {
      "cell_type": "code",
      "source": [
        "num_tokens = len(VOCABULARY)\n",
        "input_dim = 16\n",
        "hidden_key_dim = 8\n",
        "hidden_val_dim = 8\n",
        "num_heads = 2\n",
        "output_dim = 16\n",
        "num_layers = 3\n",
        "num_labels = 5\n",
        "\n",
        "# Step 3: Model\n",
        "# model = BertForSequenceClassification.from_pretrained('bert-base-uncased', num_labels=10)\n",
        "transf_enc = MyTransformerEncoder(num_tokens, input_dim=input_dim, hidden_key_dim=hidden_key_dim, hidden_val_dim=hidden_val_dim, output_dim=output_dim, max_length=MAX_LEN_SENTENCE, num_layers=num_layers, num_heads=num_heads)\n",
        "model = MyTransformerClassifier(transf_enc, num_labels)\n",
        "# model = DummyClassifier(num_labels)\n",
        "\n",
        "# Step 4: Training\n",
        "training_args = TrainingArguments(\n",
        "    output_dir='./results',\n",
        "    num_train_epochs=200,\n",
        "    per_device_train_batch_size=2,\n",
        "    per_device_eval_batch_size=2,\n",
        "    warmup_steps=10,\n",
        "    weight_decay=0.001,\n",
        "    logging_dir='./logs',\n",
        "    logging_steps=10,\n",
        "    eval_strategy=\"epoch\"\n",
        ")\n",
        "\n",
        "# Split dataset into train and eval\n",
        "train_size = int(0.8 * len(dataset))\n",
        "eval_size = len(dataset) - train_size\n",
        "train_dataset, eval_dataset = torch.utils.data.random_split(dataset, [train_size, eval_size])\n",
        "\n",
        "# Custom Trainer\n",
        "trainer = Trainer(\n",
        "    model=model,\n",
        "    args=training_args,\n",
        "    train_dataset=train_dataset,\n",
        "    eval_dataset=eval_dataset\n",
        ")\n",
        "\n",
        "trainer.train()\n",
        "\n"
      ],
      "metadata": {
        "colab": {
          "base_uri": "https://localhost:8080/",
          "height": 1000
        },
        "id": "DQbq5O20F1Nx",
        "outputId": "7b9fc5f3-e376-4be4-96b7-292d06805971"
      },
      "execution_count": 29,
      "outputs": [
        {
          "output_type": "display_data",
          "data": {
            "text/plain": [
              "<IPython.core.display.HTML object>"
            ],
            "text/html": [
              "\n",
              "    <div>\n",
              "      \n",
              "      <progress value='8000' max='8000' style='width:300px; height:20px; vertical-align: middle;'></progress>\n",
              "      [8000/8000 02:15, Epoch 200/200]\n",
              "    </div>\n",
              "    <table border=\"1\" class=\"dataframe\">\n",
              "  <thead>\n",
              " <tr style=\"text-align: left;\">\n",
              "      <th>Epoch</th>\n",
              "      <th>Training Loss</th>\n",
              "      <th>Validation Loss</th>\n",
              "    </tr>\n",
              "  </thead>\n",
              "  <tbody>\n",
              "    <tr>\n",
              "      <td>1</td>\n",
              "      <td>2.024500</td>\n",
              "      <td>2.442374</td>\n",
              "    </tr>\n",
              "    <tr>\n",
              "      <td>2</td>\n",
              "      <td>2.232200</td>\n",
              "      <td>2.351706</td>\n",
              "    </tr>\n",
              "    <tr>\n",
              "      <td>3</td>\n",
              "      <td>1.972000</td>\n",
              "      <td>2.249130</td>\n",
              "    </tr>\n",
              "    <tr>\n",
              "      <td>4</td>\n",
              "      <td>1.877200</td>\n",
              "      <td>2.146125</td>\n",
              "    </tr>\n",
              "    <tr>\n",
              "      <td>5</td>\n",
              "      <td>2.034400</td>\n",
              "      <td>2.039893</td>\n",
              "    </tr>\n",
              "    <tr>\n",
              "      <td>6</td>\n",
              "      <td>1.745900</td>\n",
              "      <td>1.936911</td>\n",
              "    </tr>\n",
              "    <tr>\n",
              "      <td>7</td>\n",
              "      <td>1.754700</td>\n",
              "      <td>1.836697</td>\n",
              "    </tr>\n",
              "    <tr>\n",
              "      <td>8</td>\n",
              "      <td>1.656600</td>\n",
              "      <td>1.759796</td>\n",
              "    </tr>\n",
              "    <tr>\n",
              "      <td>9</td>\n",
              "      <td>1.561700</td>\n",
              "      <td>1.692223</td>\n",
              "    </tr>\n",
              "    <tr>\n",
              "      <td>10</td>\n",
              "      <td>1.536700</td>\n",
              "      <td>1.651401</td>\n",
              "    </tr>\n",
              "    <tr>\n",
              "      <td>11</td>\n",
              "      <td>1.467300</td>\n",
              "      <td>1.606843</td>\n",
              "    </tr>\n",
              "    <tr>\n",
              "      <td>12</td>\n",
              "      <td>1.466800</td>\n",
              "      <td>1.571015</td>\n",
              "    </tr>\n",
              "    <tr>\n",
              "      <td>13</td>\n",
              "      <td>1.461500</td>\n",
              "      <td>1.541183</td>\n",
              "    </tr>\n",
              "    <tr>\n",
              "      <td>14</td>\n",
              "      <td>1.436600</td>\n",
              "      <td>1.508341</td>\n",
              "    </tr>\n",
              "    <tr>\n",
              "      <td>15</td>\n",
              "      <td>1.447600</td>\n",
              "      <td>1.489503</td>\n",
              "    </tr>\n",
              "    <tr>\n",
              "      <td>16</td>\n",
              "      <td>1.439500</td>\n",
              "      <td>1.467275</td>\n",
              "    </tr>\n",
              "    <tr>\n",
              "      <td>17</td>\n",
              "      <td>1.421300</td>\n",
              "      <td>1.446507</td>\n",
              "    </tr>\n",
              "    <tr>\n",
              "      <td>18</td>\n",
              "      <td>1.400200</td>\n",
              "      <td>1.435987</td>\n",
              "    </tr>\n",
              "    <tr>\n",
              "      <td>19</td>\n",
              "      <td>1.386500</td>\n",
              "      <td>1.424105</td>\n",
              "    </tr>\n",
              "    <tr>\n",
              "      <td>20</td>\n",
              "      <td>1.430200</td>\n",
              "      <td>1.412508</td>\n",
              "    </tr>\n",
              "    <tr>\n",
              "      <td>21</td>\n",
              "      <td>1.407600</td>\n",
              "      <td>1.404064</td>\n",
              "    </tr>\n",
              "    <tr>\n",
              "      <td>22</td>\n",
              "      <td>1.367100</td>\n",
              "      <td>1.393630</td>\n",
              "    </tr>\n",
              "    <tr>\n",
              "      <td>23</td>\n",
              "      <td>1.390100</td>\n",
              "      <td>1.383736</td>\n",
              "    </tr>\n",
              "    <tr>\n",
              "      <td>24</td>\n",
              "      <td>1.368200</td>\n",
              "      <td>1.376426</td>\n",
              "    </tr>\n",
              "    <tr>\n",
              "      <td>25</td>\n",
              "      <td>1.390400</td>\n",
              "      <td>1.369923</td>\n",
              "    </tr>\n",
              "    <tr>\n",
              "      <td>26</td>\n",
              "      <td>1.372100</td>\n",
              "      <td>1.362037</td>\n",
              "    </tr>\n",
              "    <tr>\n",
              "      <td>27</td>\n",
              "      <td>1.400900</td>\n",
              "      <td>1.351035</td>\n",
              "    </tr>\n",
              "    <tr>\n",
              "      <td>28</td>\n",
              "      <td>1.360700</td>\n",
              "      <td>1.342498</td>\n",
              "    </tr>\n",
              "    <tr>\n",
              "      <td>29</td>\n",
              "      <td>1.360000</td>\n",
              "      <td>1.337814</td>\n",
              "    </tr>\n",
              "    <tr>\n",
              "      <td>30</td>\n",
              "      <td>1.367200</td>\n",
              "      <td>1.338547</td>\n",
              "    </tr>\n",
              "    <tr>\n",
              "      <td>31</td>\n",
              "      <td>1.328300</td>\n",
              "      <td>1.333871</td>\n",
              "    </tr>\n",
              "    <tr>\n",
              "      <td>32</td>\n",
              "      <td>1.320700</td>\n",
              "      <td>1.332615</td>\n",
              "    </tr>\n",
              "    <tr>\n",
              "      <td>33</td>\n",
              "      <td>1.337500</td>\n",
              "      <td>1.323297</td>\n",
              "    </tr>\n",
              "    <tr>\n",
              "      <td>34</td>\n",
              "      <td>1.357400</td>\n",
              "      <td>1.313752</td>\n",
              "    </tr>\n",
              "    <tr>\n",
              "      <td>35</td>\n",
              "      <td>1.294200</td>\n",
              "      <td>1.309436</td>\n",
              "    </tr>\n",
              "    <tr>\n",
              "      <td>36</td>\n",
              "      <td>1.282400</td>\n",
              "      <td>1.296618</td>\n",
              "    </tr>\n",
              "    <tr>\n",
              "      <td>37</td>\n",
              "      <td>1.277800</td>\n",
              "      <td>1.291675</td>\n",
              "    </tr>\n",
              "    <tr>\n",
              "      <td>38</td>\n",
              "      <td>1.306400</td>\n",
              "      <td>1.284021</td>\n",
              "    </tr>\n",
              "    <tr>\n",
              "      <td>39</td>\n",
              "      <td>1.263000</td>\n",
              "      <td>1.267292</td>\n",
              "    </tr>\n",
              "    <tr>\n",
              "      <td>40</td>\n",
              "      <td>1.275100</td>\n",
              "      <td>1.253126</td>\n",
              "    </tr>\n",
              "    <tr>\n",
              "      <td>41</td>\n",
              "      <td>1.228100</td>\n",
              "      <td>1.249328</td>\n",
              "    </tr>\n",
              "    <tr>\n",
              "      <td>42</td>\n",
              "      <td>1.200400</td>\n",
              "      <td>1.242649</td>\n",
              "    </tr>\n",
              "    <tr>\n",
              "      <td>43</td>\n",
              "      <td>1.218400</td>\n",
              "      <td>1.233858</td>\n",
              "    </tr>\n",
              "    <tr>\n",
              "      <td>44</td>\n",
              "      <td>1.209800</td>\n",
              "      <td>1.223915</td>\n",
              "    </tr>\n",
              "    <tr>\n",
              "      <td>45</td>\n",
              "      <td>1.233200</td>\n",
              "      <td>1.202871</td>\n",
              "    </tr>\n",
              "    <tr>\n",
              "      <td>46</td>\n",
              "      <td>1.244200</td>\n",
              "      <td>1.201740</td>\n",
              "    </tr>\n",
              "    <tr>\n",
              "      <td>47</td>\n",
              "      <td>1.171200</td>\n",
              "      <td>1.184038</td>\n",
              "    </tr>\n",
              "    <tr>\n",
              "      <td>48</td>\n",
              "      <td>1.173600</td>\n",
              "      <td>1.175919</td>\n",
              "    </tr>\n",
              "    <tr>\n",
              "      <td>49</td>\n",
              "      <td>1.140900</td>\n",
              "      <td>1.165726</td>\n",
              "    </tr>\n",
              "    <tr>\n",
              "      <td>50</td>\n",
              "      <td>1.154700</td>\n",
              "      <td>1.148703</td>\n",
              "    </tr>\n",
              "    <tr>\n",
              "      <td>51</td>\n",
              "      <td>1.066900</td>\n",
              "      <td>1.131945</td>\n",
              "    </tr>\n",
              "    <tr>\n",
              "      <td>52</td>\n",
              "      <td>1.107600</td>\n",
              "      <td>1.116088</td>\n",
              "    </tr>\n",
              "    <tr>\n",
              "      <td>53</td>\n",
              "      <td>1.148200</td>\n",
              "      <td>1.109769</td>\n",
              "    </tr>\n",
              "    <tr>\n",
              "      <td>54</td>\n",
              "      <td>1.165200</td>\n",
              "      <td>1.085180</td>\n",
              "    </tr>\n",
              "    <tr>\n",
              "      <td>55</td>\n",
              "      <td>1.037900</td>\n",
              "      <td>1.077424</td>\n",
              "    </tr>\n",
              "    <tr>\n",
              "      <td>56</td>\n",
              "      <td>1.030700</td>\n",
              "      <td>1.065184</td>\n",
              "    </tr>\n",
              "    <tr>\n",
              "      <td>57</td>\n",
              "      <td>1.033800</td>\n",
              "      <td>1.057740</td>\n",
              "    </tr>\n",
              "    <tr>\n",
              "      <td>58</td>\n",
              "      <td>1.002100</td>\n",
              "      <td>1.052874</td>\n",
              "    </tr>\n",
              "    <tr>\n",
              "      <td>59</td>\n",
              "      <td>1.022400</td>\n",
              "      <td>1.044491</td>\n",
              "    </tr>\n",
              "    <tr>\n",
              "      <td>60</td>\n",
              "      <td>1.063600</td>\n",
              "      <td>1.022326</td>\n",
              "    </tr>\n",
              "    <tr>\n",
              "      <td>61</td>\n",
              "      <td>1.066600</td>\n",
              "      <td>1.005683</td>\n",
              "    </tr>\n",
              "    <tr>\n",
              "      <td>62</td>\n",
              "      <td>1.028100</td>\n",
              "      <td>1.014111</td>\n",
              "    </tr>\n",
              "    <tr>\n",
              "      <td>63</td>\n",
              "      <td>1.122200</td>\n",
              "      <td>0.997923</td>\n",
              "    </tr>\n",
              "    <tr>\n",
              "      <td>64</td>\n",
              "      <td>1.013800</td>\n",
              "      <td>0.993214</td>\n",
              "    </tr>\n",
              "    <tr>\n",
              "      <td>65</td>\n",
              "      <td>1.030100</td>\n",
              "      <td>0.977911</td>\n",
              "    </tr>\n",
              "    <tr>\n",
              "      <td>66</td>\n",
              "      <td>0.980700</td>\n",
              "      <td>0.975919</td>\n",
              "    </tr>\n",
              "    <tr>\n",
              "      <td>67</td>\n",
              "      <td>1.082900</td>\n",
              "      <td>0.968673</td>\n",
              "    </tr>\n",
              "    <tr>\n",
              "      <td>68</td>\n",
              "      <td>1.059700</td>\n",
              "      <td>0.960281</td>\n",
              "    </tr>\n",
              "    <tr>\n",
              "      <td>69</td>\n",
              "      <td>0.883400</td>\n",
              "      <td>0.953773</td>\n",
              "    </tr>\n",
              "    <tr>\n",
              "      <td>70</td>\n",
              "      <td>0.913000</td>\n",
              "      <td>0.949042</td>\n",
              "    </tr>\n",
              "    <tr>\n",
              "      <td>71</td>\n",
              "      <td>1.043600</td>\n",
              "      <td>0.942992</td>\n",
              "    </tr>\n",
              "    <tr>\n",
              "      <td>72</td>\n",
              "      <td>1.091100</td>\n",
              "      <td>0.938400</td>\n",
              "    </tr>\n",
              "    <tr>\n",
              "      <td>73</td>\n",
              "      <td>0.968400</td>\n",
              "      <td>0.931123</td>\n",
              "    </tr>\n",
              "    <tr>\n",
              "      <td>74</td>\n",
              "      <td>0.941300</td>\n",
              "      <td>0.917136</td>\n",
              "    </tr>\n",
              "    <tr>\n",
              "      <td>75</td>\n",
              "      <td>0.987300</td>\n",
              "      <td>0.920682</td>\n",
              "    </tr>\n",
              "    <tr>\n",
              "      <td>76</td>\n",
              "      <td>0.874700</td>\n",
              "      <td>0.906043</td>\n",
              "    </tr>\n",
              "    <tr>\n",
              "      <td>77</td>\n",
              "      <td>0.914500</td>\n",
              "      <td>0.906824</td>\n",
              "    </tr>\n",
              "    <tr>\n",
              "      <td>78</td>\n",
              "      <td>0.835200</td>\n",
              "      <td>0.893159</td>\n",
              "    </tr>\n",
              "    <tr>\n",
              "      <td>79</td>\n",
              "      <td>0.868500</td>\n",
              "      <td>0.887526</td>\n",
              "    </tr>\n",
              "    <tr>\n",
              "      <td>80</td>\n",
              "      <td>0.853800</td>\n",
              "      <td>0.874116</td>\n",
              "    </tr>\n",
              "    <tr>\n",
              "      <td>81</td>\n",
              "      <td>0.824400</td>\n",
              "      <td>0.875226</td>\n",
              "    </tr>\n",
              "    <tr>\n",
              "      <td>82</td>\n",
              "      <td>0.896800</td>\n",
              "      <td>0.864741</td>\n",
              "    </tr>\n",
              "    <tr>\n",
              "      <td>83</td>\n",
              "      <td>0.871300</td>\n",
              "      <td>0.853772</td>\n",
              "    </tr>\n",
              "    <tr>\n",
              "      <td>84</td>\n",
              "      <td>0.872300</td>\n",
              "      <td>0.844888</td>\n",
              "    </tr>\n",
              "    <tr>\n",
              "      <td>85</td>\n",
              "      <td>0.837500</td>\n",
              "      <td>0.841446</td>\n",
              "    </tr>\n",
              "    <tr>\n",
              "      <td>86</td>\n",
              "      <td>0.891700</td>\n",
              "      <td>0.829586</td>\n",
              "    </tr>\n",
              "    <tr>\n",
              "      <td>87</td>\n",
              "      <td>0.971100</td>\n",
              "      <td>0.820260</td>\n",
              "    </tr>\n",
              "    <tr>\n",
              "      <td>88</td>\n",
              "      <td>0.870500</td>\n",
              "      <td>0.812158</td>\n",
              "    </tr>\n",
              "    <tr>\n",
              "      <td>89</td>\n",
              "      <td>0.883300</td>\n",
              "      <td>0.813497</td>\n",
              "    </tr>\n",
              "    <tr>\n",
              "      <td>90</td>\n",
              "      <td>0.739000</td>\n",
              "      <td>0.815174</td>\n",
              "    </tr>\n",
              "    <tr>\n",
              "      <td>91</td>\n",
              "      <td>0.851500</td>\n",
              "      <td>0.811015</td>\n",
              "    </tr>\n",
              "    <tr>\n",
              "      <td>92</td>\n",
              "      <td>0.899400</td>\n",
              "      <td>0.798990</td>\n",
              "    </tr>\n",
              "    <tr>\n",
              "      <td>93</td>\n",
              "      <td>0.927600</td>\n",
              "      <td>0.795028</td>\n",
              "    </tr>\n",
              "    <tr>\n",
              "      <td>94</td>\n",
              "      <td>0.833000</td>\n",
              "      <td>0.794402</td>\n",
              "    </tr>\n",
              "    <tr>\n",
              "      <td>95</td>\n",
              "      <td>0.817400</td>\n",
              "      <td>0.796965</td>\n",
              "    </tr>\n",
              "    <tr>\n",
              "      <td>96</td>\n",
              "      <td>0.787800</td>\n",
              "      <td>0.786930</td>\n",
              "    </tr>\n",
              "    <tr>\n",
              "      <td>97</td>\n",
              "      <td>0.827400</td>\n",
              "      <td>0.777744</td>\n",
              "    </tr>\n",
              "    <tr>\n",
              "      <td>98</td>\n",
              "      <td>0.833700</td>\n",
              "      <td>0.771485</td>\n",
              "    </tr>\n",
              "    <tr>\n",
              "      <td>99</td>\n",
              "      <td>0.795700</td>\n",
              "      <td>0.769053</td>\n",
              "    </tr>\n",
              "    <tr>\n",
              "      <td>100</td>\n",
              "      <td>0.738400</td>\n",
              "      <td>0.760023</td>\n",
              "    </tr>\n",
              "    <tr>\n",
              "      <td>101</td>\n",
              "      <td>0.823100</td>\n",
              "      <td>0.757681</td>\n",
              "    </tr>\n",
              "    <tr>\n",
              "      <td>102</td>\n",
              "      <td>0.805100</td>\n",
              "      <td>0.754955</td>\n",
              "    </tr>\n",
              "    <tr>\n",
              "      <td>103</td>\n",
              "      <td>0.937100</td>\n",
              "      <td>0.752153</td>\n",
              "    </tr>\n",
              "    <tr>\n",
              "      <td>104</td>\n",
              "      <td>0.856400</td>\n",
              "      <td>0.750876</td>\n",
              "    </tr>\n",
              "    <tr>\n",
              "      <td>105</td>\n",
              "      <td>0.806000</td>\n",
              "      <td>0.748096</td>\n",
              "    </tr>\n",
              "    <tr>\n",
              "      <td>106</td>\n",
              "      <td>0.758800</td>\n",
              "      <td>0.753041</td>\n",
              "    </tr>\n",
              "    <tr>\n",
              "      <td>107</td>\n",
              "      <td>0.768400</td>\n",
              "      <td>0.744768</td>\n",
              "    </tr>\n",
              "    <tr>\n",
              "      <td>108</td>\n",
              "      <td>0.748200</td>\n",
              "      <td>0.737253</td>\n",
              "    </tr>\n",
              "    <tr>\n",
              "      <td>109</td>\n",
              "      <td>0.717200</td>\n",
              "      <td>0.733517</td>\n",
              "    </tr>\n",
              "    <tr>\n",
              "      <td>110</td>\n",
              "      <td>0.655400</td>\n",
              "      <td>0.729595</td>\n",
              "    </tr>\n",
              "    <tr>\n",
              "      <td>111</td>\n",
              "      <td>0.772500</td>\n",
              "      <td>0.721499</td>\n",
              "    </tr>\n",
              "    <tr>\n",
              "      <td>112</td>\n",
              "      <td>0.724900</td>\n",
              "      <td>0.726230</td>\n",
              "    </tr>\n",
              "    <tr>\n",
              "      <td>113</td>\n",
              "      <td>0.711700</td>\n",
              "      <td>0.722241</td>\n",
              "    </tr>\n",
              "    <tr>\n",
              "      <td>114</td>\n",
              "      <td>0.858900</td>\n",
              "      <td>0.722563</td>\n",
              "    </tr>\n",
              "    <tr>\n",
              "      <td>115</td>\n",
              "      <td>0.633700</td>\n",
              "      <td>0.718853</td>\n",
              "    </tr>\n",
              "    <tr>\n",
              "      <td>116</td>\n",
              "      <td>0.742100</td>\n",
              "      <td>0.717203</td>\n",
              "    </tr>\n",
              "    <tr>\n",
              "      <td>117</td>\n",
              "      <td>0.723400</td>\n",
              "      <td>0.714619</td>\n",
              "    </tr>\n",
              "    <tr>\n",
              "      <td>118</td>\n",
              "      <td>0.732700</td>\n",
              "      <td>0.709277</td>\n",
              "    </tr>\n",
              "    <tr>\n",
              "      <td>119</td>\n",
              "      <td>0.776300</td>\n",
              "      <td>0.705679</td>\n",
              "    </tr>\n",
              "    <tr>\n",
              "      <td>120</td>\n",
              "      <td>0.624500</td>\n",
              "      <td>0.703660</td>\n",
              "    </tr>\n",
              "    <tr>\n",
              "      <td>121</td>\n",
              "      <td>0.787100</td>\n",
              "      <td>0.700894</td>\n",
              "    </tr>\n",
              "    <tr>\n",
              "      <td>122</td>\n",
              "      <td>0.781300</td>\n",
              "      <td>0.704275</td>\n",
              "    </tr>\n",
              "    <tr>\n",
              "      <td>123</td>\n",
              "      <td>0.647200</td>\n",
              "      <td>0.700046</td>\n",
              "    </tr>\n",
              "    <tr>\n",
              "      <td>124</td>\n",
              "      <td>0.736200</td>\n",
              "      <td>0.696598</td>\n",
              "    </tr>\n",
              "    <tr>\n",
              "      <td>125</td>\n",
              "      <td>0.606800</td>\n",
              "      <td>0.692583</td>\n",
              "    </tr>\n",
              "    <tr>\n",
              "      <td>126</td>\n",
              "      <td>0.754000</td>\n",
              "      <td>0.692490</td>\n",
              "    </tr>\n",
              "    <tr>\n",
              "      <td>127</td>\n",
              "      <td>0.707200</td>\n",
              "      <td>0.689840</td>\n",
              "    </tr>\n",
              "    <tr>\n",
              "      <td>128</td>\n",
              "      <td>0.666900</td>\n",
              "      <td>0.690469</td>\n",
              "    </tr>\n",
              "    <tr>\n",
              "      <td>129</td>\n",
              "      <td>0.654100</td>\n",
              "      <td>0.689307</td>\n",
              "    </tr>\n",
              "    <tr>\n",
              "      <td>130</td>\n",
              "      <td>0.745700</td>\n",
              "      <td>0.686693</td>\n",
              "    </tr>\n",
              "    <tr>\n",
              "      <td>131</td>\n",
              "      <td>0.669300</td>\n",
              "      <td>0.685784</td>\n",
              "    </tr>\n",
              "    <tr>\n",
              "      <td>132</td>\n",
              "      <td>0.751500</td>\n",
              "      <td>0.686746</td>\n",
              "    </tr>\n",
              "    <tr>\n",
              "      <td>133</td>\n",
              "      <td>0.668600</td>\n",
              "      <td>0.683853</td>\n",
              "    </tr>\n",
              "    <tr>\n",
              "      <td>134</td>\n",
              "      <td>0.806000</td>\n",
              "      <td>0.679490</td>\n",
              "    </tr>\n",
              "    <tr>\n",
              "      <td>135</td>\n",
              "      <td>0.703400</td>\n",
              "      <td>0.672584</td>\n",
              "    </tr>\n",
              "    <tr>\n",
              "      <td>136</td>\n",
              "      <td>0.658000</td>\n",
              "      <td>0.674447</td>\n",
              "    </tr>\n",
              "    <tr>\n",
              "      <td>137</td>\n",
              "      <td>0.709800</td>\n",
              "      <td>0.673307</td>\n",
              "    </tr>\n",
              "    <tr>\n",
              "      <td>138</td>\n",
              "      <td>0.577200</td>\n",
              "      <td>0.673377</td>\n",
              "    </tr>\n",
              "    <tr>\n",
              "      <td>139</td>\n",
              "      <td>0.673600</td>\n",
              "      <td>0.666338</td>\n",
              "    </tr>\n",
              "    <tr>\n",
              "      <td>140</td>\n",
              "      <td>0.663900</td>\n",
              "      <td>0.668768</td>\n",
              "    </tr>\n",
              "    <tr>\n",
              "      <td>141</td>\n",
              "      <td>0.571400</td>\n",
              "      <td>0.667688</td>\n",
              "    </tr>\n",
              "    <tr>\n",
              "      <td>142</td>\n",
              "      <td>0.684200</td>\n",
              "      <td>0.666422</td>\n",
              "    </tr>\n",
              "    <tr>\n",
              "      <td>143</td>\n",
              "      <td>0.771900</td>\n",
              "      <td>0.662513</td>\n",
              "    </tr>\n",
              "    <tr>\n",
              "      <td>144</td>\n",
              "      <td>0.614700</td>\n",
              "      <td>0.661297</td>\n",
              "    </tr>\n",
              "    <tr>\n",
              "      <td>145</td>\n",
              "      <td>0.671200</td>\n",
              "      <td>0.659677</td>\n",
              "    </tr>\n",
              "    <tr>\n",
              "      <td>146</td>\n",
              "      <td>0.619000</td>\n",
              "      <td>0.656856</td>\n",
              "    </tr>\n",
              "    <tr>\n",
              "      <td>147</td>\n",
              "      <td>0.715200</td>\n",
              "      <td>0.656336</td>\n",
              "    </tr>\n",
              "    <tr>\n",
              "      <td>148</td>\n",
              "      <td>0.527300</td>\n",
              "      <td>0.655800</td>\n",
              "    </tr>\n",
              "    <tr>\n",
              "      <td>149</td>\n",
              "      <td>0.489300</td>\n",
              "      <td>0.654703</td>\n",
              "    </tr>\n",
              "    <tr>\n",
              "      <td>150</td>\n",
              "      <td>0.699600</td>\n",
              "      <td>0.652206</td>\n",
              "    </tr>\n",
              "    <tr>\n",
              "      <td>151</td>\n",
              "      <td>0.488000</td>\n",
              "      <td>0.652274</td>\n",
              "    </tr>\n",
              "    <tr>\n",
              "      <td>152</td>\n",
              "      <td>0.642700</td>\n",
              "      <td>0.649805</td>\n",
              "    </tr>\n",
              "    <tr>\n",
              "      <td>153</td>\n",
              "      <td>0.562400</td>\n",
              "      <td>0.652526</td>\n",
              "    </tr>\n",
              "    <tr>\n",
              "      <td>154</td>\n",
              "      <td>0.573600</td>\n",
              "      <td>0.650951</td>\n",
              "    </tr>\n",
              "    <tr>\n",
              "      <td>155</td>\n",
              "      <td>0.615100</td>\n",
              "      <td>0.648835</td>\n",
              "    </tr>\n",
              "    <tr>\n",
              "      <td>156</td>\n",
              "      <td>0.620000</td>\n",
              "      <td>0.649387</td>\n",
              "    </tr>\n",
              "    <tr>\n",
              "      <td>157</td>\n",
              "      <td>0.612600</td>\n",
              "      <td>0.647277</td>\n",
              "    </tr>\n",
              "    <tr>\n",
              "      <td>158</td>\n",
              "      <td>0.476400</td>\n",
              "      <td>0.645438</td>\n",
              "    </tr>\n",
              "    <tr>\n",
              "      <td>159</td>\n",
              "      <td>0.634700</td>\n",
              "      <td>0.643870</td>\n",
              "    </tr>\n",
              "    <tr>\n",
              "      <td>160</td>\n",
              "      <td>0.671000</td>\n",
              "      <td>0.643681</td>\n",
              "    </tr>\n",
              "    <tr>\n",
              "      <td>161</td>\n",
              "      <td>0.577100</td>\n",
              "      <td>0.643366</td>\n",
              "    </tr>\n",
              "    <tr>\n",
              "      <td>162</td>\n",
              "      <td>0.611300</td>\n",
              "      <td>0.643699</td>\n",
              "    </tr>\n",
              "    <tr>\n",
              "      <td>163</td>\n",
              "      <td>0.755700</td>\n",
              "      <td>0.641992</td>\n",
              "    </tr>\n",
              "    <tr>\n",
              "      <td>164</td>\n",
              "      <td>0.748800</td>\n",
              "      <td>0.641916</td>\n",
              "    </tr>\n",
              "    <tr>\n",
              "      <td>165</td>\n",
              "      <td>0.645900</td>\n",
              "      <td>0.640993</td>\n",
              "    </tr>\n",
              "    <tr>\n",
              "      <td>166</td>\n",
              "      <td>0.605900</td>\n",
              "      <td>0.640830</td>\n",
              "    </tr>\n",
              "    <tr>\n",
              "      <td>167</td>\n",
              "      <td>0.598400</td>\n",
              "      <td>0.639624</td>\n",
              "    </tr>\n",
              "    <tr>\n",
              "      <td>168</td>\n",
              "      <td>0.584100</td>\n",
              "      <td>0.638331</td>\n",
              "    </tr>\n",
              "    <tr>\n",
              "      <td>169</td>\n",
              "      <td>0.705100</td>\n",
              "      <td>0.635475</td>\n",
              "    </tr>\n",
              "    <tr>\n",
              "      <td>170</td>\n",
              "      <td>0.721400</td>\n",
              "      <td>0.635863</td>\n",
              "    </tr>\n",
              "    <tr>\n",
              "      <td>171</td>\n",
              "      <td>0.528000</td>\n",
              "      <td>0.635088</td>\n",
              "    </tr>\n",
              "    <tr>\n",
              "      <td>172</td>\n",
              "      <td>0.563500</td>\n",
              "      <td>0.632130</td>\n",
              "    </tr>\n",
              "    <tr>\n",
              "      <td>173</td>\n",
              "      <td>0.596400</td>\n",
              "      <td>0.632740</td>\n",
              "    </tr>\n",
              "    <tr>\n",
              "      <td>174</td>\n",
              "      <td>0.616800</td>\n",
              "      <td>0.630784</td>\n",
              "    </tr>\n",
              "    <tr>\n",
              "      <td>175</td>\n",
              "      <td>0.589600</td>\n",
              "      <td>0.631224</td>\n",
              "    </tr>\n",
              "    <tr>\n",
              "      <td>176</td>\n",
              "      <td>0.685000</td>\n",
              "      <td>0.631176</td>\n",
              "    </tr>\n",
              "    <tr>\n",
              "      <td>177</td>\n",
              "      <td>0.547300</td>\n",
              "      <td>0.631042</td>\n",
              "    </tr>\n",
              "    <tr>\n",
              "      <td>178</td>\n",
              "      <td>0.668500</td>\n",
              "      <td>0.630260</td>\n",
              "    </tr>\n",
              "    <tr>\n",
              "      <td>179</td>\n",
              "      <td>0.484200</td>\n",
              "      <td>0.629875</td>\n",
              "    </tr>\n",
              "    <tr>\n",
              "      <td>180</td>\n",
              "      <td>0.521100</td>\n",
              "      <td>0.628600</td>\n",
              "    </tr>\n",
              "    <tr>\n",
              "      <td>181</td>\n",
              "      <td>0.549100</td>\n",
              "      <td>0.628259</td>\n",
              "    </tr>\n",
              "    <tr>\n",
              "      <td>182</td>\n",
              "      <td>0.561900</td>\n",
              "      <td>0.627841</td>\n",
              "    </tr>\n",
              "    <tr>\n",
              "      <td>183</td>\n",
              "      <td>0.477500</td>\n",
              "      <td>0.626940</td>\n",
              "    </tr>\n",
              "    <tr>\n",
              "      <td>184</td>\n",
              "      <td>0.591700</td>\n",
              "      <td>0.626122</td>\n",
              "    </tr>\n",
              "    <tr>\n",
              "      <td>185</td>\n",
              "      <td>0.471800</td>\n",
              "      <td>0.625945</td>\n",
              "    </tr>\n",
              "    <tr>\n",
              "      <td>186</td>\n",
              "      <td>0.707000</td>\n",
              "      <td>0.625549</td>\n",
              "    </tr>\n",
              "    <tr>\n",
              "      <td>187</td>\n",
              "      <td>0.507300</td>\n",
              "      <td>0.625574</td>\n",
              "    </tr>\n",
              "    <tr>\n",
              "      <td>188</td>\n",
              "      <td>0.604900</td>\n",
              "      <td>0.625338</td>\n",
              "    </tr>\n",
              "    <tr>\n",
              "      <td>189</td>\n",
              "      <td>0.650100</td>\n",
              "      <td>0.625179</td>\n",
              "    </tr>\n",
              "    <tr>\n",
              "      <td>190</td>\n",
              "      <td>0.560000</td>\n",
              "      <td>0.625013</td>\n",
              "    </tr>\n",
              "    <tr>\n",
              "      <td>191</td>\n",
              "      <td>0.708900</td>\n",
              "      <td>0.625162</td>\n",
              "    </tr>\n",
              "    <tr>\n",
              "      <td>192</td>\n",
              "      <td>0.384400</td>\n",
              "      <td>0.625478</td>\n",
              "    </tr>\n",
              "    <tr>\n",
              "      <td>193</td>\n",
              "      <td>0.546000</td>\n",
              "      <td>0.624709</td>\n",
              "    </tr>\n",
              "    <tr>\n",
              "      <td>194</td>\n",
              "      <td>0.550200</td>\n",
              "      <td>0.624662</td>\n",
              "    </tr>\n",
              "    <tr>\n",
              "      <td>195</td>\n",
              "      <td>0.537000</td>\n",
              "      <td>0.624850</td>\n",
              "    </tr>\n",
              "    <tr>\n",
              "      <td>196</td>\n",
              "      <td>0.439400</td>\n",
              "      <td>0.624806</td>\n",
              "    </tr>\n",
              "    <tr>\n",
              "      <td>197</td>\n",
              "      <td>0.615500</td>\n",
              "      <td>0.624640</td>\n",
              "    </tr>\n",
              "    <tr>\n",
              "      <td>198</td>\n",
              "      <td>0.468100</td>\n",
              "      <td>0.624688</td>\n",
              "    </tr>\n",
              "    <tr>\n",
              "      <td>199</td>\n",
              "      <td>0.584500</td>\n",
              "      <td>0.624553</td>\n",
              "    </tr>\n",
              "    <tr>\n",
              "      <td>200</td>\n",
              "      <td>0.542300</td>\n",
              "      <td>0.624556</td>\n",
              "    </tr>\n",
              "  </tbody>\n",
              "</table><p>"
            ]
          },
          "metadata": {}
        },
        {
          "output_type": "execute_result",
          "data": {
            "text/plain": [
              "TrainOutput(global_step=8000, training_loss=0.9195697856843471, metrics={'train_runtime': 135.406, 'train_samples_per_second': 118.163, 'train_steps_per_second': 59.082, 'total_flos': 0.0, 'train_loss': 0.9195697856843471, 'epoch': 200.0})"
            ]
          },
          "metadata": {},
          "execution_count": 29
        }
      ]
    },
    {
      "cell_type": "code",
      "source": [
        "from torch.utils.data import DataLoader\n",
        "\n",
        "# Step 5: Evaluation\n",
        "def evaluate_model(texts, labels):\n",
        "    eval_dataset = CountingFiguresDataset(texts, labels, tokenizer, max_length=MAX_LEN_SENTENCE)\n",
        "    eval_loader = DataLoader(eval_dataset, batch_size=2)\n",
        "    total_correct = 0\n",
        "    total_samples = len(labels)\n",
        "    model.eval()\n",
        "    with torch.no_grad():\n",
        "        for batch in eval_loader:\n",
        "            input_ids = batch['input_ids']\n",
        "            attention_mask = batch['attention_mask']\n",
        "            labels = batch['labels']\n",
        "            outputs = model(input_ids=input_ids, attention_mask=attention_mask)\n",
        "            _, preds = torch.max(outputs, dim=-1)\n",
        "            total_correct += (preds == labels).sum().item()\n",
        "\n",
        "    accuracy = total_correct / total_samples\n",
        "    print(f'Accuracy: {accuracy * 100:.2f}%')\n",
        "\n",
        "\n",
        "# Generate descriptions and images for each shape list\n",
        "\n",
        "test_shape_lists = [generate_random_shapes() for _ in range(100)]\n",
        "\n",
        "eval_descriptions = []\n",
        "eval_lengths = []\n",
        "for i, shape_list in enumerate(test_shape_lists):\n",
        "  eval_descriptions.append(generate_descr_from_list(shape_list))\n",
        "  eval_lengths.append(len(shape_list))\n",
        "\n",
        "evaluate_model(eval_descriptions, eval_lengths)"
      ],
      "metadata": {
        "colab": {
          "base_uri": "https://localhost:8080/"
        },
        "id": "q4j1RRLb7hzX",
        "outputId": "0cf0e02b-51ba-4c5e-a036-517345554c0f"
      },
      "execution_count": 30,
      "outputs": [
        {
          "output_type": "stream",
          "name": "stdout",
          "text": [
            "Accuracy: 67.00%\n"
          ]
        }
      ]
    },
    {
      "cell_type": "code",
      "source": [
        "class MyTransformerDecoderLayer(nn.Module):\n",
        "    def __init__(self, input_dim, hidden_key_dim, hidden_val_dim, output_dim, enc_emb_dim, num_heads):\n",
        "        super(MyTransformerEncoderLayer, self).__init__()\n",
        "        self.input_dim = input_dim\n",
        "        self.hidden_key_dim = hidden_key_dim\n",
        "        self.hidden_val_dim = hidden_val_dim\n",
        "        self.output_dim = output_dim\n",
        "        self.enc_emb_dim = enc_emb_dim\n",
        "        self.num_heads = num_heads\n",
        "\n",
        "        self.masked_att = MyAttention(self.input_dim, self.hidden_key_dim, self.hidden_val_dim, enc_emb_dim=None, mask=True, num_heads=self.num_heads)\n",
        "        self.norm1 = nn.LayerNorm(self.input_dim)\n",
        "        self.cross_att = MyAttention(self.input_dim, self.hidden_key_dim, self.hidden_val_dim, enc_emb_dim=self.enc_emb_dim, mask=False, num_heads=self.num_heads)\n",
        "        self.norm2 = nn.LayerNorm(self.input_dim)\n",
        "        self.self_att = MyAttention(self.input_dim, self.hidden_key_dim, self.hidden_val_dim, enc_emb_dim=None, mask=False, num_heads=self.num_heads)\n",
        "        self.norm3 = nn.LayerNorm(self.input_dim)\n",
        "        self.feed_forward = nn.Sequential(\n",
        "            nn.Linear(self.hidden_dim, self.output_dim),\n",
        "            nn.ReLU()\n",
        "        )\n",
        "\n",
        "    def forward(self, x, enc_emb):\n",
        "        x = self.norm1(x + self.masked_att(x))\n",
        "        x = self.norm2(x + self.cross_att(x, enc_emb))\n",
        "        x = self.norm3(x + self.self_att(x))\n",
        "        x = self.feed_forward(x)\n",
        "        return x"
      ],
      "metadata": {
        "id": "jeRheKQGyfmO"
      },
      "execution_count": 33,
      "outputs": []
    },
    {
      "cell_type": "code",
      "source": [
        "class MyTransformerDecoder(nn.Module):\n",
        "    def __init__(self, num_tokens, input_dim, hidden_key_dim, hidden_val_dim, output_dim, enc_emb_dim, max_length, num_layers, num_heads):\n",
        "        super(MyTransformerEncoder, self).__init__()\n",
        "        self.num_tokens = num_tokens\n",
        "        self.input_dim = input_dim\n",
        "        self.hidden_key_dim = hidden_key_dim\n",
        "        self.hidden_val_dim = hidden_val_dim\n",
        "        self.output_dim = output_dim\n",
        "        self.enc_emb_dim = enc_emb_dim\n",
        "        self.max_length = max_length\n",
        "        self.num_heads = num_heads\n",
        "\n",
        "        self.embedding = nn.Embedding(num_tokens, self.input_dim)\n",
        "        self.positional_encoding = MyPositionalEncoding(self.input_dim, max_length)\n",
        "        self.layers = nn.ModuleList([MyTransformerDecoderLayer(input_dim=self.input_dim,\n",
        "                                                               hidden_dim=self.hidden_dim,\n",
        "                                                               enc_emb_dim=self.enc_emb_dim,\n",
        "                                                               num_heads=num_heads) for _ in range(num_layers)])\n",
        "        self.linear = nn.Linear(self.input_dim, self.output_dim)\n",
        "        self.norm = nn.LayerNorm(self.output_dim)\n",
        "\n",
        "    def forward(self, x, enc_emb):\n",
        "        x = self.embedding(x)\n",
        "        x = self.positional_encoding(x)\n",
        "        for layer in self.layers:\n",
        "            x = layer(x, enc_emb)\n",
        "        x = self.linear(x)\n",
        "        x = self.norm(x)\n",
        "        return x"
      ],
      "metadata": {
        "id": "ztvWkEGivzxx"
      },
      "execution_count": 34,
      "outputs": []
    },
    {
      "cell_type": "code",
      "source": [
        "class MyTransformerTranslator(nn.Module):\n",
        "    def __init__(self, transf_enc, transf_dec, source_tokenizer, target_tokenizer):\n",
        "        super(MyTransformerTranslator, self).__init__()\n",
        "        self.transf_enc = transf_enc\n",
        "        self.transf_dec = transf_dec\n",
        "        self.source_tokenizer = source_tokenizer\n",
        "        self.target_tokenizer = target_tokenizer\n",
        "        self.target_vocabulary_size = len(target_tokenizer.vocabulary)\n",
        "\n",
        "    def forward(self, source_embeddings, target_embeddings):\n",
        "        source_embeddings = self.transf_enc(source_embeddings)\n",
        "        decoded_embeddings = self.transf_dec(target_embeddings, source_embeddings)\n",
        "        return decoded_embeddings"
      ],
      "metadata": {
        "id": "LLudUsAtwhAs"
      },
      "execution_count": 35,
      "outputs": []
    },
    {
      "cell_type": "code",
      "source": [],
      "metadata": {
        "id": "IvU4FiMZzYUU"
      },
      "execution_count": null,
      "outputs": []
    }
  ]
}