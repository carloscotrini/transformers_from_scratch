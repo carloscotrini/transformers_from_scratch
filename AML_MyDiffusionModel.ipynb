{
  "nbformat": 4,
  "nbformat_minor": 0,
  "metadata": {
    "colab": {
      "provenance": [],
      "authorship_tag": "ABX9TyMNvvSXPqu5nZWOjA/cuEAT",
      "include_colab_link": true
    },
    "kernelspec": {
      "name": "python3",
      "display_name": "Python 3"
    },
    "language_info": {
      "name": "python"
    }
  },
  "cells": [
    {
      "cell_type": "markdown",
      "metadata": {
        "id": "view-in-github",
        "colab_type": "text"
      },
      "source": [
        "<a href=\"https://colab.research.google.com/github/carloscotrini/transformers_from_scratch/blob/main/AML_MyDiffusionModel.ipynb\" target=\"_parent\"><img src=\"https://colab.research.google.com/assets/colab-badge.svg\" alt=\"Open In Colab\"/></a>"
      ]
    },
    {
      "cell_type": "code",
      "execution_count": 40,
      "metadata": {
        "id": "8qHQ130lHWM0"
      },
      "outputs": [],
      "source": [
        "import random\n",
        "\n",
        "SHAPES = [\"triangle\", \"circle\"]\n",
        "PLURALS = [shape + \"s\" for shape in SHAPES]\n",
        "ARTICLES = [\"a\", \"one\"]\n",
        "TWO_ARTICLES = [\"two\"]\n",
        "CONNECTORS = [\"and\", \"then\"]\n",
        "REVERSE_CONNECTORS = [\"after\"]\n",
        "CLASS_TOKEN = \"CLS\"\n",
        "MASK_TOKEN = \"MASK\"\n",
        "SEP_TOKEN = \"SEP\"\n",
        "PAD_TOKEN = \"PAD\"\n",
        "EOS_TOKEN = \"EOS\"\n",
        "SPECIAL_TOKENS = [CLASS_TOKEN, MASK_TOKEN, SEP_TOKEN, PAD_TOKEN, EOS_TOKEN]\n",
        "VOCABULARY = SHAPES + PLURALS + ARTICLES + CONNECTORS + REVERSE_CONNECTORS + TWO_ARTICLES + SPECIAL_TOKENS\n",
        "MAX_LEN_SENTENCE = 16 # Maximum possible length of a sequence\n",
        "\n",
        "def generate_random_shapes():\n",
        "  num_shapes = random.randint(1, 4)\n",
        "  result = []\n",
        "  for _ in range(num_shapes):\n",
        "    result.append(random.choice(SHAPES))\n",
        "  return result"
      ]
    },
    {
      "cell_type": "code",
      "source": [
        "import numpy as np\n",
        "import matplotlib.pyplot as plt\n",
        "from PIL import Image, ImageDraw\n",
        "import random\n",
        "\n",
        "def generate_image(word_list, filename, mask_filename):\n",
        "    # Create a blank 32x32 image\n",
        "    image_size = 32\n",
        "    patch_size = 16\n",
        "    image = Image.new(\"1\", (image_size, image_size), 1)  # '1' for 1-bit pixels, black and white\n",
        "    mask = Image.new(\"1\", (image_size, image_size), 1)\n",
        "\n",
        "    for i, word in enumerate(word_list):\n",
        "        if word not in [\"triangle\", \"circle\"]:\n",
        "            continue\n",
        "\n",
        "        # Determine the top-left corner of the patch\n",
        "        x_offset = (i % 2) * patch_size\n",
        "        y_offset = (i // 2) * patch_size\n",
        "\n",
        "        # Draw the shape in the corresponding patch\n",
        "        draw = ImageDraw.Draw(image)\n",
        "        draw_mask = ImageDraw.Draw(mask)\n",
        "        if word == \"triangle\":\n",
        "            points = [(random.randint(x_offset, x_offset + patch_size), random.randint(y_offset, y_offset + patch_size)) for _ in range(3)]\n",
        "            draw.polygon(points, fill=0)\n",
        "            draw_mask.polygon(points, fill=0)\n",
        "        elif word == \"circle\":\n",
        "            radius = random.randint(2, patch_size // 2)\n",
        "            center_x = random.randint(x_offset + radius, x_offset + patch_size - radius)\n",
        "            center_y = random.randint(y_offset + radius, y_offset + patch_size - radius)\n",
        "            draw.ellipse([center_x - radius, center_y - radius, center_x + radius, center_y + radius], fill=0)\n",
        "\n",
        "    # Save the image to the specified filename\n",
        "    image.save(filename)\n",
        "    mask.save(mask_filename)\n",
        "\n",
        "def plot_image(filename):\n",
        "    # Open the image\n",
        "    image = Image.open(filename)\n",
        "\n",
        "    # Convert the image to a NumPy array\n",
        "    image_array = np.array(image)\n",
        "\n",
        "    # Plot the image\n",
        "    plt.imshow(image_array)\n",
        "    plt.axis('off')  # Turn off axis labels\n",
        "    plt.show()\n",
        "\n",
        "# Example usage:\n",
        "generate_image([\"circle\", \"triangle\", \"circle\"], \"output_image.png\", \"masked_output_image.png\")"
      ],
      "metadata": {
        "id": "CC63AEDaHoGz"
      },
      "execution_count": 41,
      "outputs": []
    },
    {
      "cell_type": "code",
      "source": [
        "def generate_data(n_samples):\n",
        "  examples = []\n",
        "  for i in range(n_samples):\n",
        "    shape_list = generate_random_shapes()\n",
        "    filename = f\"f{i}.png\"\n",
        "    mask_filename = f\"m{i}.png\"\n",
        "    generate_image(shape_list, filename, mask_filename)\n",
        "    examples.append({\"shape_list\": shape_list, \"filename\": filename, \"mask_filename\": mask_filename})\n",
        "  return examples"
      ],
      "metadata": {
        "id": "peA6a3sfHuhs"
      },
      "execution_count": 42,
      "outputs": []
    },
    {
      "cell_type": "code",
      "source": [
        "import os\n",
        "import torch\n",
        "import torch.nn as nn\n",
        "import torch.optim as optim\n",
        "from PIL import Image\n",
        "from torch.utils.data import Dataset, DataLoader, Subset\n",
        "import torchvision.transforms as transforms\n",
        "from sklearn.model_selection import train_test_split"
      ],
      "metadata": {
        "id": "V14aZ2GVIJNb"
      },
      "execution_count": 43,
      "outputs": []
    },
    {
      "cell_type": "code",
      "source": [
        "class FigureDataset(Dataset):\n",
        "    def __init__(self, n_samples, image_dir=\".\", transform=None):\n",
        "        self.image_dir = image_dir\n",
        "        self.transform = transform\n",
        "        self.examples = generate_data(n_samples)\n",
        "        self.image_files = [e[\"filename\"] for e in self.examples]\n",
        "\n",
        "    def __len__(self):\n",
        "        return len(self.image_files)\n",
        "\n",
        "    def __getitem__(self, idx):\n",
        "        if torch.is_tensor(idx):\n",
        "            idx = idx.tolist()\n",
        "\n",
        "        img_name = os.path.join(self.image_dir, self.image_files[idx])\n",
        "        image = Image.open(img_name).convert('L')\n",
        "\n",
        "        if self.transform:\n",
        "            image = self.transform(image)\n",
        "\n",
        "        return image"
      ],
      "metadata": {
        "id": "8S4ojjWTIMmQ"
      },
      "execution_count": 44,
      "outputs": []
    },
    {
      "cell_type": "code",
      "source": [
        "import math\n",
        "\n",
        "class MyPositionalEncoding():\n",
        "    def __init__(self, d_model, T):\n",
        "        super(MyPositionalEncoding, self).__init__()\n",
        "\n",
        "        # Create a matrix of shape (max_len, d_model) with all zeros\n",
        "        self.pe = torch.zeros(T + 1, d_model)\n",
        "\n",
        "        # Create a column vector of shape (max_len, 1) with values [0, 1, ..., max_len-1]\n",
        "        position = torch.arange(0, T + 1, dtype=torch.float).unsqueeze(1)\n",
        "\n",
        "        # Create a row vector of shape (1, d_model // 2) with values [0, 1, ..., d_model//2-1]\n",
        "        div_term = torch.exp(torch.arange(0, d_model, 2).float() * (-math.log(10000.0) / d_model))\n",
        "\n",
        "        # Apply sine to even indices and cosine to odd indices\n",
        "        self.pe[:, 0::2] = torch.sin(position * div_term)\n",
        "        self.pe[:, 1::2] = torch.cos(position * div_term)"
      ],
      "metadata": {
        "id": "w0QxMyDb3U-4"
      },
      "execution_count": 59,
      "outputs": []
    },
    {
      "cell_type": "code",
      "source": [
        "class DiffusionModel():\n",
        "\n",
        "  def __init__(self, T, model: nn.Module):\n",
        "    self.betas = torch.sigmoid(torch.linspace(-18, 10, T)) * (3e-1 - 1e-5) + 1e-5\n",
        "    self.alphas = 1 - self.betas\n",
        "    self.alphas_bar = torch.cumprod(self.alphas, 0)\n",
        "\n",
        "    self.T = T\n",
        "    self.model = model\n",
        "\n",
        "  def forward_process(self, x0, t):\n",
        "    \"\"\"\n",
        "    :param t: Number of diffusion steps\n",
        "    \"\"\"\n",
        "\n",
        "    t = t - 1 # Because we start indexing at 0\n",
        "\n",
        "    factors = self.alphas_bar[t].view(self.alphas_bar[t].shape + (1, ) * (len(x0.shape) - 1))\n",
        "    mu = torch.sqrt(factors) * x0\n",
        "    std = torch.sqrt(1 - factors)\n",
        "    epsilon = torch.randn_like(x0)\n",
        "\n",
        "    return mu + epsilon * std # data ~ N(mu, std)\n",
        "\n",
        "  def reverse_process(self, xt, t):\n",
        "    \"\"\"\n",
        "    :param t: Number of diffusion steps\n",
        "    \"\"\"\n",
        "\n",
        "    t = t - 1 # Because we start indexing at 0\n",
        "\n",
        "    z = torch.randn_like(xt)\n",
        "\n",
        "    std = torch.sqrt(self.betas[t]).view(self.betas[t].shape[0], 1, 1, 1)\n",
        "\n",
        "    pred_eps = self.model(xt, t)\n",
        "\n",
        "    alphas = self.alphas[t].view(self.alphas[t].shape[0], 1, 1, 1)\n",
        "    alphas_bar = self.alphas_bar[t].view(self.alphas_bar[t].shape[0], 1, 1, 1)\n",
        "\n",
        "    a = (1 / torch.sqrt(alphas))\n",
        "    b = (xt - (1 - alphas) / torch.sqrt(1 - alphas_bar) * pred_eps)\n",
        "    c = std * z\n",
        "    xt_1 = a * b + c\n",
        "\n",
        "    return xt_1\n",
        "\n",
        "  def sample(self, batch_size, height, width):\n",
        "    noise = torch.randn((batch_size, 1, height, width))\n",
        "    x = noise\n",
        "\n",
        "    samples = [x]\n",
        "    for t in range(self.T, 0, -1):\n",
        "\n",
        "        if not (t == 1):\n",
        "            x = self.reverse_process(x, torch.tensor([t] * batch_size))\n",
        "\n",
        "        samples.append(x)\n",
        "\n",
        "    return samples[::-1]"
      ],
      "metadata": {
        "id": "IlPEjf_ZIXqb"
      },
      "execution_count": 125,
      "outputs": []
    },
    {
      "cell_type": "code",
      "source": [
        "class ConvBlock(nn.Module):\n",
        "\n",
        "    def __init__(self, in_channels, out_channels, t_emb_dim,\n",
        "                 kernel_size=3, stride=1, padding=1):\n",
        "        super(ConvBlock, self).__init__()\n",
        "        self.conv = nn.Conv2d(in_channels, out_channels,\n",
        "                              kernel_size, stride, padding)\n",
        "        self.norm = nn.BatchNorm2d(out_channels)\n",
        "        self.relu = nn.ReLU(inplace=True)\n",
        "        self.linear = nn.Linear(t_emb_dim, out_channels)\n",
        "        self.t_emb_dim = t_emb_dim\n",
        "        self.pe = MyPositionalEncoding(t_emb_dim, T)\n",
        "\n",
        "    def forward(self, x, t_emb):\n",
        "        x = self.conv(x)\n",
        "        t_emb = self.linear(t_emb)\n",
        "        t_emb = t_emb.view(x.shape[0], x.shape[1], 1, 1)\n",
        "        x += t_emb\n",
        "        x = self.norm(x)\n",
        "        x = self.relu(x)\n",
        "        return x\n",
        "\n",
        "class MyUNet(nn.Module):\n",
        "    def __init__(self, t_emb_dim):\n",
        "        super(MyUNet, self).__init__()\n",
        "\n",
        "        self.enc1 = ConvBlock(1, 4, t_emb_dim)\n",
        "        self.enc2 = ConvBlock(4, 8, t_emb_dim)\n",
        "\n",
        "        self.pool = nn.MaxPool2d(kernel_size=2, stride=2)\n",
        "\n",
        "        self.center = ConvBlock(8, 16, t_emb_dim)\n",
        "\n",
        "        self.up2 = nn.ConvTranspose2d(16, 8, kernel_size=2, stride=2)\n",
        "        self.dec2 = ConvBlock(16, 8, t_emb_dim)\n",
        "        self.up1 = nn.ConvTranspose2d(8, 4, kernel_size=2, stride=2)\n",
        "        self.dec1 = ConvBlock(8, 4, t_emb_dim)\n",
        "\n",
        "        self.final = nn.Conv2d(4, 1, kernel_size=1)\n",
        "\n",
        "        self.t_emb_dim = t_emb_dim\n",
        "        self.pe = MyPositionalEncoding(t_emb_dim, T)\n",
        "\n",
        "    def forward(self, x, t):\n",
        "        t_emb = self.pe.pe[t, :]\n",
        "        enc1 = self.enc1(x, t_emb)\n",
        "        enc2 = self.enc2(self.pool(enc1), t_emb)\n",
        "\n",
        "        center = self.center(self.pool(enc2), t_emb)\n",
        "\n",
        "        dec2 = self.dec2(torch.cat([self.up2(center), enc2], dim=1), t_emb)\n",
        "        dec1 = self.dec1(torch.cat([self.up1(dec2), enc1], dim=1), t_emb)\n",
        "\n",
        "        return torch.sigmoid(self.final(dec1))"
      ],
      "metadata": {
        "id": "BBwpSlGARfAH"
      },
      "execution_count": 126,
      "outputs": []
    },
    {
      "cell_type": "code",
      "source": [
        "from tqdm import tqdm\n",
        "from torch.nn import MSELoss\n",
        "\n",
        "# Training settings\n",
        "batch_size = 4\n",
        "num_epochs = 20\n",
        "learning_rate = 0.001\n",
        "t_emb_dim = 4\n",
        "\n",
        "transform = transforms.Compose([\n",
        "    transforms.ToTensor()\n",
        "])\n",
        "\n",
        "# Create dataset and split into training and testing sets\n",
        "dataset = FigureDataset(\n",
        "    n_samples=200,\n",
        "    image_dir=\".\",\n",
        "    transform=transform\n",
        ")\n",
        "\n",
        "train_indices, test_indices = train_test_split(np.arange(len(dataset)), test_size=0.2, random_state=42)\n",
        "train_dataset = Subset(dataset, train_indices)\n",
        "test_dataset = Subset(dataset, test_indices)\n",
        "\n",
        "train_loader = DataLoader(train_dataset, batch_size=batch_size, shuffle=True)\n",
        "test_loader = DataLoader(test_dataset, batch_size=batch_size, shuffle=False)\n",
        "\n",
        "# Initialize model, loss function, and optimizer\n",
        "device = torch.device('cuda' if torch.cuda.is_available() else 'cpu')\n",
        "unet = MyUNet(t_emb_dim).to(device)\n",
        "T = 100\n",
        "diff_model = DiffusionModel(T=T, model=unet)\n",
        "criterion = MSELoss()\n",
        "optimizer = optim.Adam(unet.parameters(), lr=learning_rate)\n",
        "\n",
        "for epoch in range(num_epochs):\n",
        "  diff_model.model.train()\n",
        "  for i, images in enumerate(tqdm(train_loader)):\n",
        "    images = images.to(device)\n",
        "    t = torch.randint(0, T, (images.size(0),)).to(device)\n",
        "    x_t = diff_model.forward_process(images, t)\n",
        "    x_recon = diff_model.reverse_process(x_t, t)\n",
        "    loss = criterion(x_recon, images)\n",
        "    optimizer.zero_grad()\n",
        "    loss.backward()\n",
        "    optimizer.step()\n",
        "    if i % 100 == 0:\n",
        "      print(f'Epoch [{epoch + 1}/{num_epochs}], Step [{i}/{len(train_loader)}], Loss: {loss.item():.4f}')\n",
        "\n",
        "print(\"Training complete.\")"
      ],
      "metadata": {
        "colab": {
          "base_uri": "https://localhost:8080/"
        },
        "id": "3l5lM6nZqgdJ",
        "outputId": "e77c9c24-f293-4ed0-ab48-18305b5f36ca"
      },
      "execution_count": 127,
      "outputs": [
        {
          "output_type": "stream",
          "name": "stderr",
          "text": [
            " 30%|███       | 12/40 [00:00<00:00, 55.91it/s]"
          ]
        },
        {
          "output_type": "stream",
          "name": "stdout",
          "text": [
            "Epoch [1/20], Step [0/40], Loss: 1.2051\n"
          ]
        },
        {
          "output_type": "stream",
          "name": "stderr",
          "text": [
            "100%|██████████| 40/40 [00:00<00:00, 60.31it/s]\n",
            " 18%|█▊        | 7/40 [00:00<00:00, 60.26it/s]"
          ]
        },
        {
          "output_type": "stream",
          "name": "stdout",
          "text": [
            "Epoch [2/20], Step [0/40], Loss: 1.0327\n"
          ]
        },
        {
          "output_type": "stream",
          "name": "stderr",
          "text": [
            "100%|██████████| 40/40 [00:00<00:00, 59.66it/s]\n",
            " 18%|█▊        | 7/40 [00:00<00:00, 62.87it/s]"
          ]
        },
        {
          "output_type": "stream",
          "name": "stdout",
          "text": [
            "Epoch [3/20], Step [0/40], Loss: 1.1294\n"
          ]
        },
        {
          "output_type": "stream",
          "name": "stderr",
          "text": [
            "100%|██████████| 40/40 [00:00<00:00, 63.16it/s]\n",
            " 32%|███▎      | 13/40 [00:00<00:00, 60.90it/s]"
          ]
        },
        {
          "output_type": "stream",
          "name": "stdout",
          "text": [
            "Epoch [4/20], Step [0/40], Loss: 1.6043\n"
          ]
        },
        {
          "output_type": "stream",
          "name": "stderr",
          "text": [
            "100%|██████████| 40/40 [00:00<00:00, 63.39it/s]\n",
            " 25%|██▌       | 10/40 [00:00<00:00, 45.81it/s]"
          ]
        },
        {
          "output_type": "stream",
          "name": "stdout",
          "text": [
            "Epoch [5/20], Step [0/40], Loss: 0.6247\n"
          ]
        },
        {
          "output_type": "stream",
          "name": "stderr",
          "text": [
            "100%|██████████| 40/40 [00:00<00:00, 43.46it/s]\n",
            " 25%|██▌       | 10/40 [00:00<00:00, 46.78it/s]"
          ]
        },
        {
          "output_type": "stream",
          "name": "stdout",
          "text": [
            "Epoch [6/20], Step [0/40], Loss: 0.7038\n"
          ]
        },
        {
          "output_type": "stream",
          "name": "stderr",
          "text": [
            "100%|██████████| 40/40 [00:01<00:00, 38.19it/s]\n",
            "  5%|▌         | 2/40 [00:00<00:04,  8.78it/s]"
          ]
        },
        {
          "output_type": "stream",
          "name": "stdout",
          "text": [
            "Epoch [7/20], Step [0/40], Loss: 0.5921\n"
          ]
        },
        {
          "output_type": "stream",
          "name": "stderr",
          "text": [
            "100%|██████████| 40/40 [00:02<00:00, 14.20it/s]\n",
            "  8%|▊         | 3/40 [00:00<00:02, 12.82it/s]"
          ]
        },
        {
          "output_type": "stream",
          "name": "stdout",
          "text": [
            "Epoch [8/20], Step [0/40], Loss: 0.6892\n"
          ]
        },
        {
          "output_type": "stream",
          "name": "stderr",
          "text": [
            "100%|██████████| 40/40 [00:01<00:00, 33.26it/s]\n",
            "  5%|▌         | 2/40 [00:00<00:01, 19.19it/s]"
          ]
        },
        {
          "output_type": "stream",
          "name": "stdout",
          "text": [
            "Epoch [9/20], Step [0/40], Loss: 0.4382\n"
          ]
        },
        {
          "output_type": "stream",
          "name": "stderr",
          "text": [
            "100%|██████████| 40/40 [00:01<00:00, 21.12it/s]\n",
            " 35%|███▌      | 14/40 [00:00<00:00, 64.36it/s]"
          ]
        },
        {
          "output_type": "stream",
          "name": "stdout",
          "text": [
            "Epoch [10/20], Step [0/40], Loss: 0.9136\n"
          ]
        },
        {
          "output_type": "stream",
          "name": "stderr",
          "text": [
            "100%|██████████| 40/40 [00:00<00:00, 63.47it/s]\n",
            " 35%|███▌      | 14/40 [00:00<00:00, 67.20it/s]"
          ]
        },
        {
          "output_type": "stream",
          "name": "stdout",
          "text": [
            "Epoch [11/20], Step [0/40], Loss: 1.7556\n"
          ]
        },
        {
          "output_type": "stream",
          "name": "stderr",
          "text": [
            "100%|██████████| 40/40 [00:00<00:00, 64.04it/s]\n",
            " 18%|█▊        | 7/40 [00:00<00:00, 68.21it/s]"
          ]
        },
        {
          "output_type": "stream",
          "name": "stdout",
          "text": [
            "Epoch [12/20], Step [0/40], Loss: 0.9067\n"
          ]
        },
        {
          "output_type": "stream",
          "name": "stderr",
          "text": [
            "100%|██████████| 40/40 [00:00<00:00, 64.88it/s]\n",
            " 18%|█▊        | 7/40 [00:00<00:00, 66.24it/s]"
          ]
        },
        {
          "output_type": "stream",
          "name": "stdout",
          "text": [
            "Epoch [13/20], Step [0/40], Loss: 1.5183\n"
          ]
        },
        {
          "output_type": "stream",
          "name": "stderr",
          "text": [
            "100%|██████████| 40/40 [00:00<00:00, 63.92it/s]\n",
            " 35%|███▌      | 14/40 [00:00<00:00, 65.29it/s]"
          ]
        },
        {
          "output_type": "stream",
          "name": "stdout",
          "text": [
            "Epoch [14/20], Step [0/40], Loss: 1.7246\n"
          ]
        },
        {
          "output_type": "stream",
          "name": "stderr",
          "text": [
            "100%|██████████| 40/40 [00:00<00:00, 61.63it/s]\n",
            " 35%|███▌      | 14/40 [00:00<00:00, 65.03it/s]"
          ]
        },
        {
          "output_type": "stream",
          "name": "stdout",
          "text": [
            "Epoch [15/20], Step [0/40], Loss: 0.2186\n"
          ]
        },
        {
          "output_type": "stream",
          "name": "stderr",
          "text": [
            "100%|██████████| 40/40 [00:00<00:00, 61.83it/s]\n",
            " 35%|███▌      | 14/40 [00:00<00:00, 64.78it/s]"
          ]
        },
        {
          "output_type": "stream",
          "name": "stdout",
          "text": [
            "Epoch [16/20], Step [0/40], Loss: 0.4571\n"
          ]
        },
        {
          "output_type": "stream",
          "name": "stderr",
          "text": [
            "100%|██████████| 40/40 [00:00<00:00, 61.87it/s]\n",
            " 35%|███▌      | 14/40 [00:00<00:00, 67.49it/s]"
          ]
        },
        {
          "output_type": "stream",
          "name": "stdout",
          "text": [
            "Epoch [17/20], Step [0/40], Loss: 0.6289\n"
          ]
        },
        {
          "output_type": "stream",
          "name": "stderr",
          "text": [
            "100%|██████████| 40/40 [00:00<00:00, 68.26it/s]\n",
            " 18%|█▊        | 7/40 [00:00<00:00, 62.10it/s]"
          ]
        },
        {
          "output_type": "stream",
          "name": "stdout",
          "text": [
            "Epoch [18/20], Step [0/40], Loss: 0.4175\n"
          ]
        },
        {
          "output_type": "stream",
          "name": "stderr",
          "text": [
            "100%|██████████| 40/40 [00:00<00:00, 62.26it/s]\n",
            " 35%|███▌      | 14/40 [00:00<00:00, 66.59it/s]"
          ]
        },
        {
          "output_type": "stream",
          "name": "stdout",
          "text": [
            "Epoch [19/20], Step [0/40], Loss: 0.4208\n"
          ]
        },
        {
          "output_type": "stream",
          "name": "stderr",
          "text": [
            "100%|██████████| 40/40 [00:00<00:00, 60.34it/s]\n",
            " 22%|██▎       | 9/40 [00:00<00:00, 42.92it/s]"
          ]
        },
        {
          "output_type": "stream",
          "name": "stdout",
          "text": [
            "Epoch [20/20], Step [0/40], Loss: 0.0255\n"
          ]
        },
        {
          "output_type": "stream",
          "name": "stderr",
          "text": [
            "100%|██████████| 40/40 [00:00<00:00, 45.68it/s]"
          ]
        },
        {
          "output_type": "stream",
          "name": "stdout",
          "text": [
            "Training complete.\n"
          ]
        },
        {
          "output_type": "stream",
          "name": "stderr",
          "text": [
            "\n"
          ]
        }
      ]
    },
    {
      "cell_type": "code",
      "source": [
        "import torch\n",
        "import matplotlib.pyplot as plt\n",
        "\n",
        "\n",
        "# Sampling an image\n",
        "sampled_image = diff_model.sample(batch_size=4, height=28, width=28)[0][0]\n",
        "sampled_image = sampled_image.view(28, 28).cpu().detach().numpy()\n",
        "\n",
        "# Display the sampled image\n",
        "plt.imshow(sampled_image, cmap='gray')\n",
        "plt.title('Sampled Image from Diffusion Process')\n",
        "plt.show()\n"
      ],
      "metadata": {
        "colab": {
          "base_uri": "https://localhost:8080/",
          "height": 452
        },
        "id": "ImfH7C8-synP",
        "outputId": "31001c30-956c-432c-fd26-2b6c8a34c75d"
      },
      "execution_count": 128,
      "outputs": [
        {
          "output_type": "display_data",
          "data": {
            "text/plain": [
              "<Figure size 640x480 with 1 Axes>"
            ],
            "image/png": "[encoded data removed]"
          },
          "metadata": {}
        }
      ]
    },
    {
      "cell_type": "code",
      "source": [],
      "metadata": {
        "id": "CKGSlvp9_izA"
      },
      "execution_count": null,
      "outputs": []
    }
  ]
}