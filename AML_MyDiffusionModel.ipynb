{
  "nbformat": 4,
  "nbformat_minor": 0,
  "metadata": {
    "colab": {
      "provenance": [],
      "authorship_tag": "ABX9TyPTlh32zuaHb9/WLiCojy5S",
      "include_colab_link": true
    },
    "kernelspec": {
      "name": "python3",
      "display_name": "Python 3"
    },
    "language_info": {
      "name": "python"
    }
  },
  "cells": [
    {
      "cell_type": "markdown",
      "metadata": {
        "id": "view-in-github",
        "colab_type": "text"
      },
      "source": [
        "<a href=\"https://colab.research.google.com/github/carloscotrini/transformers_from_scratch/blob/main/AML_MyDiffusionModel.ipynb\" target=\"_parent\"><img src=\"https://colab.research.google.com/assets/colab-badge.svg\" alt=\"Open In Colab\"/></a>"
      ]
    },
    {
      "cell_type": "code",
      "execution_count": 40,
      "metadata": {
        "id": "8qHQ130lHWM0"
      },
      "outputs": [],
      "source": [
        "import random\n",
        "\n",
        "SHAPES = [\"triangle\", \"circle\"]\n",
        "PLURALS = [shape + \"s\" for shape in SHAPES]\n",
        "ARTICLES = [\"a\", \"one\"]\n",
        "TWO_ARTICLES = [\"two\"]\n",
        "CONNECTORS = [\"and\", \"then\"]\n",
        "REVERSE_CONNECTORS = [\"after\"]\n",
        "CLASS_TOKEN = \"CLS\"\n",
        "MASK_TOKEN = \"MASK\"\n",
        "SEP_TOKEN = \"SEP\"\n",
        "PAD_TOKEN = \"PAD\"\n",
        "EOS_TOKEN = \"EOS\"\n",
        "SPECIAL_TOKENS = [CLASS_TOKEN, MASK_TOKEN, SEP_TOKEN, PAD_TOKEN, EOS_TOKEN]\n",
        "VOCABULARY = SHAPES + PLURALS + ARTICLES + CONNECTORS + REVERSE_CONNECTORS + TWO_ARTICLES + SPECIAL_TOKENS\n",
        "MAX_LEN_SENTENCE = 16 # Maximum possible length of a sequence\n",
        "\n",
        "def generate_random_shapes():\n",
        "  num_shapes = random.randint(1, 4)\n",
        "  result = []\n",
        "  for _ in range(num_shapes):\n",
        "    result.append(random.choice(SHAPES))\n",
        "  return result"
      ]
    },
    {
      "cell_type": "code",
      "source": [
        "import numpy as np\n",
        "import matplotlib.pyplot as plt\n",
        "from PIL import Image, ImageDraw\n",
        "import random\n",
        "\n",
        "def generate_image(word_list, filename, mask_filename):\n",
        "    # Create a blank 32x32 image\n",
        "    image_size = 32\n",
        "    patch_size = 16\n",
        "    image = Image.new(\"1\", (image_size, image_size), 1)  # '1' for 1-bit pixels, black and white\n",
        "    mask = Image.new(\"1\", (image_size, image_size), 1)\n",
        "\n",
        "    for i, word in enumerate(word_list):\n",
        "        if word not in [\"triangle\", \"circle\"]:\n",
        "            continue\n",
        "\n",
        "        # Determine the top-left corner of the patch\n",
        "        x_offset = (i % 2) * patch_size\n",
        "        y_offset = (i // 2) * patch_size\n",
        "\n",
        "        # Draw the shape in the corresponding patch\n",
        "        draw = ImageDraw.Draw(image)\n",
        "        draw_mask = ImageDraw.Draw(mask)\n",
        "        if word == \"triangle\":\n",
        "            points = [(random.randint(x_offset, x_offset + patch_size), random.randint(y_offset, y_offset + patch_size)) for _ in range(3)]\n",
        "            draw.polygon(points, fill=0)\n",
        "            draw_mask.polygon(points, fill=0)\n",
        "        elif word == \"circle\":\n",
        "            radius = random.randint(2, patch_size // 2)\n",
        "            center_x = random.randint(x_offset + radius, x_offset + patch_size - radius)\n",
        "            center_y = random.randint(y_offset + radius, y_offset + patch_size - radius)\n",
        "            draw.ellipse([center_x - radius, center_y - radius, center_x + radius, center_y + radius], fill=0)\n",
        "\n",
        "    # Save the image to the specified filename\n",
        "    image.save(filename)\n",
        "    mask.save(mask_filename)\n",
        "\n",
        "def plot_image(filename):\n",
        "    # Open the image\n",
        "    image = Image.open(filename)\n",
        "\n",
        "    # Convert the image to a NumPy array\n",
        "    image_array = np.array(image)\n",
        "\n",
        "    # Plot the image\n",
        "    plt.imshow(image_array)\n",
        "    plt.axis('off')  # Turn off axis labels\n",
        "    plt.show()\n",
        "\n",
        "# Example usage:\n",
        "generate_image([\"circle\", \"triangle\", \"circle\"], \"output_image.png\", \"masked_output_image.png\")"
      ],
      "metadata": {
        "id": "CC63AEDaHoGz"
      },
      "execution_count": 41,
      "outputs": []
    },
    {
      "cell_type": "code",
      "source": [
        "def generate_data(n_samples):\n",
        "  examples = []\n",
        "  for i in range(n_samples):\n",
        "    shape_list = generate_random_shapes()\n",
        "    filename = f\"f{i}.png\"\n",
        "    mask_filename = f\"m{i}.png\"\n",
        "    generate_image(shape_list, filename, mask_filename)\n",
        "    examples.append({\"shape_list\": shape_list, \"filename\": filename, \"mask_filename\": mask_filename})\n",
        "  return examples"
      ],
      "metadata": {
        "id": "peA6a3sfHuhs"
      },
      "execution_count": 42,
      "outputs": []
    },
    {
      "cell_type": "code",
      "source": [
        "import os\n",
        "import torch\n",
        "import torch.nn as nn\n",
        "import torch.optim as optim\n",
        "from PIL import Image\n",
        "from torch.utils.data import Dataset, DataLoader, Subset\n",
        "import torchvision.transforms as transforms\n",
        "from sklearn.model_selection import train_test_split"
      ],
      "metadata": {
        "id": "V14aZ2GVIJNb"
      },
      "execution_count": 43,
      "outputs": []
    },
    {
      "cell_type": "code",
      "source": [
        "class FigureDataset(Dataset):\n",
        "    def __init__(self, n_samples, image_dir=\".\", transform=None):\n",
        "        self.image_dir = image_dir\n",
        "        self.transform = transform\n",
        "        self.examples = generate_data(n_samples)\n",
        "        self.image_files = [e[\"filename\"] for e in self.examples]\n",
        "\n",
        "    def __len__(self):\n",
        "        return len(self.image_files)\n",
        "\n",
        "    def __getitem__(self, idx):\n",
        "        if torch.is_tensor(idx):\n",
        "            idx = idx.tolist()\n",
        "\n",
        "        img_name = os.path.join(self.image_dir, self.image_files[idx])\n",
        "        image = Image.open(img_name).convert('L')\n",
        "\n",
        "        if self.transform:\n",
        "            image = self.transform(image)\n",
        "\n",
        "        return image"
      ],
      "metadata": {
        "id": "8S4ojjWTIMmQ"
      },
      "execution_count": 44,
      "outputs": []
    },
    {
      "cell_type": "code",
      "source": [
        "import math\n",
        "\n",
        "class MyPositionalEncoding():\n",
        "    def __init__(self, d_model, T):\n",
        "        super(MyPositionalEncoding, self).__init__()\n",
        "\n",
        "        # Create a matrix of shape (max_len, d_model) with all zeros\n",
        "        self.pe = torch.zeros(T + 1, d_model)\n",
        "\n",
        "        # Create a column vector of shape (max_len, 1) with values [0, 1, ..., max_len-1]\n",
        "        position = torch.arange(0, T + 1, dtype=torch.float).unsqueeze(1)\n",
        "\n",
        "        # Create a row vector of shape (1, d_model // 2) with values [0, 1, ..., d_model//2-1]\n",
        "        div_term = torch.exp(torch.arange(0, d_model, 2).float() * (-math.log(10000.0) / d_model))\n",
        "\n",
        "        # Apply sine to even indices and cosine to odd indices\n",
        "        self.pe[:, 0::2] = torch.sin(position * div_term)\n",
        "        self.pe[:, 1::2] = torch.cos(position * div_term)"
      ],
      "metadata": {
        "id": "w0QxMyDb3U-4"
      },
      "execution_count": 59,
      "outputs": []
    },
    {
      "cell_type": "code",
      "source": [
        "class DiffusionModel():\n",
        "\n",
        "  def __init__(self, T, model: nn.Module):\n",
        "    self.betas = torch.sigmoid(torch.linspace(-18, 10, T)) * (3e-1 - 1e-5) + 1e-5\n",
        "    self.alphas = 1 - self.betas\n",
        "    self.alphas_bar = torch.cumprod(self.alphas, 0)\n",
        "\n",
        "    self.T = T\n",
        "    self.model = model\n",
        "\n",
        "  def forward_process(self, x0, t):\n",
        "    \"\"\"\n",
        "    :param t: Number of diffusion steps\n",
        "    \"\"\"\n",
        "\n",
        "    t = t - 1 # Because we start indexing at 0\n",
        "\n",
        "    factors = self.alphas_bar[t].view(self.alphas_bar[t].shape + (1, ) * (len(x0.shape) - 1))\n",
        "    mu = torch.sqrt(factors) * x0\n",
        "    std = torch.sqrt(1 - factors)\n",
        "    epsilon = torch.randn_like(x0)\n",
        "\n",
        "    return mu + epsilon * std # data ~ N(mu, std)\n",
        "\n",
        "  def reverse_process(self, xt, t):\n",
        "    \"\"\"\n",
        "    :param t: Number of diffusion steps\n",
        "    \"\"\"\n",
        "\n",
        "    t = t - 1 # Because we start indexing at 0\n",
        "\n",
        "    z = torch.randn_like(xt)\n",
        "\n",
        "    std = torch.sqrt(self.betas[t])\n",
        "\n",
        "    pred_eps = self.model(xt, t)\n",
        "\n",
        "    alphas = self.alphas[t].view(self.alphas[t].shape, 1, 1, 1)\n",
        "    alphas_bar = self.alphas_bar[t].view(self.alphas_bar[t].shape, 1, 1, 1)\n",
        "\n",
        "\n",
        "    a = (1 / torch.sqrt(self.alphas[t]))\n",
        "    b = (xt - (1 - self.alphas[t]) / torch.sqrt(1 - self.alphas_bar[t]) * pred_eps)\n",
        "    c = std * z\n",
        "    xt_1 = a * b + c\n",
        "\n",
        "    return xt_1\n",
        "\n",
        "  def sample(self, batch_size):\n",
        "    noise = torch.randn((batch_size, self.dim))\n",
        "    x = noise\n",
        "\n",
        "    samples = [x]\n",
        "    for t in range(self.T, 0, -1):\n",
        "\n",
        "        if not (t == 1):\n",
        "            x = self.reverse_process(x, t)\n",
        "\n",
        "        samples.append(x)\n",
        "\n",
        "    return samples[::-1]"
      ],
      "metadata": {
        "id": "IlPEjf_ZIXqb"
      },
      "execution_count": 91,
      "outputs": []
    },
    {
      "cell_type": "code",
      "source": [
        "class ConvBlock(nn.Module):\n",
        "\n",
        "    def __init__(self, in_channels, out_channels, t_emb_dim,\n",
        "                 kernel_size=3, stride=1, padding=1):\n",
        "        super(ConvBlock, self).__init__()\n",
        "        self.conv = nn.Conv2d(in_channels, out_channels,\n",
        "                              kernel_size, stride, padding)\n",
        "        self.norm = nn.BatchNorm2d(out_channels)\n",
        "        self.relu = nn.ReLU(inplace=True)\n",
        "        self.linear = nn.Linear(t_emb_dim, out_channels)\n",
        "        self.t_emb_dim = t_emb_dim\n",
        "        self.pe = MyPositionalEncoding(t_emb_dim, T)\n",
        "\n",
        "    def forward(self, x, t_emb):\n",
        "        x = self.conv(x)\n",
        "        t_emb = self.linear(t_emb)\n",
        "        t_emb = t_emb.view(x.shape[0], x.shape[1], 1, 1)\n",
        "        x += t_emb\n",
        "        x = self.norm(x)\n",
        "        x = self.relu(x)\n",
        "        return x\n",
        "\n",
        "class MyUNet(nn.Module):\n",
        "    def __init__(self, t_emb_dim):\n",
        "        super(MyUNet, self).__init__()\n",
        "\n",
        "        self.enc1 = ConvBlock(1, 4, t_emb_dim)\n",
        "        self.enc2 = ConvBlock(4, 8, t_emb_dim)\n",
        "\n",
        "        self.pool = nn.MaxPool2d(kernel_size=2, stride=2)\n",
        "\n",
        "        self.center = ConvBlock(8, 16, t_emb_dim)\n",
        "\n",
        "        self.up2 = nn.ConvTranspose2d(16, 8, kernel_size=2, stride=2)\n",
        "        self.dec2 = ConvBlock(16, 8, t_emb_dim)\n",
        "        self.up1 = nn.ConvTranspose2d(8, 4, kernel_size=2, stride=2)\n",
        "        self.dec1 = ConvBlock(8, 4, t_emb_dim)\n",
        "\n",
        "        self.final = nn.Conv2d(4, 1, kernel_size=1)\n",
        "\n",
        "        self.t_emb_dim = t_emb_dim\n",
        "        self.pe = MyPositionalEncoding(t_emb_dim, T)\n",
        "\n",
        "    def forward(self, x, t):\n",
        "        t_emb = self.pe.pe[t, :]\n",
        "        enc1 = self.enc1(x, t_emb)\n",
        "        enc2 = self.enc2(self.pool(enc1), t_emb)\n",
        "\n",
        "        center = self.center(self.pool(enc2), t_emb)\n",
        "\n",
        "        dec2 = self.dec2(torch.cat([self.up2(center), enc2], dim=1), t_emb)\n",
        "        dec1 = self.dec1(torch.cat([self.up1(dec2), enc1], dim=1), t_emb)\n",
        "\n",
        "        return torch.sigmoid(self.final(dec1))"
      ],
      "metadata": {
        "id": "BBwpSlGARfAH"
      },
      "execution_count": 92,
      "outputs": []
    },
    {
      "cell_type": "code",
      "source": [
        "from tqdm import tqdm\n",
        "from torch.nn import MSELoss\n",
        "\n",
        "# Training settings\n",
        "batch_size = 4\n",
        "num_epochs = 20\n",
        "learning_rate = 0.001\n",
        "t_emb_dim = 4\n",
        "\n",
        "transform = transforms.Compose([\n",
        "    transforms.ToTensor()\n",
        "])\n",
        "\n",
        "# Create dataset and split into training and testing sets\n",
        "dataset = FigureDataset(\n",
        "    n_samples=200,\n",
        "    image_dir=\".\",\n",
        "    transform=transform\n",
        ")\n",
        "\n",
        "train_indices, test_indices = train_test_split(np.arange(len(dataset)), test_size=0.2, random_state=42)\n",
        "train_dataset = Subset(dataset, train_indices)\n",
        "test_dataset = Subset(dataset, test_indices)\n",
        "\n",
        "train_loader = DataLoader(train_dataset, batch_size=batch_size, shuffle=True)\n",
        "test_loader = DataLoader(test_dataset, batch_size=batch_size, shuffle=False)\n",
        "\n",
        "# Initialize model, loss function, and optimizer\n",
        "device = torch.device('cuda' if torch.cuda.is_available() else 'cpu')\n",
        "unet = MyUNet(t_emb_dim).to(device)\n",
        "T = 100\n",
        "diff_model = DiffusionModel(T=T, model=unet)\n",
        "criterion = MSELoss()\n",
        "optimizer = optim.Adam(unet.parameters(), lr=learning_rate)\n",
        "\n",
        "for epoch in range(num_epochs):\n",
        "  diff_model.model.train()\n",
        "  for i, images in enumerate(tqdm(train_loader)):\n",
        "    images = images.to(device)\n",
        "    t = torch.randint(0, T, (images.size(0),)).to(device)\n",
        "    x_t = diff_model.forward_process(images, t)\n",
        "    x_recon = diff_model.reverse_process(x_t, t)\n",
        "    loss = criterion(x_recon, images)\n",
        "    optimizer.zero_grad()\n",
        "    loss.backward()\n",
        "    optimizer.step()\n",
        "    if i % 100 == 0:\n",
        "      print(f'Epoch [{epoch + 1}/{num_epochs}], Step [{i}/{len(train_loader)}], Loss: {loss.item():.4f}')\n",
        "\n",
        "print(\"Training complete.\")"
      ],
      "metadata": {
        "colab": {
          "base_uri": "https://localhost:8080/",
          "height": 441
        },
        "id": "3l5lM6nZqgdJ",
        "outputId": "9c12b73b-11c2-4b00-e4d1-635000950b1e"
      },
      "execution_count": 93,
      "outputs": [
        {
          "output_type": "stream",
          "name": "stderr",
          "text": [
            "  0%|          | 0/40 [00:00<?, ?it/s]"
          ]
        },
        {
          "output_type": "stream",
          "name": "stdout",
          "text": [
            "torch.Size([4])\n",
            "torch.Size([4])\n",
            "torch.Size([4, 1, 32, 32])\n",
            "torch.Size([4, 1, 32, 32])\n"
          ]
        },
        {
          "output_type": "stream",
          "name": "stderr",
          "text": [
            "\n"
          ]
        },
        {
          "output_type": "error",
          "ename": "RuntimeError",
          "evalue": "The size of tensor a (4) must match the size of tensor b (32) at non-singleton dimension 3",
          "traceback": [
            "\u001b[0;31m---------------------------------------------------------------------------\u001b[0m",
            "\u001b[0;31mRuntimeError\u001b[0m                              Traceback (most recent call last)",
            "\u001b[0;32m<ipython-input-93-43eba2cd9d24>\u001b[0m in \u001b[0;36m<cell line: 36>\u001b[0;34m()\u001b[0m\n\u001b[1;32m     40\u001b[0m     \u001b[0mt\u001b[0m \u001b[0;34m=\u001b[0m \u001b[0mtorch\u001b[0m\u001b[0;34m.\u001b[0m\u001b[0mrandint\u001b[0m\u001b[0;34m(\u001b[0m\u001b[0;36m0\u001b[0m\u001b[0;34m,\u001b[0m \u001b[0mT\u001b[0m\u001b[0;34m,\u001b[0m \u001b[0;34m(\u001b[0m\u001b[0mimages\u001b[0m\u001b[0;34m.\u001b[0m\u001b[0msize\u001b[0m\u001b[0;34m(\u001b[0m\u001b[0;36m0\u001b[0m\u001b[0;34m)\u001b[0m\u001b[0;34m,\u001b[0m\u001b[0;34m)\u001b[0m\u001b[0;34m)\u001b[0m\u001b[0;34m.\u001b[0m\u001b[0mto\u001b[0m\u001b[0;34m(\u001b[0m\u001b[0mdevice\u001b[0m\u001b[0;34m)\u001b[0m\u001b[0;34m\u001b[0m\u001b[0;34m\u001b[0m\u001b[0m\n\u001b[1;32m     41\u001b[0m     \u001b[0mx_t\u001b[0m \u001b[0;34m=\u001b[0m \u001b[0mdiff_model\u001b[0m\u001b[0;34m.\u001b[0m\u001b[0mforward_process\u001b[0m\u001b[0;34m(\u001b[0m\u001b[0mimages\u001b[0m\u001b[0;34m,\u001b[0m \u001b[0mt\u001b[0m\u001b[0;34m)\u001b[0m\u001b[0;34m\u001b[0m\u001b[0;34m\u001b[0m\u001b[0m\n\u001b[0;32m---> 42\u001b[0;31m     \u001b[0mx_recon\u001b[0m \u001b[0;34m=\u001b[0m \u001b[0mdiff_model\u001b[0m\u001b[0;34m.\u001b[0m\u001b[0mreverse_process\u001b[0m\u001b[0;34m(\u001b[0m\u001b[0mx_t\u001b[0m\u001b[0;34m,\u001b[0m \u001b[0mt\u001b[0m\u001b[0;34m)\u001b[0m\u001b[0;34m\u001b[0m\u001b[0;34m\u001b[0m\u001b[0m\n\u001b[0m\u001b[1;32m     43\u001b[0m     \u001b[0mloss\u001b[0m \u001b[0;34m=\u001b[0m \u001b[0mcriterion\u001b[0m\u001b[0;34m(\u001b[0m\u001b[0mx_recon\u001b[0m\u001b[0;34m,\u001b[0m \u001b[0mimages\u001b[0m\u001b[0;34m)\u001b[0m\u001b[0;34m\u001b[0m\u001b[0;34m\u001b[0m\u001b[0m\n\u001b[1;32m     44\u001b[0m     \u001b[0moptimizer\u001b[0m\u001b[0;34m.\u001b[0m\u001b[0mzero_grad\u001b[0m\u001b[0;34m(\u001b[0m\u001b[0;34m)\u001b[0m\u001b[0;34m\u001b[0m\u001b[0;34m\u001b[0m\u001b[0m\n",
            "\u001b[0;32m<ipython-input-91-84c07a590df1>\u001b[0m in \u001b[0;36mreverse_process\u001b[0;34m(self, xt, t)\u001b[0m\n\u001b[1;32m     41\u001b[0m \u001b[0;34m\u001b[0m\u001b[0m\n\u001b[1;32m     42\u001b[0m     \u001b[0ma\u001b[0m \u001b[0;34m=\u001b[0m \u001b[0;34m(\u001b[0m\u001b[0;36m1\u001b[0m \u001b[0;34m/\u001b[0m \u001b[0mtorch\u001b[0m\u001b[0;34m.\u001b[0m\u001b[0msqrt\u001b[0m\u001b[0;34m(\u001b[0m\u001b[0mself\u001b[0m\u001b[0;34m.\u001b[0m\u001b[0malphas\u001b[0m\u001b[0;34m[\u001b[0m\u001b[0mt\u001b[0m\u001b[0;34m]\u001b[0m\u001b[0;34m)\u001b[0m\u001b[0;34m)\u001b[0m\u001b[0;34m\u001b[0m\u001b[0;34m\u001b[0m\u001b[0m\n\u001b[0;32m---> 43\u001b[0;31m     \u001b[0mb\u001b[0m \u001b[0;34m=\u001b[0m \u001b[0;34m(\u001b[0m\u001b[0mxt\u001b[0m \u001b[0;34m-\u001b[0m \u001b[0;34m(\u001b[0m\u001b[0;36m1\u001b[0m \u001b[0;34m-\u001b[0m \u001b[0mself\u001b[0m\u001b[0;34m.\u001b[0m\u001b[0malphas\u001b[0m\u001b[0;34m[\u001b[0m\u001b[0mt\u001b[0m\u001b[0;34m]\u001b[0m\u001b[0;34m)\u001b[0m \u001b[0;34m/\u001b[0m \u001b[0mtorch\u001b[0m\u001b[0;34m.\u001b[0m\u001b[0msqrt\u001b[0m\u001b[0;34m(\u001b[0m\u001b[0;36m1\u001b[0m \u001b[0;34m-\u001b[0m \u001b[0mself\u001b[0m\u001b[0;34m.\u001b[0m\u001b[0malphas_bar\u001b[0m\u001b[0;34m[\u001b[0m\u001b[0mt\u001b[0m\u001b[0;34m]\u001b[0m\u001b[0;34m)\u001b[0m \u001b[0;34m*\u001b[0m \u001b[0mpred_eps\u001b[0m\u001b[0;34m)\u001b[0m\u001b[0;34m\u001b[0m\u001b[0;34m\u001b[0m\u001b[0m\n\u001b[0m\u001b[1;32m     44\u001b[0m     \u001b[0mc\u001b[0m \u001b[0;34m=\u001b[0m \u001b[0mstd\u001b[0m \u001b[0;34m*\u001b[0m \u001b[0mz\u001b[0m\u001b[0;34m\u001b[0m\u001b[0;34m\u001b[0m\u001b[0m\n\u001b[1;32m     45\u001b[0m     \u001b[0mxt_1\u001b[0m \u001b[0;34m=\u001b[0m \u001b[0ma\u001b[0m \u001b[0;34m*\u001b[0m \u001b[0mb\u001b[0m \u001b[0;34m+\u001b[0m \u001b[0mc\u001b[0m\u001b[0;34m\u001b[0m\u001b[0;34m\u001b[0m\u001b[0m\n",
            "\u001b[0;31mRuntimeError\u001b[0m: The size of tensor a (4) must match the size of tensor b (32) at non-singleton dimension 3"
          ]
        }
      ]
    },
    {
      "cell_type": "code",
      "source": [
        "import torch\n",
        "import matplotlib.pyplot as plt\n",
        "\n",
        "# Define the reverse process function\n",
        "def reverse_process_sample(model, x_t, t):\n",
        "    pred_noise = model(x_t, t)\n",
        "    return (x_t - pred_noise * torch.sqrt(beta[t])) / torch.sqrt(1 - beta[t])\n",
        "\n",
        "# Function to perform the reverse diffusion process\n",
        "def sample_from_diffusion(model, timesteps, image_size):\n",
        "    # Start from pure noise\n",
        "    x_t = torch.randn(1, image_size).cuda()\n",
        "\n",
        "    # Iteratively denoise the image\n",
        "    for t in reversed(range(timesteps)):\n",
        "        t_tensor = torch.tensor([t]).cuda()\n",
        "        x_t = reverse_process_sample(model, x_t, t_tensor)\n",
        "\n",
        "    return x_t\n",
        "\n",
        "# Sampling an image\n",
        "sampled_image = sample_from_diffusion(model, timesteps, image_size)\n",
        "sampled_image = sampled_image.view(28, 28).cpu().detach().numpy()\n",
        "\n",
        "# Display the sampled image\n",
        "plt.imshow(sampled_image, cmap='gray')\n",
        "plt.title('Sampled Image from Diffusion Process')\n",
        "plt.show()\n"
      ],
      "metadata": {
        "id": "ImfH7C8-synP"
      },
      "execution_count": null,
      "outputs": []
    }
  ]
}